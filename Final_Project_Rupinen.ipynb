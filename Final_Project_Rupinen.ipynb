{
  "nbformat": 4,
  "nbformat_minor": 0,
  "metadata": {
    "colab": {
      "provenance": [],
      "collapsed_sections": [
        "7HPXMqwCpIew",
        "EOasJtLmpVJV",
        "rzTMp_fPpsUE",
        "Gh2FcjIppxrr",
        "8EVlkpbmqoGQ",
        "W3j94IbtxLHb",
        "_oIkJUIFyrB_",
        "4-RlqGFaaanD"
      ],
      "authorship_tag": "ABX9TyNEGC4hFW7bn21jlAHmPSAz",
      "include_colab_link": true
    },
    "kernelspec": {
      "name": "python3",
      "display_name": "Python 3"
    },
    "language_info": {
      "name": "python"
    }
  },
  "cells": [
    {
      "cell_type": "markdown",
      "metadata": {
        "id": "view-in-github",
        "colab_type": "text"
      },
      "source": [
        "<a href=\"https://colab.research.google.com/github/kerupinen/Compdb_final_repo/blob/main/Final_Project_Rupinen.ipynb\" target=\"_parent\"><img src=\"https://colab.research.google.com/assets/colab-badge.svg\" alt=\"Open In Colab\"/></a>"
      ]
    },
    {
      "cell_type": "markdown",
      "source": [
        "##Installing and Connecting to Database"
      ],
      "metadata": {
        "id": "7HPXMqwCpIew"
      }
    },
    {
      "cell_type": "code",
      "execution_count": 95,
      "metadata": {
        "colab": {
          "base_uri": "https://localhost:8080/"
        },
        "id": "7PeEbPfl2MXd",
        "outputId": "4627ef9e-858b-4cd7-91bf-d9c978afbcc2"
      },
      "outputs": [
        {
          "output_type": "stream",
          "name": "stdout",
          "text": [
            "Requirement already satisfied: pymongo in /usr/local/lib/python3.10/dist-packages (4.6.3)\n",
            "Requirement already satisfied: dnspython<3.0.0,>=1.16.0 in /usr/local/lib/python3.10/dist-packages (from pymongo) (2.6.1)\n"
          ]
        }
      ],
      "source": [
        "pip install pymongo"
      ]
    },
    {
      "cell_type": "code",
      "source": [
        "import pymongo\n",
        "from pymongo import MongoClient\n",
        "\n",
        "client = pymongo.MongoClient(host='3.230.203.12',  # host is the hostname for the database\n",
        "                                port=27018,  # port is the port number that mongo is running on\n",
        "                                username='compdb_student',  # username for the db\n",
        "                                password='compdbpass',  # password for the db\n",
        "                                authSource='admin')  # Since our user only exists for the emse6992 db, we need to specify this\n",
        "\n",
        "# Setup collections and connections\n",
        "db = client.twitter\n",
        "stats_coll = db.twitter_statuses\n",
        "retweets_coll = db.twitter_retweets\n",
        "favs_coll = db.twitter_favorites\n",
        "lists_coll = db.twitter_lists_updated\n",
        "friends_coll = db.twitter_friends_updated\n"
      ],
      "metadata": {
        "id": "C8RFAeu32Rj1"
      },
      "execution_count": 96,
      "outputs": []
    },
    {
      "cell_type": "code",
      "source": [
        "import psycopg2\n",
        "import psycopg2.extras\n",
        "import pandas as pd\n",
        "\n",
        "# Connect to the database\n",
        "connection = psycopg2.connect(host='3.230.203.12',\n",
        "                             user='compdb',\n",
        "                             port=5438,\n",
        "                             database='twitter',\n",
        "                             password='compdbs_postgres')\n",
        "connection.set_session(readonly=True, autocommit=True)\n",
        "\n",
        "cursor = connection.cursor(cursor_factory = psycopg2.extras.RealDictCursor)"
      ],
      "metadata": {
        "id": "Bk_U6kGG2Sf_"
      },
      "execution_count": 97,
      "outputs": []
    },
    {
      "cell_type": "markdown",
      "source": [
        "#Work"
      ],
      "metadata": {
        "id": "5LkiD8xjpQwg"
      }
    },
    {
      "cell_type": "markdown",
      "source": [
        "##Tweets per weekday"
      ],
      "metadata": {
        "id": "EOasJtLmpVJV"
      }
    },
    {
      "cell_type": "code",
      "source": [
        "x = 1\n",
        "weekdayCountList=[]\n",
        "total = 0\n",
        "ototal = 0\n",
        "while x < 8:\n",
        "    query = \"SELECT count(distinct(statuses)) FROM twitter.statuses WHERE extract(isodow FROM created_date) = '%d'\" % x\n",
        "    cursor.execute(query) #Executing query\n",
        "    res = cursor.fetchall()\n",
        "\n",
        "    weekdayCountList.append([x,res[0]['count']])\n",
        "\n",
        "    x=x+1\n",
        "\n",
        "\n",
        "print(weekdayCountList)\n"
      ],
      "metadata": {
        "colab": {
          "base_uri": "https://localhost:8080/"
        },
        "id": "wcIBJodU9-vW",
        "outputId": "56941c14-9bee-4973-9d49-1855d81be4a8"
      },
      "execution_count": 98,
      "outputs": [
        {
          "output_type": "stream",
          "name": "stdout",
          "text": [
            "[[1, 6618], [2, 6264], [3, 6684], [4, 6647], [5, 6729], [6, 5172], [7, 4717]]\n"
          ]
        }
      ]
    },
    {
      "cell_type": "code",
      "source": [
        "import plotly.express as px\n",
        "fig = px.bar(weekdayCountList, x=0, y=1, title = \"Tweets by weekday\",labels={'0':'Day of Week','1':'Number of Tweets'}, range_y=(4000,7000))\n",
        "fig.show()"
      ],
      "metadata": {
        "colab": {
          "base_uri": "https://localhost:8080/",
          "height": 542
        },
        "id": "-BRNWhk7CqXj",
        "outputId": "c3cab994-ae6c-43db-e36e-3500a2441383"
      },
      "execution_count": 99,
      "outputs": [
        {
          "output_type": "display_data",
          "data": {
            "text/html": [
              "<html>\n",
              "<head><meta charset=\"utf-8\" /></head>\n",
              "<body>\n",
              "    <div>            <script src=\"https://cdnjs.cloudflare.com/ajax/libs/mathjax/2.7.5/MathJax.js?config=TeX-AMS-MML_SVG\"></script><script type=\"text/javascript\">if (window.MathJax && window.MathJax.Hub && window.MathJax.Hub.Config) {window.MathJax.Hub.Config({SVG: {font: \"STIX-Web\"}});}</script>                <script type=\"text/javascript\">window.PlotlyConfig = {MathJaxConfig: 'local'};</script>\n",
              "        <script charset=\"utf-8\" src=\"https://cdn.plot.ly/plotly-2.24.1.min.js\"></script>                <div id=\"7fd9fb8f-de53-4726-b6aa-04670a84e2f0\" class=\"plotly-graph-div\" style=\"height:525px; width:100%;\"></div>            <script type=\"text/javascript\">                                    window.PLOTLYENV=window.PLOTLYENV || {};                                    if (document.getElementById(\"7fd9fb8f-de53-4726-b6aa-04670a84e2f0\")) {                    Plotly.newPlot(                        \"7fd9fb8f-de53-4726-b6aa-04670a84e2f0\",                        [{\"alignmentgroup\":\"True\",\"hovertemplate\":\"Day of Week=%{x}\\u003cbr\\u003eNumber of Tweets=%{y}\\u003cextra\\u003e\\u003c\\u002fextra\\u003e\",\"legendgroup\":\"\",\"marker\":{\"color\":\"#636efa\",\"pattern\":{\"shape\":\"\"}},\"name\":\"\",\"offsetgroup\":\"\",\"orientation\":\"v\",\"showlegend\":false,\"textposition\":\"auto\",\"x\":[1,2,3,4,5,6,7],\"xaxis\":\"x\",\"y\":[6618,6264,6684,6647,6729,5172,4717],\"yaxis\":\"y\",\"type\":\"bar\"}],                        {\"template\":{\"data\":{\"histogram2dcontour\":[{\"type\":\"histogram2dcontour\",\"colorbar\":{\"outlinewidth\":0,\"ticks\":\"\"},\"colorscale\":[[0.0,\"#0d0887\"],[0.1111111111111111,\"#46039f\"],[0.2222222222222222,\"#7201a8\"],[0.3333333333333333,\"#9c179e\"],[0.4444444444444444,\"#bd3786\"],[0.5555555555555556,\"#d8576b\"],[0.6666666666666666,\"#ed7953\"],[0.7777777777777778,\"#fb9f3a\"],[0.8888888888888888,\"#fdca26\"],[1.0,\"#f0f921\"]]}],\"choropleth\":[{\"type\":\"choropleth\",\"colorbar\":{\"outlinewidth\":0,\"ticks\":\"\"}}],\"histogram2d\":[{\"type\":\"histogram2d\",\"colorbar\":{\"outlinewidth\":0,\"ticks\":\"\"},\"colorscale\":[[0.0,\"#0d0887\"],[0.1111111111111111,\"#46039f\"],[0.2222222222222222,\"#7201a8\"],[0.3333333333333333,\"#9c179e\"],[0.4444444444444444,\"#bd3786\"],[0.5555555555555556,\"#d8576b\"],[0.6666666666666666,\"#ed7953\"],[0.7777777777777778,\"#fb9f3a\"],[0.8888888888888888,\"#fdca26\"],[1.0,\"#f0f921\"]]}],\"heatmap\":[{\"type\":\"heatmap\",\"colorbar\":{\"outlinewidth\":0,\"ticks\":\"\"},\"colorscale\":[[0.0,\"#0d0887\"],[0.1111111111111111,\"#46039f\"],[0.2222222222222222,\"#7201a8\"],[0.3333333333333333,\"#9c179e\"],[0.4444444444444444,\"#bd3786\"],[0.5555555555555556,\"#d8576b\"],[0.6666666666666666,\"#ed7953\"],[0.7777777777777778,\"#fb9f3a\"],[0.8888888888888888,\"#fdca26\"],[1.0,\"#f0f921\"]]}],\"heatmapgl\":[{\"type\":\"heatmapgl\",\"colorbar\":{\"outlinewidth\":0,\"ticks\":\"\"},\"colorscale\":[[0.0,\"#0d0887\"],[0.1111111111111111,\"#46039f\"],[0.2222222222222222,\"#7201a8\"],[0.3333333333333333,\"#9c179e\"],[0.4444444444444444,\"#bd3786\"],[0.5555555555555556,\"#d8576b\"],[0.6666666666666666,\"#ed7953\"],[0.7777777777777778,\"#fb9f3a\"],[0.8888888888888888,\"#fdca26\"],[1.0,\"#f0f921\"]]}],\"contourcarpet\":[{\"type\":\"contourcarpet\",\"colorbar\":{\"outlinewidth\":0,\"ticks\":\"\"}}],\"contour\":[{\"type\":\"contour\",\"colorbar\":{\"outlinewidth\":0,\"ticks\":\"\"},\"colorscale\":[[0.0,\"#0d0887\"],[0.1111111111111111,\"#46039f\"],[0.2222222222222222,\"#7201a8\"],[0.3333333333333333,\"#9c179e\"],[0.4444444444444444,\"#bd3786\"],[0.5555555555555556,\"#d8576b\"],[0.6666666666666666,\"#ed7953\"],[0.7777777777777778,\"#fb9f3a\"],[0.8888888888888888,\"#fdca26\"],[1.0,\"#f0f921\"]]}],\"surface\":[{\"type\":\"surface\",\"colorbar\":{\"outlinewidth\":0,\"ticks\":\"\"},\"colorscale\":[[0.0,\"#0d0887\"],[0.1111111111111111,\"#46039f\"],[0.2222222222222222,\"#7201a8\"],[0.3333333333333333,\"#9c179e\"],[0.4444444444444444,\"#bd3786\"],[0.5555555555555556,\"#d8576b\"],[0.6666666666666666,\"#ed7953\"],[0.7777777777777778,\"#fb9f3a\"],[0.8888888888888888,\"#fdca26\"],[1.0,\"#f0f921\"]]}],\"mesh3d\":[{\"type\":\"mesh3d\",\"colorbar\":{\"outlinewidth\":0,\"ticks\":\"\"}}],\"scatter\":[{\"fillpattern\":{\"fillmode\":\"overlay\",\"size\":10,\"solidity\":0.2},\"type\":\"scatter\"}],\"parcoords\":[{\"type\":\"parcoords\",\"line\":{\"colorbar\":{\"outlinewidth\":0,\"ticks\":\"\"}}}],\"scatterpolargl\":[{\"type\":\"scatterpolargl\",\"marker\":{\"colorbar\":{\"outlinewidth\":0,\"ticks\":\"\"}}}],\"bar\":[{\"error_x\":{\"color\":\"#2a3f5f\"},\"error_y\":{\"color\":\"#2a3f5f\"},\"marker\":{\"line\":{\"color\":\"#E5ECF6\",\"width\":0.5},\"pattern\":{\"fillmode\":\"overlay\",\"size\":10,\"solidity\":0.2}},\"type\":\"bar\"}],\"scattergeo\":[{\"type\":\"scattergeo\",\"marker\":{\"colorbar\":{\"outlinewidth\":0,\"ticks\":\"\"}}}],\"scatterpolar\":[{\"type\":\"scatterpolar\",\"marker\":{\"colorbar\":{\"outlinewidth\":0,\"ticks\":\"\"}}}],\"histogram\":[{\"marker\":{\"pattern\":{\"fillmode\":\"overlay\",\"size\":10,\"solidity\":0.2}},\"type\":\"histogram\"}],\"scattergl\":[{\"type\":\"scattergl\",\"marker\":{\"colorbar\":{\"outlinewidth\":0,\"ticks\":\"\"}}}],\"scatter3d\":[{\"type\":\"scatter3d\",\"line\":{\"colorbar\":{\"outlinewidth\":0,\"ticks\":\"\"}},\"marker\":{\"colorbar\":{\"outlinewidth\":0,\"ticks\":\"\"}}}],\"scattermapbox\":[{\"type\":\"scattermapbox\",\"marker\":{\"colorbar\":{\"outlinewidth\":0,\"ticks\":\"\"}}}],\"scatterternary\":[{\"type\":\"scatterternary\",\"marker\":{\"colorbar\":{\"outlinewidth\":0,\"ticks\":\"\"}}}],\"scattercarpet\":[{\"type\":\"scattercarpet\",\"marker\":{\"colorbar\":{\"outlinewidth\":0,\"ticks\":\"\"}}}],\"carpet\":[{\"aaxis\":{\"endlinecolor\":\"#2a3f5f\",\"gridcolor\":\"white\",\"linecolor\":\"white\",\"minorgridcolor\":\"white\",\"startlinecolor\":\"#2a3f5f\"},\"baxis\":{\"endlinecolor\":\"#2a3f5f\",\"gridcolor\":\"white\",\"linecolor\":\"white\",\"minorgridcolor\":\"white\",\"startlinecolor\":\"#2a3f5f\"},\"type\":\"carpet\"}],\"table\":[{\"cells\":{\"fill\":{\"color\":\"#EBF0F8\"},\"line\":{\"color\":\"white\"}},\"header\":{\"fill\":{\"color\":\"#C8D4E3\"},\"line\":{\"color\":\"white\"}},\"type\":\"table\"}],\"barpolar\":[{\"marker\":{\"line\":{\"color\":\"#E5ECF6\",\"width\":0.5},\"pattern\":{\"fillmode\":\"overlay\",\"size\":10,\"solidity\":0.2}},\"type\":\"barpolar\"}],\"pie\":[{\"automargin\":true,\"type\":\"pie\"}]},\"layout\":{\"autotypenumbers\":\"strict\",\"colorway\":[\"#636efa\",\"#EF553B\",\"#00cc96\",\"#ab63fa\",\"#FFA15A\",\"#19d3f3\",\"#FF6692\",\"#B6E880\",\"#FF97FF\",\"#FECB52\"],\"font\":{\"color\":\"#2a3f5f\"},\"hovermode\":\"closest\",\"hoverlabel\":{\"align\":\"left\"},\"paper_bgcolor\":\"white\",\"plot_bgcolor\":\"#E5ECF6\",\"polar\":{\"bgcolor\":\"#E5ECF6\",\"angularaxis\":{\"gridcolor\":\"white\",\"linecolor\":\"white\",\"ticks\":\"\"},\"radialaxis\":{\"gridcolor\":\"white\",\"linecolor\":\"white\",\"ticks\":\"\"}},\"ternary\":{\"bgcolor\":\"#E5ECF6\",\"aaxis\":{\"gridcolor\":\"white\",\"linecolor\":\"white\",\"ticks\":\"\"},\"baxis\":{\"gridcolor\":\"white\",\"linecolor\":\"white\",\"ticks\":\"\"},\"caxis\":{\"gridcolor\":\"white\",\"linecolor\":\"white\",\"ticks\":\"\"}},\"coloraxis\":{\"colorbar\":{\"outlinewidth\":0,\"ticks\":\"\"}},\"colorscale\":{\"sequential\":[[0.0,\"#0d0887\"],[0.1111111111111111,\"#46039f\"],[0.2222222222222222,\"#7201a8\"],[0.3333333333333333,\"#9c179e\"],[0.4444444444444444,\"#bd3786\"],[0.5555555555555556,\"#d8576b\"],[0.6666666666666666,\"#ed7953\"],[0.7777777777777778,\"#fb9f3a\"],[0.8888888888888888,\"#fdca26\"],[1.0,\"#f0f921\"]],\"sequentialminus\":[[0.0,\"#0d0887\"],[0.1111111111111111,\"#46039f\"],[0.2222222222222222,\"#7201a8\"],[0.3333333333333333,\"#9c179e\"],[0.4444444444444444,\"#bd3786\"],[0.5555555555555556,\"#d8576b\"],[0.6666666666666666,\"#ed7953\"],[0.7777777777777778,\"#fb9f3a\"],[0.8888888888888888,\"#fdca26\"],[1.0,\"#f0f921\"]],\"diverging\":[[0,\"#8e0152\"],[0.1,\"#c51b7d\"],[0.2,\"#de77ae\"],[0.3,\"#f1b6da\"],[0.4,\"#fde0ef\"],[0.5,\"#f7f7f7\"],[0.6,\"#e6f5d0\"],[0.7,\"#b8e186\"],[0.8,\"#7fbc41\"],[0.9,\"#4d9221\"],[1,\"#276419\"]]},\"xaxis\":{\"gridcolor\":\"white\",\"linecolor\":\"white\",\"ticks\":\"\",\"title\":{\"standoff\":15},\"zerolinecolor\":\"white\",\"automargin\":true,\"zerolinewidth\":2},\"yaxis\":{\"gridcolor\":\"white\",\"linecolor\":\"white\",\"ticks\":\"\",\"title\":{\"standoff\":15},\"zerolinecolor\":\"white\",\"automargin\":true,\"zerolinewidth\":2},\"scene\":{\"xaxis\":{\"backgroundcolor\":\"#E5ECF6\",\"gridcolor\":\"white\",\"linecolor\":\"white\",\"showbackground\":true,\"ticks\":\"\",\"zerolinecolor\":\"white\",\"gridwidth\":2},\"yaxis\":{\"backgroundcolor\":\"#E5ECF6\",\"gridcolor\":\"white\",\"linecolor\":\"white\",\"showbackground\":true,\"ticks\":\"\",\"zerolinecolor\":\"white\",\"gridwidth\":2},\"zaxis\":{\"backgroundcolor\":\"#E5ECF6\",\"gridcolor\":\"white\",\"linecolor\":\"white\",\"showbackground\":true,\"ticks\":\"\",\"zerolinecolor\":\"white\",\"gridwidth\":2}},\"shapedefaults\":{\"line\":{\"color\":\"#2a3f5f\"}},\"annotationdefaults\":{\"arrowcolor\":\"#2a3f5f\",\"arrowhead\":0,\"arrowwidth\":1},\"geo\":{\"bgcolor\":\"white\",\"landcolor\":\"#E5ECF6\",\"subunitcolor\":\"white\",\"showland\":true,\"showlakes\":true,\"lakecolor\":\"white\"},\"title\":{\"x\":0.05},\"mapbox\":{\"style\":\"light\"}}},\"xaxis\":{\"anchor\":\"y\",\"domain\":[0.0,1.0],\"title\":{\"text\":\"Day of Week\"}},\"yaxis\":{\"anchor\":\"x\",\"domain\":[0.0,1.0],\"title\":{\"text\":\"Number of Tweets\"},\"range\":[4000,7000]},\"legend\":{\"tracegroupgap\":0},\"title\":{\"text\":\"Tweets by weekday\"},\"barmode\":\"relative\"},                        {\"responsive\": true}                    ).then(function(){\n",
              "                            \n",
              "var gd = document.getElementById('7fd9fb8f-de53-4726-b6aa-04670a84e2f0');\n",
              "var x = new MutationObserver(function (mutations, observer) {{\n",
              "        var display = window.getComputedStyle(gd).display;\n",
              "        if (!display || display === 'none') {{\n",
              "            console.log([gd, 'removed!']);\n",
              "            Plotly.purge(gd);\n",
              "            observer.disconnect();\n",
              "        }}\n",
              "}});\n",
              "\n",
              "// Listen for the removal of the full notebook cells\n",
              "var notebookContainer = gd.closest('#notebook-container');\n",
              "if (notebookContainer) {{\n",
              "    x.observe(notebookContainer, {childList: true});\n",
              "}}\n",
              "\n",
              "// Listen for the clearing of the current output cell\n",
              "var outputEl = gd.closest('.output');\n",
              "if (outputEl) {{\n",
              "    x.observe(outputEl, {childList: true});\n",
              "}}\n",
              "\n",
              "                        })                };                            </script>        </div>\n",
              "</body>\n",
              "</html>"
            ]
          },
          "metadata": {}
        }
      ]
    },
    {
      "cell_type": "markdown",
      "source": [
        "##Retweets and Likes per weekday"
      ],
      "metadata": {
        "id": "rzTMp_fPpsUE"
      }
    },
    {
      "cell_type": "code",
      "source": [
        "x = 1\n",
        "weekDayTotals=[]\n",
        "total = 0\n",
        "ototal = 0\n",
        "while x < 8:\n",
        "    query = \"SELECT distinct(status_id),favorites_count FROM twitter.statuses WHERE extract(isodow FROM created_date) = '%d'\" % x\n",
        "    cursor.execute(query) #Executing query\n",
        "    res = cursor.fetchall()\n",
        "\n",
        "    for i in res:\n",
        "        total = total+i['favorites_count']\n",
        "\n",
        "    query = \"SELECT distinct(status_id),retweet_count FROM twitter.statuses WHERE extract(isodow FROM created_date) = '%d'\" % x\n",
        "    cursor.execute(query) #Executing query\n",
        "    res = cursor.fetchall()\n",
        "\n",
        "    for w in res:\n",
        "        ototal = ototal+w['retweet_count']\n",
        "\n",
        "    weekDayTotals.append([x,total,ototal])\n",
        "    x=x+1\n",
        "    ototal=0\n",
        "    total=0\n",
        "\n",
        "\n",
        "print(weekDayTotals)"
      ],
      "metadata": {
        "colab": {
          "base_uri": "https://localhost:8080/"
        },
        "id": "gos0S4gZrBnb",
        "outputId": "2eec9fac-3060-422e-ba32-0aac4f824748"
      },
      "execution_count": 100,
      "outputs": [
        {
          "output_type": "stream",
          "name": "stdout",
          "text": [
            "[[1, 18805170, 8095532], [2, 20967480, 8806093], [3, 22649066, 11023208], [4, 21073340, 11227533], [5, 28259773, 11119761], [6, 20573004, 16762835], [7, 22489203, 8907312]]\n"
          ]
        }
      ]
    },
    {
      "cell_type": "code",
      "source": [
        "retweetday = []\n",
        "likesday = []\n",
        "x=1\n",
        "for i in weekDayTotals:\n",
        "    retweetday.append([x,i[2]])\n",
        "    likesday.append([x,i[1]])\n",
        "\n",
        "    x=x+1"
      ],
      "metadata": {
        "id": "72O2h_IyrOaV"
      },
      "execution_count": 101,
      "outputs": []
    },
    {
      "cell_type": "code",
      "source": [
        "fig = px.bar(retweetday, x=0, y=1, title = \"retweets by weekday\",labels={'0':'Day of Week','1':'Like per Tweet'}, range_y=(0,20000000))\n",
        "fig.show()"
      ],
      "metadata": {
        "colab": {
          "base_uri": "https://localhost:8080/",
          "height": 542
        },
        "id": "6VEJVPXqg6HB",
        "outputId": "29c68540-ac73-4ff4-f5e3-8156692effde"
      },
      "execution_count": 102,
      "outputs": [
        {
          "output_type": "display_data",
          "data": {
            "text/html": [
              "<html>\n",
              "<head><meta charset=\"utf-8\" /></head>\n",
              "<body>\n",
              "    <div>            <script src=\"https://cdnjs.cloudflare.com/ajax/libs/mathjax/2.7.5/MathJax.js?config=TeX-AMS-MML_SVG\"></script><script type=\"text/javascript\">if (window.MathJax && window.MathJax.Hub && window.MathJax.Hub.Config) {window.MathJax.Hub.Config({SVG: {font: \"STIX-Web\"}});}</script>                <script type=\"text/javascript\">window.PlotlyConfig = {MathJaxConfig: 'local'};</script>\n",
              "        <script charset=\"utf-8\" src=\"https://cdn.plot.ly/plotly-2.24.1.min.js\"></script>                <div id=\"72a03256-4980-4a1b-9be0-0f29b8c4ffa5\" class=\"plotly-graph-div\" style=\"height:525px; width:100%;\"></div>            <script type=\"text/javascript\">                                    window.PLOTLYENV=window.PLOTLYENV || {};                                    if (document.getElementById(\"72a03256-4980-4a1b-9be0-0f29b8c4ffa5\")) {                    Plotly.newPlot(                        \"72a03256-4980-4a1b-9be0-0f29b8c4ffa5\",                        [{\"alignmentgroup\":\"True\",\"hovertemplate\":\"Day of Week=%{x}\\u003cbr\\u003eLike per Tweet=%{y}\\u003cextra\\u003e\\u003c\\u002fextra\\u003e\",\"legendgroup\":\"\",\"marker\":{\"color\":\"#636efa\",\"pattern\":{\"shape\":\"\"}},\"name\":\"\",\"offsetgroup\":\"\",\"orientation\":\"v\",\"showlegend\":false,\"textposition\":\"auto\",\"x\":[1,2,3,4,5,6,7],\"xaxis\":\"x\",\"y\":[8095532,8806093,11023208,11227533,11119761,16762835,8907312],\"yaxis\":\"y\",\"type\":\"bar\"}],                        {\"template\":{\"data\":{\"histogram2dcontour\":[{\"type\":\"histogram2dcontour\",\"colorbar\":{\"outlinewidth\":0,\"ticks\":\"\"},\"colorscale\":[[0.0,\"#0d0887\"],[0.1111111111111111,\"#46039f\"],[0.2222222222222222,\"#7201a8\"],[0.3333333333333333,\"#9c179e\"],[0.4444444444444444,\"#bd3786\"],[0.5555555555555556,\"#d8576b\"],[0.6666666666666666,\"#ed7953\"],[0.7777777777777778,\"#fb9f3a\"],[0.8888888888888888,\"#fdca26\"],[1.0,\"#f0f921\"]]}],\"choropleth\":[{\"type\":\"choropleth\",\"colorbar\":{\"outlinewidth\":0,\"ticks\":\"\"}}],\"histogram2d\":[{\"type\":\"histogram2d\",\"colorbar\":{\"outlinewidth\":0,\"ticks\":\"\"},\"colorscale\":[[0.0,\"#0d0887\"],[0.1111111111111111,\"#46039f\"],[0.2222222222222222,\"#7201a8\"],[0.3333333333333333,\"#9c179e\"],[0.4444444444444444,\"#bd3786\"],[0.5555555555555556,\"#d8576b\"],[0.6666666666666666,\"#ed7953\"],[0.7777777777777778,\"#fb9f3a\"],[0.8888888888888888,\"#fdca26\"],[1.0,\"#f0f921\"]]}],\"heatmap\":[{\"type\":\"heatmap\",\"colorbar\":{\"outlinewidth\":0,\"ticks\":\"\"},\"colorscale\":[[0.0,\"#0d0887\"],[0.1111111111111111,\"#46039f\"],[0.2222222222222222,\"#7201a8\"],[0.3333333333333333,\"#9c179e\"],[0.4444444444444444,\"#bd3786\"],[0.5555555555555556,\"#d8576b\"],[0.6666666666666666,\"#ed7953\"],[0.7777777777777778,\"#fb9f3a\"],[0.8888888888888888,\"#fdca26\"],[1.0,\"#f0f921\"]]}],\"heatmapgl\":[{\"type\":\"heatmapgl\",\"colorbar\":{\"outlinewidth\":0,\"ticks\":\"\"},\"colorscale\":[[0.0,\"#0d0887\"],[0.1111111111111111,\"#46039f\"],[0.2222222222222222,\"#7201a8\"],[0.3333333333333333,\"#9c179e\"],[0.4444444444444444,\"#bd3786\"],[0.5555555555555556,\"#d8576b\"],[0.6666666666666666,\"#ed7953\"],[0.7777777777777778,\"#fb9f3a\"],[0.8888888888888888,\"#fdca26\"],[1.0,\"#f0f921\"]]}],\"contourcarpet\":[{\"type\":\"contourcarpet\",\"colorbar\":{\"outlinewidth\":0,\"ticks\":\"\"}}],\"contour\":[{\"type\":\"contour\",\"colorbar\":{\"outlinewidth\":0,\"ticks\":\"\"},\"colorscale\":[[0.0,\"#0d0887\"],[0.1111111111111111,\"#46039f\"],[0.2222222222222222,\"#7201a8\"],[0.3333333333333333,\"#9c179e\"],[0.4444444444444444,\"#bd3786\"],[0.5555555555555556,\"#d8576b\"],[0.6666666666666666,\"#ed7953\"],[0.7777777777777778,\"#fb9f3a\"],[0.8888888888888888,\"#fdca26\"],[1.0,\"#f0f921\"]]}],\"surface\":[{\"type\":\"surface\",\"colorbar\":{\"outlinewidth\":0,\"ticks\":\"\"},\"colorscale\":[[0.0,\"#0d0887\"],[0.1111111111111111,\"#46039f\"],[0.2222222222222222,\"#7201a8\"],[0.3333333333333333,\"#9c179e\"],[0.4444444444444444,\"#bd3786\"],[0.5555555555555556,\"#d8576b\"],[0.6666666666666666,\"#ed7953\"],[0.7777777777777778,\"#fb9f3a\"],[0.8888888888888888,\"#fdca26\"],[1.0,\"#f0f921\"]]}],\"mesh3d\":[{\"type\":\"mesh3d\",\"colorbar\":{\"outlinewidth\":0,\"ticks\":\"\"}}],\"scatter\":[{\"fillpattern\":{\"fillmode\":\"overlay\",\"size\":10,\"solidity\":0.2},\"type\":\"scatter\"}],\"parcoords\":[{\"type\":\"parcoords\",\"line\":{\"colorbar\":{\"outlinewidth\":0,\"ticks\":\"\"}}}],\"scatterpolargl\":[{\"type\":\"scatterpolargl\",\"marker\":{\"colorbar\":{\"outlinewidth\":0,\"ticks\":\"\"}}}],\"bar\":[{\"error_x\":{\"color\":\"#2a3f5f\"},\"error_y\":{\"color\":\"#2a3f5f\"},\"marker\":{\"line\":{\"color\":\"#E5ECF6\",\"width\":0.5},\"pattern\":{\"fillmode\":\"overlay\",\"size\":10,\"solidity\":0.2}},\"type\":\"bar\"}],\"scattergeo\":[{\"type\":\"scattergeo\",\"marker\":{\"colorbar\":{\"outlinewidth\":0,\"ticks\":\"\"}}}],\"scatterpolar\":[{\"type\":\"scatterpolar\",\"marker\":{\"colorbar\":{\"outlinewidth\":0,\"ticks\":\"\"}}}],\"histogram\":[{\"marker\":{\"pattern\":{\"fillmode\":\"overlay\",\"size\":10,\"solidity\":0.2}},\"type\":\"histogram\"}],\"scattergl\":[{\"type\":\"scattergl\",\"marker\":{\"colorbar\":{\"outlinewidth\":0,\"ticks\":\"\"}}}],\"scatter3d\":[{\"type\":\"scatter3d\",\"line\":{\"colorbar\":{\"outlinewidth\":0,\"ticks\":\"\"}},\"marker\":{\"colorbar\":{\"outlinewidth\":0,\"ticks\":\"\"}}}],\"scattermapbox\":[{\"type\":\"scattermapbox\",\"marker\":{\"colorbar\":{\"outlinewidth\":0,\"ticks\":\"\"}}}],\"scatterternary\":[{\"type\":\"scatterternary\",\"marker\":{\"colorbar\":{\"outlinewidth\":0,\"ticks\":\"\"}}}],\"scattercarpet\":[{\"type\":\"scattercarpet\",\"marker\":{\"colorbar\":{\"outlinewidth\":0,\"ticks\":\"\"}}}],\"carpet\":[{\"aaxis\":{\"endlinecolor\":\"#2a3f5f\",\"gridcolor\":\"white\",\"linecolor\":\"white\",\"minorgridcolor\":\"white\",\"startlinecolor\":\"#2a3f5f\"},\"baxis\":{\"endlinecolor\":\"#2a3f5f\",\"gridcolor\":\"white\",\"linecolor\":\"white\",\"minorgridcolor\":\"white\",\"startlinecolor\":\"#2a3f5f\"},\"type\":\"carpet\"}],\"table\":[{\"cells\":{\"fill\":{\"color\":\"#EBF0F8\"},\"line\":{\"color\":\"white\"}},\"header\":{\"fill\":{\"color\":\"#C8D4E3\"},\"line\":{\"color\":\"white\"}},\"type\":\"table\"}],\"barpolar\":[{\"marker\":{\"line\":{\"color\":\"#E5ECF6\",\"width\":0.5},\"pattern\":{\"fillmode\":\"overlay\",\"size\":10,\"solidity\":0.2}},\"type\":\"barpolar\"}],\"pie\":[{\"automargin\":true,\"type\":\"pie\"}]},\"layout\":{\"autotypenumbers\":\"strict\",\"colorway\":[\"#636efa\",\"#EF553B\",\"#00cc96\",\"#ab63fa\",\"#FFA15A\",\"#19d3f3\",\"#FF6692\",\"#B6E880\",\"#FF97FF\",\"#FECB52\"],\"font\":{\"color\":\"#2a3f5f\"},\"hovermode\":\"closest\",\"hoverlabel\":{\"align\":\"left\"},\"paper_bgcolor\":\"white\",\"plot_bgcolor\":\"#E5ECF6\",\"polar\":{\"bgcolor\":\"#E5ECF6\",\"angularaxis\":{\"gridcolor\":\"white\",\"linecolor\":\"white\",\"ticks\":\"\"},\"radialaxis\":{\"gridcolor\":\"white\",\"linecolor\":\"white\",\"ticks\":\"\"}},\"ternary\":{\"bgcolor\":\"#E5ECF6\",\"aaxis\":{\"gridcolor\":\"white\",\"linecolor\":\"white\",\"ticks\":\"\"},\"baxis\":{\"gridcolor\":\"white\",\"linecolor\":\"white\",\"ticks\":\"\"},\"caxis\":{\"gridcolor\":\"white\",\"linecolor\":\"white\",\"ticks\":\"\"}},\"coloraxis\":{\"colorbar\":{\"outlinewidth\":0,\"ticks\":\"\"}},\"colorscale\":{\"sequential\":[[0.0,\"#0d0887\"],[0.1111111111111111,\"#46039f\"],[0.2222222222222222,\"#7201a8\"],[0.3333333333333333,\"#9c179e\"],[0.4444444444444444,\"#bd3786\"],[0.5555555555555556,\"#d8576b\"],[0.6666666666666666,\"#ed7953\"],[0.7777777777777778,\"#fb9f3a\"],[0.8888888888888888,\"#fdca26\"],[1.0,\"#f0f921\"]],\"sequentialminus\":[[0.0,\"#0d0887\"],[0.1111111111111111,\"#46039f\"],[0.2222222222222222,\"#7201a8\"],[0.3333333333333333,\"#9c179e\"],[0.4444444444444444,\"#bd3786\"],[0.5555555555555556,\"#d8576b\"],[0.6666666666666666,\"#ed7953\"],[0.7777777777777778,\"#fb9f3a\"],[0.8888888888888888,\"#fdca26\"],[1.0,\"#f0f921\"]],\"diverging\":[[0,\"#8e0152\"],[0.1,\"#c51b7d\"],[0.2,\"#de77ae\"],[0.3,\"#f1b6da\"],[0.4,\"#fde0ef\"],[0.5,\"#f7f7f7\"],[0.6,\"#e6f5d0\"],[0.7,\"#b8e186\"],[0.8,\"#7fbc41\"],[0.9,\"#4d9221\"],[1,\"#276419\"]]},\"xaxis\":{\"gridcolor\":\"white\",\"linecolor\":\"white\",\"ticks\":\"\",\"title\":{\"standoff\":15},\"zerolinecolor\":\"white\",\"automargin\":true,\"zerolinewidth\":2},\"yaxis\":{\"gridcolor\":\"white\",\"linecolor\":\"white\",\"ticks\":\"\",\"title\":{\"standoff\":15},\"zerolinecolor\":\"white\",\"automargin\":true,\"zerolinewidth\":2},\"scene\":{\"xaxis\":{\"backgroundcolor\":\"#E5ECF6\",\"gridcolor\":\"white\",\"linecolor\":\"white\",\"showbackground\":true,\"ticks\":\"\",\"zerolinecolor\":\"white\",\"gridwidth\":2},\"yaxis\":{\"backgroundcolor\":\"#E5ECF6\",\"gridcolor\":\"white\",\"linecolor\":\"white\",\"showbackground\":true,\"ticks\":\"\",\"zerolinecolor\":\"white\",\"gridwidth\":2},\"zaxis\":{\"backgroundcolor\":\"#E5ECF6\",\"gridcolor\":\"white\",\"linecolor\":\"white\",\"showbackground\":true,\"ticks\":\"\",\"zerolinecolor\":\"white\",\"gridwidth\":2}},\"shapedefaults\":{\"line\":{\"color\":\"#2a3f5f\"}},\"annotationdefaults\":{\"arrowcolor\":\"#2a3f5f\",\"arrowhead\":0,\"arrowwidth\":1},\"geo\":{\"bgcolor\":\"white\",\"landcolor\":\"#E5ECF6\",\"subunitcolor\":\"white\",\"showland\":true,\"showlakes\":true,\"lakecolor\":\"white\"},\"title\":{\"x\":0.05},\"mapbox\":{\"style\":\"light\"}}},\"xaxis\":{\"anchor\":\"y\",\"domain\":[0.0,1.0],\"title\":{\"text\":\"Day of Week\"}},\"yaxis\":{\"anchor\":\"x\",\"domain\":[0.0,1.0],\"title\":{\"text\":\"Like per Tweet\"},\"range\":[0,20000000]},\"legend\":{\"tracegroupgap\":0},\"title\":{\"text\":\"retweets by weekday\"},\"barmode\":\"relative\"},                        {\"responsive\": true}                    ).then(function(){\n",
              "                            \n",
              "var gd = document.getElementById('72a03256-4980-4a1b-9be0-0f29b8c4ffa5');\n",
              "var x = new MutationObserver(function (mutations, observer) {{\n",
              "        var display = window.getComputedStyle(gd).display;\n",
              "        if (!display || display === 'none') {{\n",
              "            console.log([gd, 'removed!']);\n",
              "            Plotly.purge(gd);\n",
              "            observer.disconnect();\n",
              "        }}\n",
              "}});\n",
              "\n",
              "// Listen for the removal of the full notebook cells\n",
              "var notebookContainer = gd.closest('#notebook-container');\n",
              "if (notebookContainer) {{\n",
              "    x.observe(notebookContainer, {childList: true});\n",
              "}}\n",
              "\n",
              "// Listen for the clearing of the current output cell\n",
              "var outputEl = gd.closest('.output');\n",
              "if (outputEl) {{\n",
              "    x.observe(outputEl, {childList: true});\n",
              "}}\n",
              "\n",
              "                        })                };                            </script>        </div>\n",
              "</body>\n",
              "</html>"
            ]
          },
          "metadata": {}
        }
      ]
    },
    {
      "cell_type": "code",
      "source": [
        "fig = px.bar(likesday, x=0, y=1, title = \"Likes by weekday\",labels={'0':'Day of Week','1':'Like per Tweet'}, range_y=(0,30000000))\n",
        "fig.show()"
      ],
      "metadata": {
        "colab": {
          "base_uri": "https://localhost:8080/",
          "height": 542
        },
        "id": "Zo9FQ7QThEIm",
        "outputId": "13d12230-6a16-442e-ab09-b2364e482476"
      },
      "execution_count": 103,
      "outputs": [
        {
          "output_type": "display_data",
          "data": {
            "text/html": [
              "<html>\n",
              "<head><meta charset=\"utf-8\" /></head>\n",
              "<body>\n",
              "    <div>            <script src=\"https://cdnjs.cloudflare.com/ajax/libs/mathjax/2.7.5/MathJax.js?config=TeX-AMS-MML_SVG\"></script><script type=\"text/javascript\">if (window.MathJax && window.MathJax.Hub && window.MathJax.Hub.Config) {window.MathJax.Hub.Config({SVG: {font: \"STIX-Web\"}});}</script>                <script type=\"text/javascript\">window.PlotlyConfig = {MathJaxConfig: 'local'};</script>\n",
              "        <script charset=\"utf-8\" src=\"https://cdn.plot.ly/plotly-2.24.1.min.js\"></script>                <div id=\"22ac882e-9ccf-4b99-926c-a5cbe3a1677c\" class=\"plotly-graph-div\" style=\"height:525px; width:100%;\"></div>            <script type=\"text/javascript\">                                    window.PLOTLYENV=window.PLOTLYENV || {};                                    if (document.getElementById(\"22ac882e-9ccf-4b99-926c-a5cbe3a1677c\")) {                    Plotly.newPlot(                        \"22ac882e-9ccf-4b99-926c-a5cbe3a1677c\",                        [{\"alignmentgroup\":\"True\",\"hovertemplate\":\"Day of Week=%{x}\\u003cbr\\u003eLike per Tweet=%{y}\\u003cextra\\u003e\\u003c\\u002fextra\\u003e\",\"legendgroup\":\"\",\"marker\":{\"color\":\"#636efa\",\"pattern\":{\"shape\":\"\"}},\"name\":\"\",\"offsetgroup\":\"\",\"orientation\":\"v\",\"showlegend\":false,\"textposition\":\"auto\",\"x\":[1,2,3,4,5,6,7],\"xaxis\":\"x\",\"y\":[18805170,20967480,22649066,21073340,28259773,20573004,22489203],\"yaxis\":\"y\",\"type\":\"bar\"}],                        {\"template\":{\"data\":{\"histogram2dcontour\":[{\"type\":\"histogram2dcontour\",\"colorbar\":{\"outlinewidth\":0,\"ticks\":\"\"},\"colorscale\":[[0.0,\"#0d0887\"],[0.1111111111111111,\"#46039f\"],[0.2222222222222222,\"#7201a8\"],[0.3333333333333333,\"#9c179e\"],[0.4444444444444444,\"#bd3786\"],[0.5555555555555556,\"#d8576b\"],[0.6666666666666666,\"#ed7953\"],[0.7777777777777778,\"#fb9f3a\"],[0.8888888888888888,\"#fdca26\"],[1.0,\"#f0f921\"]]}],\"choropleth\":[{\"type\":\"choropleth\",\"colorbar\":{\"outlinewidth\":0,\"ticks\":\"\"}}],\"histogram2d\":[{\"type\":\"histogram2d\",\"colorbar\":{\"outlinewidth\":0,\"ticks\":\"\"},\"colorscale\":[[0.0,\"#0d0887\"],[0.1111111111111111,\"#46039f\"],[0.2222222222222222,\"#7201a8\"],[0.3333333333333333,\"#9c179e\"],[0.4444444444444444,\"#bd3786\"],[0.5555555555555556,\"#d8576b\"],[0.6666666666666666,\"#ed7953\"],[0.7777777777777778,\"#fb9f3a\"],[0.8888888888888888,\"#fdca26\"],[1.0,\"#f0f921\"]]}],\"heatmap\":[{\"type\":\"heatmap\",\"colorbar\":{\"outlinewidth\":0,\"ticks\":\"\"},\"colorscale\":[[0.0,\"#0d0887\"],[0.1111111111111111,\"#46039f\"],[0.2222222222222222,\"#7201a8\"],[0.3333333333333333,\"#9c179e\"],[0.4444444444444444,\"#bd3786\"],[0.5555555555555556,\"#d8576b\"],[0.6666666666666666,\"#ed7953\"],[0.7777777777777778,\"#fb9f3a\"],[0.8888888888888888,\"#fdca26\"],[1.0,\"#f0f921\"]]}],\"heatmapgl\":[{\"type\":\"heatmapgl\",\"colorbar\":{\"outlinewidth\":0,\"ticks\":\"\"},\"colorscale\":[[0.0,\"#0d0887\"],[0.1111111111111111,\"#46039f\"],[0.2222222222222222,\"#7201a8\"],[0.3333333333333333,\"#9c179e\"],[0.4444444444444444,\"#bd3786\"],[0.5555555555555556,\"#d8576b\"],[0.6666666666666666,\"#ed7953\"],[0.7777777777777778,\"#fb9f3a\"],[0.8888888888888888,\"#fdca26\"],[1.0,\"#f0f921\"]]}],\"contourcarpet\":[{\"type\":\"contourcarpet\",\"colorbar\":{\"outlinewidth\":0,\"ticks\":\"\"}}],\"contour\":[{\"type\":\"contour\",\"colorbar\":{\"outlinewidth\":0,\"ticks\":\"\"},\"colorscale\":[[0.0,\"#0d0887\"],[0.1111111111111111,\"#46039f\"],[0.2222222222222222,\"#7201a8\"],[0.3333333333333333,\"#9c179e\"],[0.4444444444444444,\"#bd3786\"],[0.5555555555555556,\"#d8576b\"],[0.6666666666666666,\"#ed7953\"],[0.7777777777777778,\"#fb9f3a\"],[0.8888888888888888,\"#fdca26\"],[1.0,\"#f0f921\"]]}],\"surface\":[{\"type\":\"surface\",\"colorbar\":{\"outlinewidth\":0,\"ticks\":\"\"},\"colorscale\":[[0.0,\"#0d0887\"],[0.1111111111111111,\"#46039f\"],[0.2222222222222222,\"#7201a8\"],[0.3333333333333333,\"#9c179e\"],[0.4444444444444444,\"#bd3786\"],[0.5555555555555556,\"#d8576b\"],[0.6666666666666666,\"#ed7953\"],[0.7777777777777778,\"#fb9f3a\"],[0.8888888888888888,\"#fdca26\"],[1.0,\"#f0f921\"]]}],\"mesh3d\":[{\"type\":\"mesh3d\",\"colorbar\":{\"outlinewidth\":0,\"ticks\":\"\"}}],\"scatter\":[{\"fillpattern\":{\"fillmode\":\"overlay\",\"size\":10,\"solidity\":0.2},\"type\":\"scatter\"}],\"parcoords\":[{\"type\":\"parcoords\",\"line\":{\"colorbar\":{\"outlinewidth\":0,\"ticks\":\"\"}}}],\"scatterpolargl\":[{\"type\":\"scatterpolargl\",\"marker\":{\"colorbar\":{\"outlinewidth\":0,\"ticks\":\"\"}}}],\"bar\":[{\"error_x\":{\"color\":\"#2a3f5f\"},\"error_y\":{\"color\":\"#2a3f5f\"},\"marker\":{\"line\":{\"color\":\"#E5ECF6\",\"width\":0.5},\"pattern\":{\"fillmode\":\"overlay\",\"size\":10,\"solidity\":0.2}},\"type\":\"bar\"}],\"scattergeo\":[{\"type\":\"scattergeo\",\"marker\":{\"colorbar\":{\"outlinewidth\":0,\"ticks\":\"\"}}}],\"scatterpolar\":[{\"type\":\"scatterpolar\",\"marker\":{\"colorbar\":{\"outlinewidth\":0,\"ticks\":\"\"}}}],\"histogram\":[{\"marker\":{\"pattern\":{\"fillmode\":\"overlay\",\"size\":10,\"solidity\":0.2}},\"type\":\"histogram\"}],\"scattergl\":[{\"type\":\"scattergl\",\"marker\":{\"colorbar\":{\"outlinewidth\":0,\"ticks\":\"\"}}}],\"scatter3d\":[{\"type\":\"scatter3d\",\"line\":{\"colorbar\":{\"outlinewidth\":0,\"ticks\":\"\"}},\"marker\":{\"colorbar\":{\"outlinewidth\":0,\"ticks\":\"\"}}}],\"scattermapbox\":[{\"type\":\"scattermapbox\",\"marker\":{\"colorbar\":{\"outlinewidth\":0,\"ticks\":\"\"}}}],\"scatterternary\":[{\"type\":\"scatterternary\",\"marker\":{\"colorbar\":{\"outlinewidth\":0,\"ticks\":\"\"}}}],\"scattercarpet\":[{\"type\":\"scattercarpet\",\"marker\":{\"colorbar\":{\"outlinewidth\":0,\"ticks\":\"\"}}}],\"carpet\":[{\"aaxis\":{\"endlinecolor\":\"#2a3f5f\",\"gridcolor\":\"white\",\"linecolor\":\"white\",\"minorgridcolor\":\"white\",\"startlinecolor\":\"#2a3f5f\"},\"baxis\":{\"endlinecolor\":\"#2a3f5f\",\"gridcolor\":\"white\",\"linecolor\":\"white\",\"minorgridcolor\":\"white\",\"startlinecolor\":\"#2a3f5f\"},\"type\":\"carpet\"}],\"table\":[{\"cells\":{\"fill\":{\"color\":\"#EBF0F8\"},\"line\":{\"color\":\"white\"}},\"header\":{\"fill\":{\"color\":\"#C8D4E3\"},\"line\":{\"color\":\"white\"}},\"type\":\"table\"}],\"barpolar\":[{\"marker\":{\"line\":{\"color\":\"#E5ECF6\",\"width\":0.5},\"pattern\":{\"fillmode\":\"overlay\",\"size\":10,\"solidity\":0.2}},\"type\":\"barpolar\"}],\"pie\":[{\"automargin\":true,\"type\":\"pie\"}]},\"layout\":{\"autotypenumbers\":\"strict\",\"colorway\":[\"#636efa\",\"#EF553B\",\"#00cc96\",\"#ab63fa\",\"#FFA15A\",\"#19d3f3\",\"#FF6692\",\"#B6E880\",\"#FF97FF\",\"#FECB52\"],\"font\":{\"color\":\"#2a3f5f\"},\"hovermode\":\"closest\",\"hoverlabel\":{\"align\":\"left\"},\"paper_bgcolor\":\"white\",\"plot_bgcolor\":\"#E5ECF6\",\"polar\":{\"bgcolor\":\"#E5ECF6\",\"angularaxis\":{\"gridcolor\":\"white\",\"linecolor\":\"white\",\"ticks\":\"\"},\"radialaxis\":{\"gridcolor\":\"white\",\"linecolor\":\"white\",\"ticks\":\"\"}},\"ternary\":{\"bgcolor\":\"#E5ECF6\",\"aaxis\":{\"gridcolor\":\"white\",\"linecolor\":\"white\",\"ticks\":\"\"},\"baxis\":{\"gridcolor\":\"white\",\"linecolor\":\"white\",\"ticks\":\"\"},\"caxis\":{\"gridcolor\":\"white\",\"linecolor\":\"white\",\"ticks\":\"\"}},\"coloraxis\":{\"colorbar\":{\"outlinewidth\":0,\"ticks\":\"\"}},\"colorscale\":{\"sequential\":[[0.0,\"#0d0887\"],[0.1111111111111111,\"#46039f\"],[0.2222222222222222,\"#7201a8\"],[0.3333333333333333,\"#9c179e\"],[0.4444444444444444,\"#bd3786\"],[0.5555555555555556,\"#d8576b\"],[0.6666666666666666,\"#ed7953\"],[0.7777777777777778,\"#fb9f3a\"],[0.8888888888888888,\"#fdca26\"],[1.0,\"#f0f921\"]],\"sequentialminus\":[[0.0,\"#0d0887\"],[0.1111111111111111,\"#46039f\"],[0.2222222222222222,\"#7201a8\"],[0.3333333333333333,\"#9c179e\"],[0.4444444444444444,\"#bd3786\"],[0.5555555555555556,\"#d8576b\"],[0.6666666666666666,\"#ed7953\"],[0.7777777777777778,\"#fb9f3a\"],[0.8888888888888888,\"#fdca26\"],[1.0,\"#f0f921\"]],\"diverging\":[[0,\"#8e0152\"],[0.1,\"#c51b7d\"],[0.2,\"#de77ae\"],[0.3,\"#f1b6da\"],[0.4,\"#fde0ef\"],[0.5,\"#f7f7f7\"],[0.6,\"#e6f5d0\"],[0.7,\"#b8e186\"],[0.8,\"#7fbc41\"],[0.9,\"#4d9221\"],[1,\"#276419\"]]},\"xaxis\":{\"gridcolor\":\"white\",\"linecolor\":\"white\",\"ticks\":\"\",\"title\":{\"standoff\":15},\"zerolinecolor\":\"white\",\"automargin\":true,\"zerolinewidth\":2},\"yaxis\":{\"gridcolor\":\"white\",\"linecolor\":\"white\",\"ticks\":\"\",\"title\":{\"standoff\":15},\"zerolinecolor\":\"white\",\"automargin\":true,\"zerolinewidth\":2},\"scene\":{\"xaxis\":{\"backgroundcolor\":\"#E5ECF6\",\"gridcolor\":\"white\",\"linecolor\":\"white\",\"showbackground\":true,\"ticks\":\"\",\"zerolinecolor\":\"white\",\"gridwidth\":2},\"yaxis\":{\"backgroundcolor\":\"#E5ECF6\",\"gridcolor\":\"white\",\"linecolor\":\"white\",\"showbackground\":true,\"ticks\":\"\",\"zerolinecolor\":\"white\",\"gridwidth\":2},\"zaxis\":{\"backgroundcolor\":\"#E5ECF6\",\"gridcolor\":\"white\",\"linecolor\":\"white\",\"showbackground\":true,\"ticks\":\"\",\"zerolinecolor\":\"white\",\"gridwidth\":2}},\"shapedefaults\":{\"line\":{\"color\":\"#2a3f5f\"}},\"annotationdefaults\":{\"arrowcolor\":\"#2a3f5f\",\"arrowhead\":0,\"arrowwidth\":1},\"geo\":{\"bgcolor\":\"white\",\"landcolor\":\"#E5ECF6\",\"subunitcolor\":\"white\",\"showland\":true,\"showlakes\":true,\"lakecolor\":\"white\"},\"title\":{\"x\":0.05},\"mapbox\":{\"style\":\"light\"}}},\"xaxis\":{\"anchor\":\"y\",\"domain\":[0.0,1.0],\"title\":{\"text\":\"Day of Week\"}},\"yaxis\":{\"anchor\":\"x\",\"domain\":[0.0,1.0],\"title\":{\"text\":\"Like per Tweet\"},\"range\":[0,30000000]},\"legend\":{\"tracegroupgap\":0},\"title\":{\"text\":\"Likes by weekday\"},\"barmode\":\"relative\"},                        {\"responsive\": true}                    ).then(function(){\n",
              "                            \n",
              "var gd = document.getElementById('22ac882e-9ccf-4b99-926c-a5cbe3a1677c');\n",
              "var x = new MutationObserver(function (mutations, observer) {{\n",
              "        var display = window.getComputedStyle(gd).display;\n",
              "        if (!display || display === 'none') {{\n",
              "            console.log([gd, 'removed!']);\n",
              "            Plotly.purge(gd);\n",
              "            observer.disconnect();\n",
              "        }}\n",
              "}});\n",
              "\n",
              "// Listen for the removal of the full notebook cells\n",
              "var notebookContainer = gd.closest('#notebook-container');\n",
              "if (notebookContainer) {{\n",
              "    x.observe(notebookContainer, {childList: true});\n",
              "}}\n",
              "\n",
              "// Listen for the clearing of the current output cell\n",
              "var outputEl = gd.closest('.output');\n",
              "if (outputEl) {{\n",
              "    x.observe(outputEl, {childList: true});\n",
              "}}\n",
              "\n",
              "                        })                };                            </script>        </div>\n",
              "</body>\n",
              "</html>"
            ]
          },
          "metadata": {}
        }
      ]
    },
    {
      "cell_type": "markdown",
      "source": [
        "##Retweets per Tweet and Likes per Tweet per weekday"
      ],
      "metadata": {
        "id": "zoZuo-cNpdA4"
      }
    },
    {
      "cell_type": "code",
      "source": [
        "x = 1\n",
        "avgRetweetpd = []\n",
        "avgLikespd = []\n",
        "while x < 8:\n",
        "    average = (weekDayTotals[x-1][2])/(weekdayCountList[x-1][1])\n",
        "    avgRetweetpd.append([x,average])\n",
        "\n",
        "    average = (weekDayTotals[x-1][1])/(weekdayCountList[x-1][1])\n",
        "    avgLikespd.append([x,average])\n",
        "    x=x+1\n",
        "\n",
        "print(avgRetweetpd)\n",
        "print(avgLikespd)\n"
      ],
      "metadata": {
        "colab": {
          "base_uri": "https://localhost:8080/"
        },
        "id": "TDgniOtbc2FK",
        "outputId": "ab89562f-9d83-4c87-fc24-bdb59fe3c755"
      },
      "execution_count": 104,
      "outputs": [
        {
          "output_type": "stream",
          "name": "stdout",
          "text": [
            "[[1, 1223.25959504382], [2, 1405.8258301404853], [3, 1649.1932974266906], [4, 1689.112832856928], [5, 1652.513152028533], [6, 3241.074052590874], [7, 1888.3425906296375]]\n",
            "[[1, 2841.5185856754306], [2, 3347.2988505747126], [3, 3388.549670855775], [4, 3170.3535429517074], [5, 4199.698766532917], [6, 3977.7656612529004], [7, 4767.691965232139]]\n"
          ]
        }
      ]
    },
    {
      "cell_type": "markdown",
      "source": [
        "Retweet per tweet"
      ],
      "metadata": {
        "id": "sHYbI5NHplIr"
      }
    },
    {
      "cell_type": "code",
      "source": [
        "fig = px.bar(avgRetweetpd, x=0, y=1, title = \"retweet per tweet by weekday\",labels={'0':'Day of Week','1':'Retweets per Tweet'}, range_y=(0,4000))\n",
        "fig.show()"
      ],
      "metadata": {
        "colab": {
          "base_uri": "https://localhost:8080/",
          "height": 542
        },
        "id": "HRgoRjUEfBVH",
        "outputId": "b7099e80-f2c4-4e73-f918-c7fee333ccb2"
      },
      "execution_count": 105,
      "outputs": [
        {
          "output_type": "display_data",
          "data": {
            "text/html": [
              "<html>\n",
              "<head><meta charset=\"utf-8\" /></head>\n",
              "<body>\n",
              "    <div>            <script src=\"https://cdnjs.cloudflare.com/ajax/libs/mathjax/2.7.5/MathJax.js?config=TeX-AMS-MML_SVG\"></script><script type=\"text/javascript\">if (window.MathJax && window.MathJax.Hub && window.MathJax.Hub.Config) {window.MathJax.Hub.Config({SVG: {font: \"STIX-Web\"}});}</script>                <script type=\"text/javascript\">window.PlotlyConfig = {MathJaxConfig: 'local'};</script>\n",
              "        <script charset=\"utf-8\" src=\"https://cdn.plot.ly/plotly-2.24.1.min.js\"></script>                <div id=\"dd3f860f-9aa4-42a9-9a0c-82bafa10c85d\" class=\"plotly-graph-div\" style=\"height:525px; width:100%;\"></div>            <script type=\"text/javascript\">                                    window.PLOTLYENV=window.PLOTLYENV || {};                                    if (document.getElementById(\"dd3f860f-9aa4-42a9-9a0c-82bafa10c85d\")) {                    Plotly.newPlot(                        \"dd3f860f-9aa4-42a9-9a0c-82bafa10c85d\",                        [{\"alignmentgroup\":\"True\",\"hovertemplate\":\"Day of Week=%{x}\\u003cbr\\u003eRetweets per Tweet=%{y}\\u003cextra\\u003e\\u003c\\u002fextra\\u003e\",\"legendgroup\":\"\",\"marker\":{\"color\":\"#636efa\",\"pattern\":{\"shape\":\"\"}},\"name\":\"\",\"offsetgroup\":\"\",\"orientation\":\"v\",\"showlegend\":false,\"textposition\":\"auto\",\"x\":[1,2,3,4,5,6,7],\"xaxis\":\"x\",\"y\":[1223.25959504382,1405.8258301404853,1649.1932974266906,1689.112832856928,1652.513152028533,3241.074052590874,1888.3425906296375],\"yaxis\":\"y\",\"type\":\"bar\"}],                        {\"template\":{\"data\":{\"histogram2dcontour\":[{\"type\":\"histogram2dcontour\",\"colorbar\":{\"outlinewidth\":0,\"ticks\":\"\"},\"colorscale\":[[0.0,\"#0d0887\"],[0.1111111111111111,\"#46039f\"],[0.2222222222222222,\"#7201a8\"],[0.3333333333333333,\"#9c179e\"],[0.4444444444444444,\"#bd3786\"],[0.5555555555555556,\"#d8576b\"],[0.6666666666666666,\"#ed7953\"],[0.7777777777777778,\"#fb9f3a\"],[0.8888888888888888,\"#fdca26\"],[1.0,\"#f0f921\"]]}],\"choropleth\":[{\"type\":\"choropleth\",\"colorbar\":{\"outlinewidth\":0,\"ticks\":\"\"}}],\"histogram2d\":[{\"type\":\"histogram2d\",\"colorbar\":{\"outlinewidth\":0,\"ticks\":\"\"},\"colorscale\":[[0.0,\"#0d0887\"],[0.1111111111111111,\"#46039f\"],[0.2222222222222222,\"#7201a8\"],[0.3333333333333333,\"#9c179e\"],[0.4444444444444444,\"#bd3786\"],[0.5555555555555556,\"#d8576b\"],[0.6666666666666666,\"#ed7953\"],[0.7777777777777778,\"#fb9f3a\"],[0.8888888888888888,\"#fdca26\"],[1.0,\"#f0f921\"]]}],\"heatmap\":[{\"type\":\"heatmap\",\"colorbar\":{\"outlinewidth\":0,\"ticks\":\"\"},\"colorscale\":[[0.0,\"#0d0887\"],[0.1111111111111111,\"#46039f\"],[0.2222222222222222,\"#7201a8\"],[0.3333333333333333,\"#9c179e\"],[0.4444444444444444,\"#bd3786\"],[0.5555555555555556,\"#d8576b\"],[0.6666666666666666,\"#ed7953\"],[0.7777777777777778,\"#fb9f3a\"],[0.8888888888888888,\"#fdca26\"],[1.0,\"#f0f921\"]]}],\"heatmapgl\":[{\"type\":\"heatmapgl\",\"colorbar\":{\"outlinewidth\":0,\"ticks\":\"\"},\"colorscale\":[[0.0,\"#0d0887\"],[0.1111111111111111,\"#46039f\"],[0.2222222222222222,\"#7201a8\"],[0.3333333333333333,\"#9c179e\"],[0.4444444444444444,\"#bd3786\"],[0.5555555555555556,\"#d8576b\"],[0.6666666666666666,\"#ed7953\"],[0.7777777777777778,\"#fb9f3a\"],[0.8888888888888888,\"#fdca26\"],[1.0,\"#f0f921\"]]}],\"contourcarpet\":[{\"type\":\"contourcarpet\",\"colorbar\":{\"outlinewidth\":0,\"ticks\":\"\"}}],\"contour\":[{\"type\":\"contour\",\"colorbar\":{\"outlinewidth\":0,\"ticks\":\"\"},\"colorscale\":[[0.0,\"#0d0887\"],[0.1111111111111111,\"#46039f\"],[0.2222222222222222,\"#7201a8\"],[0.3333333333333333,\"#9c179e\"],[0.4444444444444444,\"#bd3786\"],[0.5555555555555556,\"#d8576b\"],[0.6666666666666666,\"#ed7953\"],[0.7777777777777778,\"#fb9f3a\"],[0.8888888888888888,\"#fdca26\"],[1.0,\"#f0f921\"]]}],\"surface\":[{\"type\":\"surface\",\"colorbar\":{\"outlinewidth\":0,\"ticks\":\"\"},\"colorscale\":[[0.0,\"#0d0887\"],[0.1111111111111111,\"#46039f\"],[0.2222222222222222,\"#7201a8\"],[0.3333333333333333,\"#9c179e\"],[0.4444444444444444,\"#bd3786\"],[0.5555555555555556,\"#d8576b\"],[0.6666666666666666,\"#ed7953\"],[0.7777777777777778,\"#fb9f3a\"],[0.8888888888888888,\"#fdca26\"],[1.0,\"#f0f921\"]]}],\"mesh3d\":[{\"type\":\"mesh3d\",\"colorbar\":{\"outlinewidth\":0,\"ticks\":\"\"}}],\"scatter\":[{\"fillpattern\":{\"fillmode\":\"overlay\",\"size\":10,\"solidity\":0.2},\"type\":\"scatter\"}],\"parcoords\":[{\"type\":\"parcoords\",\"line\":{\"colorbar\":{\"outlinewidth\":0,\"ticks\":\"\"}}}],\"scatterpolargl\":[{\"type\":\"scatterpolargl\",\"marker\":{\"colorbar\":{\"outlinewidth\":0,\"ticks\":\"\"}}}],\"bar\":[{\"error_x\":{\"color\":\"#2a3f5f\"},\"error_y\":{\"color\":\"#2a3f5f\"},\"marker\":{\"line\":{\"color\":\"#E5ECF6\",\"width\":0.5},\"pattern\":{\"fillmode\":\"overlay\",\"size\":10,\"solidity\":0.2}},\"type\":\"bar\"}],\"scattergeo\":[{\"type\":\"scattergeo\",\"marker\":{\"colorbar\":{\"outlinewidth\":0,\"ticks\":\"\"}}}],\"scatterpolar\":[{\"type\":\"scatterpolar\",\"marker\":{\"colorbar\":{\"outlinewidth\":0,\"ticks\":\"\"}}}],\"histogram\":[{\"marker\":{\"pattern\":{\"fillmode\":\"overlay\",\"size\":10,\"solidity\":0.2}},\"type\":\"histogram\"}],\"scattergl\":[{\"type\":\"scattergl\",\"marker\":{\"colorbar\":{\"outlinewidth\":0,\"ticks\":\"\"}}}],\"scatter3d\":[{\"type\":\"scatter3d\",\"line\":{\"colorbar\":{\"outlinewidth\":0,\"ticks\":\"\"}},\"marker\":{\"colorbar\":{\"outlinewidth\":0,\"ticks\":\"\"}}}],\"scattermapbox\":[{\"type\":\"scattermapbox\",\"marker\":{\"colorbar\":{\"outlinewidth\":0,\"ticks\":\"\"}}}],\"scatterternary\":[{\"type\":\"scatterternary\",\"marker\":{\"colorbar\":{\"outlinewidth\":0,\"ticks\":\"\"}}}],\"scattercarpet\":[{\"type\":\"scattercarpet\",\"marker\":{\"colorbar\":{\"outlinewidth\":0,\"ticks\":\"\"}}}],\"carpet\":[{\"aaxis\":{\"endlinecolor\":\"#2a3f5f\",\"gridcolor\":\"white\",\"linecolor\":\"white\",\"minorgridcolor\":\"white\",\"startlinecolor\":\"#2a3f5f\"},\"baxis\":{\"endlinecolor\":\"#2a3f5f\",\"gridcolor\":\"white\",\"linecolor\":\"white\",\"minorgridcolor\":\"white\",\"startlinecolor\":\"#2a3f5f\"},\"type\":\"carpet\"}],\"table\":[{\"cells\":{\"fill\":{\"color\":\"#EBF0F8\"},\"line\":{\"color\":\"white\"}},\"header\":{\"fill\":{\"color\":\"#C8D4E3\"},\"line\":{\"color\":\"white\"}},\"type\":\"table\"}],\"barpolar\":[{\"marker\":{\"line\":{\"color\":\"#E5ECF6\",\"width\":0.5},\"pattern\":{\"fillmode\":\"overlay\",\"size\":10,\"solidity\":0.2}},\"type\":\"barpolar\"}],\"pie\":[{\"automargin\":true,\"type\":\"pie\"}]},\"layout\":{\"autotypenumbers\":\"strict\",\"colorway\":[\"#636efa\",\"#EF553B\",\"#00cc96\",\"#ab63fa\",\"#FFA15A\",\"#19d3f3\",\"#FF6692\",\"#B6E880\",\"#FF97FF\",\"#FECB52\"],\"font\":{\"color\":\"#2a3f5f\"},\"hovermode\":\"closest\",\"hoverlabel\":{\"align\":\"left\"},\"paper_bgcolor\":\"white\",\"plot_bgcolor\":\"#E5ECF6\",\"polar\":{\"bgcolor\":\"#E5ECF6\",\"angularaxis\":{\"gridcolor\":\"white\",\"linecolor\":\"white\",\"ticks\":\"\"},\"radialaxis\":{\"gridcolor\":\"white\",\"linecolor\":\"white\",\"ticks\":\"\"}},\"ternary\":{\"bgcolor\":\"#E5ECF6\",\"aaxis\":{\"gridcolor\":\"white\",\"linecolor\":\"white\",\"ticks\":\"\"},\"baxis\":{\"gridcolor\":\"white\",\"linecolor\":\"white\",\"ticks\":\"\"},\"caxis\":{\"gridcolor\":\"white\",\"linecolor\":\"white\",\"ticks\":\"\"}},\"coloraxis\":{\"colorbar\":{\"outlinewidth\":0,\"ticks\":\"\"}},\"colorscale\":{\"sequential\":[[0.0,\"#0d0887\"],[0.1111111111111111,\"#46039f\"],[0.2222222222222222,\"#7201a8\"],[0.3333333333333333,\"#9c179e\"],[0.4444444444444444,\"#bd3786\"],[0.5555555555555556,\"#d8576b\"],[0.6666666666666666,\"#ed7953\"],[0.7777777777777778,\"#fb9f3a\"],[0.8888888888888888,\"#fdca26\"],[1.0,\"#f0f921\"]],\"sequentialminus\":[[0.0,\"#0d0887\"],[0.1111111111111111,\"#46039f\"],[0.2222222222222222,\"#7201a8\"],[0.3333333333333333,\"#9c179e\"],[0.4444444444444444,\"#bd3786\"],[0.5555555555555556,\"#d8576b\"],[0.6666666666666666,\"#ed7953\"],[0.7777777777777778,\"#fb9f3a\"],[0.8888888888888888,\"#fdca26\"],[1.0,\"#f0f921\"]],\"diverging\":[[0,\"#8e0152\"],[0.1,\"#c51b7d\"],[0.2,\"#de77ae\"],[0.3,\"#f1b6da\"],[0.4,\"#fde0ef\"],[0.5,\"#f7f7f7\"],[0.6,\"#e6f5d0\"],[0.7,\"#b8e186\"],[0.8,\"#7fbc41\"],[0.9,\"#4d9221\"],[1,\"#276419\"]]},\"xaxis\":{\"gridcolor\":\"white\",\"linecolor\":\"white\",\"ticks\":\"\",\"title\":{\"standoff\":15},\"zerolinecolor\":\"white\",\"automargin\":true,\"zerolinewidth\":2},\"yaxis\":{\"gridcolor\":\"white\",\"linecolor\":\"white\",\"ticks\":\"\",\"title\":{\"standoff\":15},\"zerolinecolor\":\"white\",\"automargin\":true,\"zerolinewidth\":2},\"scene\":{\"xaxis\":{\"backgroundcolor\":\"#E5ECF6\",\"gridcolor\":\"white\",\"linecolor\":\"white\",\"showbackground\":true,\"ticks\":\"\",\"zerolinecolor\":\"white\",\"gridwidth\":2},\"yaxis\":{\"backgroundcolor\":\"#E5ECF6\",\"gridcolor\":\"white\",\"linecolor\":\"white\",\"showbackground\":true,\"ticks\":\"\",\"zerolinecolor\":\"white\",\"gridwidth\":2},\"zaxis\":{\"backgroundcolor\":\"#E5ECF6\",\"gridcolor\":\"white\",\"linecolor\":\"white\",\"showbackground\":true,\"ticks\":\"\",\"zerolinecolor\":\"white\",\"gridwidth\":2}},\"shapedefaults\":{\"line\":{\"color\":\"#2a3f5f\"}},\"annotationdefaults\":{\"arrowcolor\":\"#2a3f5f\",\"arrowhead\":0,\"arrowwidth\":1},\"geo\":{\"bgcolor\":\"white\",\"landcolor\":\"#E5ECF6\",\"subunitcolor\":\"white\",\"showland\":true,\"showlakes\":true,\"lakecolor\":\"white\"},\"title\":{\"x\":0.05},\"mapbox\":{\"style\":\"light\"}}},\"xaxis\":{\"anchor\":\"y\",\"domain\":[0.0,1.0],\"title\":{\"text\":\"Day of Week\"}},\"yaxis\":{\"anchor\":\"x\",\"domain\":[0.0,1.0],\"title\":{\"text\":\"Retweets per Tweet\"},\"range\":[0,4000]},\"legend\":{\"tracegroupgap\":0},\"title\":{\"text\":\"retweet per tweet by weekday\"},\"barmode\":\"relative\"},                        {\"responsive\": true}                    ).then(function(){\n",
              "                            \n",
              "var gd = document.getElementById('dd3f860f-9aa4-42a9-9a0c-82bafa10c85d');\n",
              "var x = new MutationObserver(function (mutations, observer) {{\n",
              "        var display = window.getComputedStyle(gd).display;\n",
              "        if (!display || display === 'none') {{\n",
              "            console.log([gd, 'removed!']);\n",
              "            Plotly.purge(gd);\n",
              "            observer.disconnect();\n",
              "        }}\n",
              "}});\n",
              "\n",
              "// Listen for the removal of the full notebook cells\n",
              "var notebookContainer = gd.closest('#notebook-container');\n",
              "if (notebookContainer) {{\n",
              "    x.observe(notebookContainer, {childList: true});\n",
              "}}\n",
              "\n",
              "// Listen for the clearing of the current output cell\n",
              "var outputEl = gd.closest('.output');\n",
              "if (outputEl) {{\n",
              "    x.observe(outputEl, {childList: true});\n",
              "}}\n",
              "\n",
              "                        })                };                            </script>        </div>\n",
              "</body>\n",
              "</html>"
            ]
          },
          "metadata": {}
        }
      ]
    },
    {
      "cell_type": "markdown",
      "source": [
        "Like Per Tweet"
      ],
      "metadata": {
        "id": "0aNfd5XCpoJc"
      }
    },
    {
      "cell_type": "code",
      "source": [
        "fig = px.bar(avgLikespd, x=0, y=1, title = \"like per tweet by weekday\",labels={'0':'Day of Week','1':'Like per Tweet'}, range_y=(0,5000))\n",
        "fig.show()"
      ],
      "metadata": {
        "colab": {
          "base_uri": "https://localhost:8080/",
          "height": 542
        },
        "id": "yBpR9nWxfc5c",
        "outputId": "f4e15f0f-4f1c-4260-869e-bb1153b78016"
      },
      "execution_count": 106,
      "outputs": [
        {
          "output_type": "display_data",
          "data": {
            "text/html": [
              "<html>\n",
              "<head><meta charset=\"utf-8\" /></head>\n",
              "<body>\n",
              "    <div>            <script src=\"https://cdnjs.cloudflare.com/ajax/libs/mathjax/2.7.5/MathJax.js?config=TeX-AMS-MML_SVG\"></script><script type=\"text/javascript\">if (window.MathJax && window.MathJax.Hub && window.MathJax.Hub.Config) {window.MathJax.Hub.Config({SVG: {font: \"STIX-Web\"}});}</script>                <script type=\"text/javascript\">window.PlotlyConfig = {MathJaxConfig: 'local'};</script>\n",
              "        <script charset=\"utf-8\" src=\"https://cdn.plot.ly/plotly-2.24.1.min.js\"></script>                <div id=\"c159c6e7-59f4-4abf-b15e-e3475ce1db4c\" class=\"plotly-graph-div\" style=\"height:525px; width:100%;\"></div>            <script type=\"text/javascript\">                                    window.PLOTLYENV=window.PLOTLYENV || {};                                    if (document.getElementById(\"c159c6e7-59f4-4abf-b15e-e3475ce1db4c\")) {                    Plotly.newPlot(                        \"c159c6e7-59f4-4abf-b15e-e3475ce1db4c\",                        [{\"alignmentgroup\":\"True\",\"hovertemplate\":\"Day of Week=%{x}\\u003cbr\\u003eLike per Tweet=%{y}\\u003cextra\\u003e\\u003c\\u002fextra\\u003e\",\"legendgroup\":\"\",\"marker\":{\"color\":\"#636efa\",\"pattern\":{\"shape\":\"\"}},\"name\":\"\",\"offsetgroup\":\"\",\"orientation\":\"v\",\"showlegend\":false,\"textposition\":\"auto\",\"x\":[1,2,3,4,5,6,7],\"xaxis\":\"x\",\"y\":[2841.5185856754306,3347.2988505747126,3388.549670855775,3170.3535429517074,4199.698766532917,3977.7656612529004,4767.691965232139],\"yaxis\":\"y\",\"type\":\"bar\"}],                        {\"template\":{\"data\":{\"histogram2dcontour\":[{\"type\":\"histogram2dcontour\",\"colorbar\":{\"outlinewidth\":0,\"ticks\":\"\"},\"colorscale\":[[0.0,\"#0d0887\"],[0.1111111111111111,\"#46039f\"],[0.2222222222222222,\"#7201a8\"],[0.3333333333333333,\"#9c179e\"],[0.4444444444444444,\"#bd3786\"],[0.5555555555555556,\"#d8576b\"],[0.6666666666666666,\"#ed7953\"],[0.7777777777777778,\"#fb9f3a\"],[0.8888888888888888,\"#fdca26\"],[1.0,\"#f0f921\"]]}],\"choropleth\":[{\"type\":\"choropleth\",\"colorbar\":{\"outlinewidth\":0,\"ticks\":\"\"}}],\"histogram2d\":[{\"type\":\"histogram2d\",\"colorbar\":{\"outlinewidth\":0,\"ticks\":\"\"},\"colorscale\":[[0.0,\"#0d0887\"],[0.1111111111111111,\"#46039f\"],[0.2222222222222222,\"#7201a8\"],[0.3333333333333333,\"#9c179e\"],[0.4444444444444444,\"#bd3786\"],[0.5555555555555556,\"#d8576b\"],[0.6666666666666666,\"#ed7953\"],[0.7777777777777778,\"#fb9f3a\"],[0.8888888888888888,\"#fdca26\"],[1.0,\"#f0f921\"]]}],\"heatmap\":[{\"type\":\"heatmap\",\"colorbar\":{\"outlinewidth\":0,\"ticks\":\"\"},\"colorscale\":[[0.0,\"#0d0887\"],[0.1111111111111111,\"#46039f\"],[0.2222222222222222,\"#7201a8\"],[0.3333333333333333,\"#9c179e\"],[0.4444444444444444,\"#bd3786\"],[0.5555555555555556,\"#d8576b\"],[0.6666666666666666,\"#ed7953\"],[0.7777777777777778,\"#fb9f3a\"],[0.8888888888888888,\"#fdca26\"],[1.0,\"#f0f921\"]]}],\"heatmapgl\":[{\"type\":\"heatmapgl\",\"colorbar\":{\"outlinewidth\":0,\"ticks\":\"\"},\"colorscale\":[[0.0,\"#0d0887\"],[0.1111111111111111,\"#46039f\"],[0.2222222222222222,\"#7201a8\"],[0.3333333333333333,\"#9c179e\"],[0.4444444444444444,\"#bd3786\"],[0.5555555555555556,\"#d8576b\"],[0.6666666666666666,\"#ed7953\"],[0.7777777777777778,\"#fb9f3a\"],[0.8888888888888888,\"#fdca26\"],[1.0,\"#f0f921\"]]}],\"contourcarpet\":[{\"type\":\"contourcarpet\",\"colorbar\":{\"outlinewidth\":0,\"ticks\":\"\"}}],\"contour\":[{\"type\":\"contour\",\"colorbar\":{\"outlinewidth\":0,\"ticks\":\"\"},\"colorscale\":[[0.0,\"#0d0887\"],[0.1111111111111111,\"#46039f\"],[0.2222222222222222,\"#7201a8\"],[0.3333333333333333,\"#9c179e\"],[0.4444444444444444,\"#bd3786\"],[0.5555555555555556,\"#d8576b\"],[0.6666666666666666,\"#ed7953\"],[0.7777777777777778,\"#fb9f3a\"],[0.8888888888888888,\"#fdca26\"],[1.0,\"#f0f921\"]]}],\"surface\":[{\"type\":\"surface\",\"colorbar\":{\"outlinewidth\":0,\"ticks\":\"\"},\"colorscale\":[[0.0,\"#0d0887\"],[0.1111111111111111,\"#46039f\"],[0.2222222222222222,\"#7201a8\"],[0.3333333333333333,\"#9c179e\"],[0.4444444444444444,\"#bd3786\"],[0.5555555555555556,\"#d8576b\"],[0.6666666666666666,\"#ed7953\"],[0.7777777777777778,\"#fb9f3a\"],[0.8888888888888888,\"#fdca26\"],[1.0,\"#f0f921\"]]}],\"mesh3d\":[{\"type\":\"mesh3d\",\"colorbar\":{\"outlinewidth\":0,\"ticks\":\"\"}}],\"scatter\":[{\"fillpattern\":{\"fillmode\":\"overlay\",\"size\":10,\"solidity\":0.2},\"type\":\"scatter\"}],\"parcoords\":[{\"type\":\"parcoords\",\"line\":{\"colorbar\":{\"outlinewidth\":0,\"ticks\":\"\"}}}],\"scatterpolargl\":[{\"type\":\"scatterpolargl\",\"marker\":{\"colorbar\":{\"outlinewidth\":0,\"ticks\":\"\"}}}],\"bar\":[{\"error_x\":{\"color\":\"#2a3f5f\"},\"error_y\":{\"color\":\"#2a3f5f\"},\"marker\":{\"line\":{\"color\":\"#E5ECF6\",\"width\":0.5},\"pattern\":{\"fillmode\":\"overlay\",\"size\":10,\"solidity\":0.2}},\"type\":\"bar\"}],\"scattergeo\":[{\"type\":\"scattergeo\",\"marker\":{\"colorbar\":{\"outlinewidth\":0,\"ticks\":\"\"}}}],\"scatterpolar\":[{\"type\":\"scatterpolar\",\"marker\":{\"colorbar\":{\"outlinewidth\":0,\"ticks\":\"\"}}}],\"histogram\":[{\"marker\":{\"pattern\":{\"fillmode\":\"overlay\",\"size\":10,\"solidity\":0.2}},\"type\":\"histogram\"}],\"scattergl\":[{\"type\":\"scattergl\",\"marker\":{\"colorbar\":{\"outlinewidth\":0,\"ticks\":\"\"}}}],\"scatter3d\":[{\"type\":\"scatter3d\",\"line\":{\"colorbar\":{\"outlinewidth\":0,\"ticks\":\"\"}},\"marker\":{\"colorbar\":{\"outlinewidth\":0,\"ticks\":\"\"}}}],\"scattermapbox\":[{\"type\":\"scattermapbox\",\"marker\":{\"colorbar\":{\"outlinewidth\":0,\"ticks\":\"\"}}}],\"scatterternary\":[{\"type\":\"scatterternary\",\"marker\":{\"colorbar\":{\"outlinewidth\":0,\"ticks\":\"\"}}}],\"scattercarpet\":[{\"type\":\"scattercarpet\",\"marker\":{\"colorbar\":{\"outlinewidth\":0,\"ticks\":\"\"}}}],\"carpet\":[{\"aaxis\":{\"endlinecolor\":\"#2a3f5f\",\"gridcolor\":\"white\",\"linecolor\":\"white\",\"minorgridcolor\":\"white\",\"startlinecolor\":\"#2a3f5f\"},\"baxis\":{\"endlinecolor\":\"#2a3f5f\",\"gridcolor\":\"white\",\"linecolor\":\"white\",\"minorgridcolor\":\"white\",\"startlinecolor\":\"#2a3f5f\"},\"type\":\"carpet\"}],\"table\":[{\"cells\":{\"fill\":{\"color\":\"#EBF0F8\"},\"line\":{\"color\":\"white\"}},\"header\":{\"fill\":{\"color\":\"#C8D4E3\"},\"line\":{\"color\":\"white\"}},\"type\":\"table\"}],\"barpolar\":[{\"marker\":{\"line\":{\"color\":\"#E5ECF6\",\"width\":0.5},\"pattern\":{\"fillmode\":\"overlay\",\"size\":10,\"solidity\":0.2}},\"type\":\"barpolar\"}],\"pie\":[{\"automargin\":true,\"type\":\"pie\"}]},\"layout\":{\"autotypenumbers\":\"strict\",\"colorway\":[\"#636efa\",\"#EF553B\",\"#00cc96\",\"#ab63fa\",\"#FFA15A\",\"#19d3f3\",\"#FF6692\",\"#B6E880\",\"#FF97FF\",\"#FECB52\"],\"font\":{\"color\":\"#2a3f5f\"},\"hovermode\":\"closest\",\"hoverlabel\":{\"align\":\"left\"},\"paper_bgcolor\":\"white\",\"plot_bgcolor\":\"#E5ECF6\",\"polar\":{\"bgcolor\":\"#E5ECF6\",\"angularaxis\":{\"gridcolor\":\"white\",\"linecolor\":\"white\",\"ticks\":\"\"},\"radialaxis\":{\"gridcolor\":\"white\",\"linecolor\":\"white\",\"ticks\":\"\"}},\"ternary\":{\"bgcolor\":\"#E5ECF6\",\"aaxis\":{\"gridcolor\":\"white\",\"linecolor\":\"white\",\"ticks\":\"\"},\"baxis\":{\"gridcolor\":\"white\",\"linecolor\":\"white\",\"ticks\":\"\"},\"caxis\":{\"gridcolor\":\"white\",\"linecolor\":\"white\",\"ticks\":\"\"}},\"coloraxis\":{\"colorbar\":{\"outlinewidth\":0,\"ticks\":\"\"}},\"colorscale\":{\"sequential\":[[0.0,\"#0d0887\"],[0.1111111111111111,\"#46039f\"],[0.2222222222222222,\"#7201a8\"],[0.3333333333333333,\"#9c179e\"],[0.4444444444444444,\"#bd3786\"],[0.5555555555555556,\"#d8576b\"],[0.6666666666666666,\"#ed7953\"],[0.7777777777777778,\"#fb9f3a\"],[0.8888888888888888,\"#fdca26\"],[1.0,\"#f0f921\"]],\"sequentialminus\":[[0.0,\"#0d0887\"],[0.1111111111111111,\"#46039f\"],[0.2222222222222222,\"#7201a8\"],[0.3333333333333333,\"#9c179e\"],[0.4444444444444444,\"#bd3786\"],[0.5555555555555556,\"#d8576b\"],[0.6666666666666666,\"#ed7953\"],[0.7777777777777778,\"#fb9f3a\"],[0.8888888888888888,\"#fdca26\"],[1.0,\"#f0f921\"]],\"diverging\":[[0,\"#8e0152\"],[0.1,\"#c51b7d\"],[0.2,\"#de77ae\"],[0.3,\"#f1b6da\"],[0.4,\"#fde0ef\"],[0.5,\"#f7f7f7\"],[0.6,\"#e6f5d0\"],[0.7,\"#b8e186\"],[0.8,\"#7fbc41\"],[0.9,\"#4d9221\"],[1,\"#276419\"]]},\"xaxis\":{\"gridcolor\":\"white\",\"linecolor\":\"white\",\"ticks\":\"\",\"title\":{\"standoff\":15},\"zerolinecolor\":\"white\",\"automargin\":true,\"zerolinewidth\":2},\"yaxis\":{\"gridcolor\":\"white\",\"linecolor\":\"white\",\"ticks\":\"\",\"title\":{\"standoff\":15},\"zerolinecolor\":\"white\",\"automargin\":true,\"zerolinewidth\":2},\"scene\":{\"xaxis\":{\"backgroundcolor\":\"#E5ECF6\",\"gridcolor\":\"white\",\"linecolor\":\"white\",\"showbackground\":true,\"ticks\":\"\",\"zerolinecolor\":\"white\",\"gridwidth\":2},\"yaxis\":{\"backgroundcolor\":\"#E5ECF6\",\"gridcolor\":\"white\",\"linecolor\":\"white\",\"showbackground\":true,\"ticks\":\"\",\"zerolinecolor\":\"white\",\"gridwidth\":2},\"zaxis\":{\"backgroundcolor\":\"#E5ECF6\",\"gridcolor\":\"white\",\"linecolor\":\"white\",\"showbackground\":true,\"ticks\":\"\",\"zerolinecolor\":\"white\",\"gridwidth\":2}},\"shapedefaults\":{\"line\":{\"color\":\"#2a3f5f\"}},\"annotationdefaults\":{\"arrowcolor\":\"#2a3f5f\",\"arrowhead\":0,\"arrowwidth\":1},\"geo\":{\"bgcolor\":\"white\",\"landcolor\":\"#E5ECF6\",\"subunitcolor\":\"white\",\"showland\":true,\"showlakes\":true,\"lakecolor\":\"white\"},\"title\":{\"x\":0.05},\"mapbox\":{\"style\":\"light\"}}},\"xaxis\":{\"anchor\":\"y\",\"domain\":[0.0,1.0],\"title\":{\"text\":\"Day of Week\"}},\"yaxis\":{\"anchor\":\"x\",\"domain\":[0.0,1.0],\"title\":{\"text\":\"Like per Tweet\"},\"range\":[0,5000]},\"legend\":{\"tracegroupgap\":0},\"title\":{\"text\":\"like per tweet by weekday\"},\"barmode\":\"relative\"},                        {\"responsive\": true}                    ).then(function(){\n",
              "                            \n",
              "var gd = document.getElementById('c159c6e7-59f4-4abf-b15e-e3475ce1db4c');\n",
              "var x = new MutationObserver(function (mutations, observer) {{\n",
              "        var display = window.getComputedStyle(gd).display;\n",
              "        if (!display || display === 'none') {{\n",
              "            console.log([gd, 'removed!']);\n",
              "            Plotly.purge(gd);\n",
              "            observer.disconnect();\n",
              "        }}\n",
              "}});\n",
              "\n",
              "// Listen for the removal of the full notebook cells\n",
              "var notebookContainer = gd.closest('#notebook-container');\n",
              "if (notebookContainer) {{\n",
              "    x.observe(notebookContainer, {childList: true});\n",
              "}}\n",
              "\n",
              "// Listen for the clearing of the current output cell\n",
              "var outputEl = gd.closest('.output');\n",
              "if (outputEl) {{\n",
              "    x.observe(outputEl, {childList: true});\n",
              "}}\n",
              "\n",
              "                        })                };                            </script>        </div>\n",
              "</body>\n",
              "</html>"
            ]
          },
          "metadata": {}
        }
      ]
    },
    {
      "cell_type": "markdown",
      "source": [
        "##Tweets per Week of Month"
      ],
      "metadata": {
        "id": "Gh2FcjIppxrr"
      }
    },
    {
      "cell_type": "code",
      "source": [
        "tweetsPerWeek = []\n",
        "x=0\n",
        "y=7\n",
        "i=1\n",
        "while y<36:\n",
        "    query = \"SELECT count(distinct(status_id)) FROM twitter.statuses WHERE extract(day FROM created_date) BETWEEN '%d' and '%d'\" % (x,y)\n",
        "    cursor.execute(query) #Executing query\n",
        "    res = cursor.fetchall()\n",
        "    tweetsPerWeek.append([i,res[0]['count']])\n",
        "    x=y+1\n",
        "    if(y==21):\n",
        "        y=y+10\n",
        "    else:\n",
        "        y=y+7\n",
        "    i=i+1\n",
        "\n",
        "print(tweetsPerWeek)\n",
        "\n"
      ],
      "metadata": {
        "colab": {
          "base_uri": "https://localhost:8080/"
        },
        "id": "v-6QoNCFAEt6",
        "outputId": "167edc03-893a-4e6d-ddde-05d7a4d4d077"
      },
      "execution_count": 107,
      "outputs": [
        {
          "output_type": "stream",
          "name": "stdout",
          "text": [
            "[[1, 10374], [2, 11578], [3, 9234], [4, 11645]]\n"
          ]
        }
      ]
    },
    {
      "cell_type": "code",
      "source": [
        "fig = px.bar(tweetsPerWeek, x=0, y=1, title = \"Tweets by week\",labels={'0':'Week of Month','1':'Number of Tweets'}, range_y=(5000,12000))\n",
        "fig.show()"
      ],
      "metadata": {
        "id": "tlJ7Nn5UR5k4",
        "colab": {
          "base_uri": "https://localhost:8080/",
          "height": 542
        },
        "outputId": "b036eebf-706a-4e41-d8d8-500e01b96638"
      },
      "execution_count": 108,
      "outputs": [
        {
          "output_type": "display_data",
          "data": {
            "text/html": [
              "<html>\n",
              "<head><meta charset=\"utf-8\" /></head>\n",
              "<body>\n",
              "    <div>            <script src=\"https://cdnjs.cloudflare.com/ajax/libs/mathjax/2.7.5/MathJax.js?config=TeX-AMS-MML_SVG\"></script><script type=\"text/javascript\">if (window.MathJax && window.MathJax.Hub && window.MathJax.Hub.Config) {window.MathJax.Hub.Config({SVG: {font: \"STIX-Web\"}});}</script>                <script type=\"text/javascript\">window.PlotlyConfig = {MathJaxConfig: 'local'};</script>\n",
              "        <script charset=\"utf-8\" src=\"https://cdn.plot.ly/plotly-2.24.1.min.js\"></script>                <div id=\"b6263072-4228-4cf2-b727-ef203523c4e5\" class=\"plotly-graph-div\" style=\"height:525px; width:100%;\"></div>            <script type=\"text/javascript\">                                    window.PLOTLYENV=window.PLOTLYENV || {};                                    if (document.getElementById(\"b6263072-4228-4cf2-b727-ef203523c4e5\")) {                    Plotly.newPlot(                        \"b6263072-4228-4cf2-b727-ef203523c4e5\",                        [{\"alignmentgroup\":\"True\",\"hovertemplate\":\"Week of Month=%{x}\\u003cbr\\u003eNumber of Tweets=%{y}\\u003cextra\\u003e\\u003c\\u002fextra\\u003e\",\"legendgroup\":\"\",\"marker\":{\"color\":\"#636efa\",\"pattern\":{\"shape\":\"\"}},\"name\":\"\",\"offsetgroup\":\"\",\"orientation\":\"v\",\"showlegend\":false,\"textposition\":\"auto\",\"x\":[1,2,3,4],\"xaxis\":\"x\",\"y\":[10374,11578,9234,11645],\"yaxis\":\"y\",\"type\":\"bar\"}],                        {\"template\":{\"data\":{\"histogram2dcontour\":[{\"type\":\"histogram2dcontour\",\"colorbar\":{\"outlinewidth\":0,\"ticks\":\"\"},\"colorscale\":[[0.0,\"#0d0887\"],[0.1111111111111111,\"#46039f\"],[0.2222222222222222,\"#7201a8\"],[0.3333333333333333,\"#9c179e\"],[0.4444444444444444,\"#bd3786\"],[0.5555555555555556,\"#d8576b\"],[0.6666666666666666,\"#ed7953\"],[0.7777777777777778,\"#fb9f3a\"],[0.8888888888888888,\"#fdca26\"],[1.0,\"#f0f921\"]]}],\"choropleth\":[{\"type\":\"choropleth\",\"colorbar\":{\"outlinewidth\":0,\"ticks\":\"\"}}],\"histogram2d\":[{\"type\":\"histogram2d\",\"colorbar\":{\"outlinewidth\":0,\"ticks\":\"\"},\"colorscale\":[[0.0,\"#0d0887\"],[0.1111111111111111,\"#46039f\"],[0.2222222222222222,\"#7201a8\"],[0.3333333333333333,\"#9c179e\"],[0.4444444444444444,\"#bd3786\"],[0.5555555555555556,\"#d8576b\"],[0.6666666666666666,\"#ed7953\"],[0.7777777777777778,\"#fb9f3a\"],[0.8888888888888888,\"#fdca26\"],[1.0,\"#f0f921\"]]}],\"heatmap\":[{\"type\":\"heatmap\",\"colorbar\":{\"outlinewidth\":0,\"ticks\":\"\"},\"colorscale\":[[0.0,\"#0d0887\"],[0.1111111111111111,\"#46039f\"],[0.2222222222222222,\"#7201a8\"],[0.3333333333333333,\"#9c179e\"],[0.4444444444444444,\"#bd3786\"],[0.5555555555555556,\"#d8576b\"],[0.6666666666666666,\"#ed7953\"],[0.7777777777777778,\"#fb9f3a\"],[0.8888888888888888,\"#fdca26\"],[1.0,\"#f0f921\"]]}],\"heatmapgl\":[{\"type\":\"heatmapgl\",\"colorbar\":{\"outlinewidth\":0,\"ticks\":\"\"},\"colorscale\":[[0.0,\"#0d0887\"],[0.1111111111111111,\"#46039f\"],[0.2222222222222222,\"#7201a8\"],[0.3333333333333333,\"#9c179e\"],[0.4444444444444444,\"#bd3786\"],[0.5555555555555556,\"#d8576b\"],[0.6666666666666666,\"#ed7953\"],[0.7777777777777778,\"#fb9f3a\"],[0.8888888888888888,\"#fdca26\"],[1.0,\"#f0f921\"]]}],\"contourcarpet\":[{\"type\":\"contourcarpet\",\"colorbar\":{\"outlinewidth\":0,\"ticks\":\"\"}}],\"contour\":[{\"type\":\"contour\",\"colorbar\":{\"outlinewidth\":0,\"ticks\":\"\"},\"colorscale\":[[0.0,\"#0d0887\"],[0.1111111111111111,\"#46039f\"],[0.2222222222222222,\"#7201a8\"],[0.3333333333333333,\"#9c179e\"],[0.4444444444444444,\"#bd3786\"],[0.5555555555555556,\"#d8576b\"],[0.6666666666666666,\"#ed7953\"],[0.7777777777777778,\"#fb9f3a\"],[0.8888888888888888,\"#fdca26\"],[1.0,\"#f0f921\"]]}],\"surface\":[{\"type\":\"surface\",\"colorbar\":{\"outlinewidth\":0,\"ticks\":\"\"},\"colorscale\":[[0.0,\"#0d0887\"],[0.1111111111111111,\"#46039f\"],[0.2222222222222222,\"#7201a8\"],[0.3333333333333333,\"#9c179e\"],[0.4444444444444444,\"#bd3786\"],[0.5555555555555556,\"#d8576b\"],[0.6666666666666666,\"#ed7953\"],[0.7777777777777778,\"#fb9f3a\"],[0.8888888888888888,\"#fdca26\"],[1.0,\"#f0f921\"]]}],\"mesh3d\":[{\"type\":\"mesh3d\",\"colorbar\":{\"outlinewidth\":0,\"ticks\":\"\"}}],\"scatter\":[{\"fillpattern\":{\"fillmode\":\"overlay\",\"size\":10,\"solidity\":0.2},\"type\":\"scatter\"}],\"parcoords\":[{\"type\":\"parcoords\",\"line\":{\"colorbar\":{\"outlinewidth\":0,\"ticks\":\"\"}}}],\"scatterpolargl\":[{\"type\":\"scatterpolargl\",\"marker\":{\"colorbar\":{\"outlinewidth\":0,\"ticks\":\"\"}}}],\"bar\":[{\"error_x\":{\"color\":\"#2a3f5f\"},\"error_y\":{\"color\":\"#2a3f5f\"},\"marker\":{\"line\":{\"color\":\"#E5ECF6\",\"width\":0.5},\"pattern\":{\"fillmode\":\"overlay\",\"size\":10,\"solidity\":0.2}},\"type\":\"bar\"}],\"scattergeo\":[{\"type\":\"scattergeo\",\"marker\":{\"colorbar\":{\"outlinewidth\":0,\"ticks\":\"\"}}}],\"scatterpolar\":[{\"type\":\"scatterpolar\",\"marker\":{\"colorbar\":{\"outlinewidth\":0,\"ticks\":\"\"}}}],\"histogram\":[{\"marker\":{\"pattern\":{\"fillmode\":\"overlay\",\"size\":10,\"solidity\":0.2}},\"type\":\"histogram\"}],\"scattergl\":[{\"type\":\"scattergl\",\"marker\":{\"colorbar\":{\"outlinewidth\":0,\"ticks\":\"\"}}}],\"scatter3d\":[{\"type\":\"scatter3d\",\"line\":{\"colorbar\":{\"outlinewidth\":0,\"ticks\":\"\"}},\"marker\":{\"colorbar\":{\"outlinewidth\":0,\"ticks\":\"\"}}}],\"scattermapbox\":[{\"type\":\"scattermapbox\",\"marker\":{\"colorbar\":{\"outlinewidth\":0,\"ticks\":\"\"}}}],\"scatterternary\":[{\"type\":\"scatterternary\",\"marker\":{\"colorbar\":{\"outlinewidth\":0,\"ticks\":\"\"}}}],\"scattercarpet\":[{\"type\":\"scattercarpet\",\"marker\":{\"colorbar\":{\"outlinewidth\":0,\"ticks\":\"\"}}}],\"carpet\":[{\"aaxis\":{\"endlinecolor\":\"#2a3f5f\",\"gridcolor\":\"white\",\"linecolor\":\"white\",\"minorgridcolor\":\"white\",\"startlinecolor\":\"#2a3f5f\"},\"baxis\":{\"endlinecolor\":\"#2a3f5f\",\"gridcolor\":\"white\",\"linecolor\":\"white\",\"minorgridcolor\":\"white\",\"startlinecolor\":\"#2a3f5f\"},\"type\":\"carpet\"}],\"table\":[{\"cells\":{\"fill\":{\"color\":\"#EBF0F8\"},\"line\":{\"color\":\"white\"}},\"header\":{\"fill\":{\"color\":\"#C8D4E3\"},\"line\":{\"color\":\"white\"}},\"type\":\"table\"}],\"barpolar\":[{\"marker\":{\"line\":{\"color\":\"#E5ECF6\",\"width\":0.5},\"pattern\":{\"fillmode\":\"overlay\",\"size\":10,\"solidity\":0.2}},\"type\":\"barpolar\"}],\"pie\":[{\"automargin\":true,\"type\":\"pie\"}]},\"layout\":{\"autotypenumbers\":\"strict\",\"colorway\":[\"#636efa\",\"#EF553B\",\"#00cc96\",\"#ab63fa\",\"#FFA15A\",\"#19d3f3\",\"#FF6692\",\"#B6E880\",\"#FF97FF\",\"#FECB52\"],\"font\":{\"color\":\"#2a3f5f\"},\"hovermode\":\"closest\",\"hoverlabel\":{\"align\":\"left\"},\"paper_bgcolor\":\"white\",\"plot_bgcolor\":\"#E5ECF6\",\"polar\":{\"bgcolor\":\"#E5ECF6\",\"angularaxis\":{\"gridcolor\":\"white\",\"linecolor\":\"white\",\"ticks\":\"\"},\"radialaxis\":{\"gridcolor\":\"white\",\"linecolor\":\"white\",\"ticks\":\"\"}},\"ternary\":{\"bgcolor\":\"#E5ECF6\",\"aaxis\":{\"gridcolor\":\"white\",\"linecolor\":\"white\",\"ticks\":\"\"},\"baxis\":{\"gridcolor\":\"white\",\"linecolor\":\"white\",\"ticks\":\"\"},\"caxis\":{\"gridcolor\":\"white\",\"linecolor\":\"white\",\"ticks\":\"\"}},\"coloraxis\":{\"colorbar\":{\"outlinewidth\":0,\"ticks\":\"\"}},\"colorscale\":{\"sequential\":[[0.0,\"#0d0887\"],[0.1111111111111111,\"#46039f\"],[0.2222222222222222,\"#7201a8\"],[0.3333333333333333,\"#9c179e\"],[0.4444444444444444,\"#bd3786\"],[0.5555555555555556,\"#d8576b\"],[0.6666666666666666,\"#ed7953\"],[0.7777777777777778,\"#fb9f3a\"],[0.8888888888888888,\"#fdca26\"],[1.0,\"#f0f921\"]],\"sequentialminus\":[[0.0,\"#0d0887\"],[0.1111111111111111,\"#46039f\"],[0.2222222222222222,\"#7201a8\"],[0.3333333333333333,\"#9c179e\"],[0.4444444444444444,\"#bd3786\"],[0.5555555555555556,\"#d8576b\"],[0.6666666666666666,\"#ed7953\"],[0.7777777777777778,\"#fb9f3a\"],[0.8888888888888888,\"#fdca26\"],[1.0,\"#f0f921\"]],\"diverging\":[[0,\"#8e0152\"],[0.1,\"#c51b7d\"],[0.2,\"#de77ae\"],[0.3,\"#f1b6da\"],[0.4,\"#fde0ef\"],[0.5,\"#f7f7f7\"],[0.6,\"#e6f5d0\"],[0.7,\"#b8e186\"],[0.8,\"#7fbc41\"],[0.9,\"#4d9221\"],[1,\"#276419\"]]},\"xaxis\":{\"gridcolor\":\"white\",\"linecolor\":\"white\",\"ticks\":\"\",\"title\":{\"standoff\":15},\"zerolinecolor\":\"white\",\"automargin\":true,\"zerolinewidth\":2},\"yaxis\":{\"gridcolor\":\"white\",\"linecolor\":\"white\",\"ticks\":\"\",\"title\":{\"standoff\":15},\"zerolinecolor\":\"white\",\"automargin\":true,\"zerolinewidth\":2},\"scene\":{\"xaxis\":{\"backgroundcolor\":\"#E5ECF6\",\"gridcolor\":\"white\",\"linecolor\":\"white\",\"showbackground\":true,\"ticks\":\"\",\"zerolinecolor\":\"white\",\"gridwidth\":2},\"yaxis\":{\"backgroundcolor\":\"#E5ECF6\",\"gridcolor\":\"white\",\"linecolor\":\"white\",\"showbackground\":true,\"ticks\":\"\",\"zerolinecolor\":\"white\",\"gridwidth\":2},\"zaxis\":{\"backgroundcolor\":\"#E5ECF6\",\"gridcolor\":\"white\",\"linecolor\":\"white\",\"showbackground\":true,\"ticks\":\"\",\"zerolinecolor\":\"white\",\"gridwidth\":2}},\"shapedefaults\":{\"line\":{\"color\":\"#2a3f5f\"}},\"annotationdefaults\":{\"arrowcolor\":\"#2a3f5f\",\"arrowhead\":0,\"arrowwidth\":1},\"geo\":{\"bgcolor\":\"white\",\"landcolor\":\"#E5ECF6\",\"subunitcolor\":\"white\",\"showland\":true,\"showlakes\":true,\"lakecolor\":\"white\"},\"title\":{\"x\":0.05},\"mapbox\":{\"style\":\"light\"}}},\"xaxis\":{\"anchor\":\"y\",\"domain\":[0.0,1.0],\"title\":{\"text\":\"Week of Month\"}},\"yaxis\":{\"anchor\":\"x\",\"domain\":[0.0,1.0],\"title\":{\"text\":\"Number of Tweets\"},\"range\":[5000,12000]},\"legend\":{\"tracegroupgap\":0},\"title\":{\"text\":\"Tweets by week\"},\"barmode\":\"relative\"},                        {\"responsive\": true}                    ).then(function(){\n",
              "                            \n",
              "var gd = document.getElementById('b6263072-4228-4cf2-b727-ef203523c4e5');\n",
              "var x = new MutationObserver(function (mutations, observer) {{\n",
              "        var display = window.getComputedStyle(gd).display;\n",
              "        if (!display || display === 'none') {{\n",
              "            console.log([gd, 'removed!']);\n",
              "            Plotly.purge(gd);\n",
              "            observer.disconnect();\n",
              "        }}\n",
              "}});\n",
              "\n",
              "// Listen for the removal of the full notebook cells\n",
              "var notebookContainer = gd.closest('#notebook-container');\n",
              "if (notebookContainer) {{\n",
              "    x.observe(notebookContainer, {childList: true});\n",
              "}}\n",
              "\n",
              "// Listen for the clearing of the current output cell\n",
              "var outputEl = gd.closest('.output');\n",
              "if (outputEl) {{\n",
              "    x.observe(outputEl, {childList: true});\n",
              "}}\n",
              "\n",
              "                        })                };                            </script>        </div>\n",
              "</body>\n",
              "</html>"
            ]
          },
          "metadata": {}
        }
      ]
    },
    {
      "cell_type": "markdown",
      "source": [
        "##Retweets and Likes per week of Month"
      ],
      "metadata": {
        "id": "8EVlkpbmqoGQ"
      }
    },
    {
      "cell_type": "code",
      "source": [
        "totalsPerWeek = []\n",
        "total = 0\n",
        "ototal = 0\n",
        "x=0\n",
        "y=7\n",
        "num=1\n",
        "while y<36:\n",
        "    query = \"SELECT distinct(status_id),favorites_count FROM twitter.statuses WHERE extract(day FROM created_date) BETWEEN '%d' and '%d'\" % (x,y)\n",
        "    cursor.execute(query) #Executing query\n",
        "    res = cursor.fetchall()\n",
        "\n",
        "    for counts in res:\n",
        "        total = total+counts['favorites_count']\n",
        "\n",
        "\n",
        "    query = \"SELECT distinct(status_id),retweet_count FROM twitter.statuses WHERE extract(day FROM created_date) BETWEEN '%d' and '%d'\" % (x,y)\n",
        "    cursor.execute(query) #Executing query\n",
        "    res = cursor.fetchall()\n",
        "\n",
        "    for retweets in res:\n",
        "        ototal = ototal+retweets['retweet_count']\n",
        "\n",
        "    totalsPerWeek.append([num,total,ototal])\n",
        "    x=y+1\n",
        "    if(y==21):\n",
        "        y=y+10\n",
        "    else:\n",
        "        y=y+7\n",
        "    num=num+1\n",
        "    ototal=0\n",
        "    total=0\n",
        "\n",
        "print(totalsPerWeek)"
      ],
      "metadata": {
        "colab": {
          "base_uri": "https://localhost:8080/"
        },
        "id": "F_trJcuxqeGe",
        "outputId": "99a8c61b-86e0-4d4e-a107-b49f9502377e"
      },
      "execution_count": 109,
      "outputs": [
        {
          "output_type": "stream",
          "name": "stdout",
          "text": [
            "[[1, 36996688, 25150022], [2, 34127560, 16885833], [3, 35106722, 13797065], [4, 48586066, 20109354]]\n"
          ]
        }
      ]
    },
    {
      "cell_type": "code",
      "source": [
        "retweetweek = []\n",
        "likesweek = []\n",
        "x=1\n",
        "for i in totalsPerWeek:\n",
        "    retweetweek.append([x,i[2]])\n",
        "    likesweek.append([x,i[1]])\n",
        "\n",
        "    x=x+1"
      ],
      "metadata": {
        "id": "Ab4tRZietju9"
      },
      "execution_count": 110,
      "outputs": []
    },
    {
      "cell_type": "code",
      "source": [
        "fig = px.bar(retweetweek, x=0, y=1, title = \"retweets by week of month\",labels={'0':'Week of Month','1':'Retweet per Tweet'}, range_y=(0,30000000))\n",
        "fig.show()"
      ],
      "metadata": {
        "colab": {
          "base_uri": "https://localhost:8080/",
          "height": 542
        },
        "id": "971kc_XQvL8p",
        "outputId": "69ed9810-9680-4cb0-c205-570479f07935"
      },
      "execution_count": 111,
      "outputs": [
        {
          "output_type": "display_data",
          "data": {
            "text/html": [
              "<html>\n",
              "<head><meta charset=\"utf-8\" /></head>\n",
              "<body>\n",
              "    <div>            <script src=\"https://cdnjs.cloudflare.com/ajax/libs/mathjax/2.7.5/MathJax.js?config=TeX-AMS-MML_SVG\"></script><script type=\"text/javascript\">if (window.MathJax && window.MathJax.Hub && window.MathJax.Hub.Config) {window.MathJax.Hub.Config({SVG: {font: \"STIX-Web\"}});}</script>                <script type=\"text/javascript\">window.PlotlyConfig = {MathJaxConfig: 'local'};</script>\n",
              "        <script charset=\"utf-8\" src=\"https://cdn.plot.ly/plotly-2.24.1.min.js\"></script>                <div id=\"4e45e4e6-328b-4d50-a115-caf8fed4e3a1\" class=\"plotly-graph-div\" style=\"height:525px; width:100%;\"></div>            <script type=\"text/javascript\">                                    window.PLOTLYENV=window.PLOTLYENV || {};                                    if (document.getElementById(\"4e45e4e6-328b-4d50-a115-caf8fed4e3a1\")) {                    Plotly.newPlot(                        \"4e45e4e6-328b-4d50-a115-caf8fed4e3a1\",                        [{\"alignmentgroup\":\"True\",\"hovertemplate\":\"Week of Month=%{x}\\u003cbr\\u003eRetweet per Tweet=%{y}\\u003cextra\\u003e\\u003c\\u002fextra\\u003e\",\"legendgroup\":\"\",\"marker\":{\"color\":\"#636efa\",\"pattern\":{\"shape\":\"\"}},\"name\":\"\",\"offsetgroup\":\"\",\"orientation\":\"v\",\"showlegend\":false,\"textposition\":\"auto\",\"x\":[1,2,3,4],\"xaxis\":\"x\",\"y\":[25150022,16885833,13797065,20109354],\"yaxis\":\"y\",\"type\":\"bar\"}],                        {\"template\":{\"data\":{\"histogram2dcontour\":[{\"type\":\"histogram2dcontour\",\"colorbar\":{\"outlinewidth\":0,\"ticks\":\"\"},\"colorscale\":[[0.0,\"#0d0887\"],[0.1111111111111111,\"#46039f\"],[0.2222222222222222,\"#7201a8\"],[0.3333333333333333,\"#9c179e\"],[0.4444444444444444,\"#bd3786\"],[0.5555555555555556,\"#d8576b\"],[0.6666666666666666,\"#ed7953\"],[0.7777777777777778,\"#fb9f3a\"],[0.8888888888888888,\"#fdca26\"],[1.0,\"#f0f921\"]]}],\"choropleth\":[{\"type\":\"choropleth\",\"colorbar\":{\"outlinewidth\":0,\"ticks\":\"\"}}],\"histogram2d\":[{\"type\":\"histogram2d\",\"colorbar\":{\"outlinewidth\":0,\"ticks\":\"\"},\"colorscale\":[[0.0,\"#0d0887\"],[0.1111111111111111,\"#46039f\"],[0.2222222222222222,\"#7201a8\"],[0.3333333333333333,\"#9c179e\"],[0.4444444444444444,\"#bd3786\"],[0.5555555555555556,\"#d8576b\"],[0.6666666666666666,\"#ed7953\"],[0.7777777777777778,\"#fb9f3a\"],[0.8888888888888888,\"#fdca26\"],[1.0,\"#f0f921\"]]}],\"heatmap\":[{\"type\":\"heatmap\",\"colorbar\":{\"outlinewidth\":0,\"ticks\":\"\"},\"colorscale\":[[0.0,\"#0d0887\"],[0.1111111111111111,\"#46039f\"],[0.2222222222222222,\"#7201a8\"],[0.3333333333333333,\"#9c179e\"],[0.4444444444444444,\"#bd3786\"],[0.5555555555555556,\"#d8576b\"],[0.6666666666666666,\"#ed7953\"],[0.7777777777777778,\"#fb9f3a\"],[0.8888888888888888,\"#fdca26\"],[1.0,\"#f0f921\"]]}],\"heatmapgl\":[{\"type\":\"heatmapgl\",\"colorbar\":{\"outlinewidth\":0,\"ticks\":\"\"},\"colorscale\":[[0.0,\"#0d0887\"],[0.1111111111111111,\"#46039f\"],[0.2222222222222222,\"#7201a8\"],[0.3333333333333333,\"#9c179e\"],[0.4444444444444444,\"#bd3786\"],[0.5555555555555556,\"#d8576b\"],[0.6666666666666666,\"#ed7953\"],[0.7777777777777778,\"#fb9f3a\"],[0.8888888888888888,\"#fdca26\"],[1.0,\"#f0f921\"]]}],\"contourcarpet\":[{\"type\":\"contourcarpet\",\"colorbar\":{\"outlinewidth\":0,\"ticks\":\"\"}}],\"contour\":[{\"type\":\"contour\",\"colorbar\":{\"outlinewidth\":0,\"ticks\":\"\"},\"colorscale\":[[0.0,\"#0d0887\"],[0.1111111111111111,\"#46039f\"],[0.2222222222222222,\"#7201a8\"],[0.3333333333333333,\"#9c179e\"],[0.4444444444444444,\"#bd3786\"],[0.5555555555555556,\"#d8576b\"],[0.6666666666666666,\"#ed7953\"],[0.7777777777777778,\"#fb9f3a\"],[0.8888888888888888,\"#fdca26\"],[1.0,\"#f0f921\"]]}],\"surface\":[{\"type\":\"surface\",\"colorbar\":{\"outlinewidth\":0,\"ticks\":\"\"},\"colorscale\":[[0.0,\"#0d0887\"],[0.1111111111111111,\"#46039f\"],[0.2222222222222222,\"#7201a8\"],[0.3333333333333333,\"#9c179e\"],[0.4444444444444444,\"#bd3786\"],[0.5555555555555556,\"#d8576b\"],[0.6666666666666666,\"#ed7953\"],[0.7777777777777778,\"#fb9f3a\"],[0.8888888888888888,\"#fdca26\"],[1.0,\"#f0f921\"]]}],\"mesh3d\":[{\"type\":\"mesh3d\",\"colorbar\":{\"outlinewidth\":0,\"ticks\":\"\"}}],\"scatter\":[{\"fillpattern\":{\"fillmode\":\"overlay\",\"size\":10,\"solidity\":0.2},\"type\":\"scatter\"}],\"parcoords\":[{\"type\":\"parcoords\",\"line\":{\"colorbar\":{\"outlinewidth\":0,\"ticks\":\"\"}}}],\"scatterpolargl\":[{\"type\":\"scatterpolargl\",\"marker\":{\"colorbar\":{\"outlinewidth\":0,\"ticks\":\"\"}}}],\"bar\":[{\"error_x\":{\"color\":\"#2a3f5f\"},\"error_y\":{\"color\":\"#2a3f5f\"},\"marker\":{\"line\":{\"color\":\"#E5ECF6\",\"width\":0.5},\"pattern\":{\"fillmode\":\"overlay\",\"size\":10,\"solidity\":0.2}},\"type\":\"bar\"}],\"scattergeo\":[{\"type\":\"scattergeo\",\"marker\":{\"colorbar\":{\"outlinewidth\":0,\"ticks\":\"\"}}}],\"scatterpolar\":[{\"type\":\"scatterpolar\",\"marker\":{\"colorbar\":{\"outlinewidth\":0,\"ticks\":\"\"}}}],\"histogram\":[{\"marker\":{\"pattern\":{\"fillmode\":\"overlay\",\"size\":10,\"solidity\":0.2}},\"type\":\"histogram\"}],\"scattergl\":[{\"type\":\"scattergl\",\"marker\":{\"colorbar\":{\"outlinewidth\":0,\"ticks\":\"\"}}}],\"scatter3d\":[{\"type\":\"scatter3d\",\"line\":{\"colorbar\":{\"outlinewidth\":0,\"ticks\":\"\"}},\"marker\":{\"colorbar\":{\"outlinewidth\":0,\"ticks\":\"\"}}}],\"scattermapbox\":[{\"type\":\"scattermapbox\",\"marker\":{\"colorbar\":{\"outlinewidth\":0,\"ticks\":\"\"}}}],\"scatterternary\":[{\"type\":\"scatterternary\",\"marker\":{\"colorbar\":{\"outlinewidth\":0,\"ticks\":\"\"}}}],\"scattercarpet\":[{\"type\":\"scattercarpet\",\"marker\":{\"colorbar\":{\"outlinewidth\":0,\"ticks\":\"\"}}}],\"carpet\":[{\"aaxis\":{\"endlinecolor\":\"#2a3f5f\",\"gridcolor\":\"white\",\"linecolor\":\"white\",\"minorgridcolor\":\"white\",\"startlinecolor\":\"#2a3f5f\"},\"baxis\":{\"endlinecolor\":\"#2a3f5f\",\"gridcolor\":\"white\",\"linecolor\":\"white\",\"minorgridcolor\":\"white\",\"startlinecolor\":\"#2a3f5f\"},\"type\":\"carpet\"}],\"table\":[{\"cells\":{\"fill\":{\"color\":\"#EBF0F8\"},\"line\":{\"color\":\"white\"}},\"header\":{\"fill\":{\"color\":\"#C8D4E3\"},\"line\":{\"color\":\"white\"}},\"type\":\"table\"}],\"barpolar\":[{\"marker\":{\"line\":{\"color\":\"#E5ECF6\",\"width\":0.5},\"pattern\":{\"fillmode\":\"overlay\",\"size\":10,\"solidity\":0.2}},\"type\":\"barpolar\"}],\"pie\":[{\"automargin\":true,\"type\":\"pie\"}]},\"layout\":{\"autotypenumbers\":\"strict\",\"colorway\":[\"#636efa\",\"#EF553B\",\"#00cc96\",\"#ab63fa\",\"#FFA15A\",\"#19d3f3\",\"#FF6692\",\"#B6E880\",\"#FF97FF\",\"#FECB52\"],\"font\":{\"color\":\"#2a3f5f\"},\"hovermode\":\"closest\",\"hoverlabel\":{\"align\":\"left\"},\"paper_bgcolor\":\"white\",\"plot_bgcolor\":\"#E5ECF6\",\"polar\":{\"bgcolor\":\"#E5ECF6\",\"angularaxis\":{\"gridcolor\":\"white\",\"linecolor\":\"white\",\"ticks\":\"\"},\"radialaxis\":{\"gridcolor\":\"white\",\"linecolor\":\"white\",\"ticks\":\"\"}},\"ternary\":{\"bgcolor\":\"#E5ECF6\",\"aaxis\":{\"gridcolor\":\"white\",\"linecolor\":\"white\",\"ticks\":\"\"},\"baxis\":{\"gridcolor\":\"white\",\"linecolor\":\"white\",\"ticks\":\"\"},\"caxis\":{\"gridcolor\":\"white\",\"linecolor\":\"white\",\"ticks\":\"\"}},\"coloraxis\":{\"colorbar\":{\"outlinewidth\":0,\"ticks\":\"\"}},\"colorscale\":{\"sequential\":[[0.0,\"#0d0887\"],[0.1111111111111111,\"#46039f\"],[0.2222222222222222,\"#7201a8\"],[0.3333333333333333,\"#9c179e\"],[0.4444444444444444,\"#bd3786\"],[0.5555555555555556,\"#d8576b\"],[0.6666666666666666,\"#ed7953\"],[0.7777777777777778,\"#fb9f3a\"],[0.8888888888888888,\"#fdca26\"],[1.0,\"#f0f921\"]],\"sequentialminus\":[[0.0,\"#0d0887\"],[0.1111111111111111,\"#46039f\"],[0.2222222222222222,\"#7201a8\"],[0.3333333333333333,\"#9c179e\"],[0.4444444444444444,\"#bd3786\"],[0.5555555555555556,\"#d8576b\"],[0.6666666666666666,\"#ed7953\"],[0.7777777777777778,\"#fb9f3a\"],[0.8888888888888888,\"#fdca26\"],[1.0,\"#f0f921\"]],\"diverging\":[[0,\"#8e0152\"],[0.1,\"#c51b7d\"],[0.2,\"#de77ae\"],[0.3,\"#f1b6da\"],[0.4,\"#fde0ef\"],[0.5,\"#f7f7f7\"],[0.6,\"#e6f5d0\"],[0.7,\"#b8e186\"],[0.8,\"#7fbc41\"],[0.9,\"#4d9221\"],[1,\"#276419\"]]},\"xaxis\":{\"gridcolor\":\"white\",\"linecolor\":\"white\",\"ticks\":\"\",\"title\":{\"standoff\":15},\"zerolinecolor\":\"white\",\"automargin\":true,\"zerolinewidth\":2},\"yaxis\":{\"gridcolor\":\"white\",\"linecolor\":\"white\",\"ticks\":\"\",\"title\":{\"standoff\":15},\"zerolinecolor\":\"white\",\"automargin\":true,\"zerolinewidth\":2},\"scene\":{\"xaxis\":{\"backgroundcolor\":\"#E5ECF6\",\"gridcolor\":\"white\",\"linecolor\":\"white\",\"showbackground\":true,\"ticks\":\"\",\"zerolinecolor\":\"white\",\"gridwidth\":2},\"yaxis\":{\"backgroundcolor\":\"#E5ECF6\",\"gridcolor\":\"white\",\"linecolor\":\"white\",\"showbackground\":true,\"ticks\":\"\",\"zerolinecolor\":\"white\",\"gridwidth\":2},\"zaxis\":{\"backgroundcolor\":\"#E5ECF6\",\"gridcolor\":\"white\",\"linecolor\":\"white\",\"showbackground\":true,\"ticks\":\"\",\"zerolinecolor\":\"white\",\"gridwidth\":2}},\"shapedefaults\":{\"line\":{\"color\":\"#2a3f5f\"}},\"annotationdefaults\":{\"arrowcolor\":\"#2a3f5f\",\"arrowhead\":0,\"arrowwidth\":1},\"geo\":{\"bgcolor\":\"white\",\"landcolor\":\"#E5ECF6\",\"subunitcolor\":\"white\",\"showland\":true,\"showlakes\":true,\"lakecolor\":\"white\"},\"title\":{\"x\":0.05},\"mapbox\":{\"style\":\"light\"}}},\"xaxis\":{\"anchor\":\"y\",\"domain\":[0.0,1.0],\"title\":{\"text\":\"Week of Month\"}},\"yaxis\":{\"anchor\":\"x\",\"domain\":[0.0,1.0],\"title\":{\"text\":\"Retweet per Tweet\"},\"range\":[0,30000000]},\"legend\":{\"tracegroupgap\":0},\"title\":{\"text\":\"retweets by week of month\"},\"barmode\":\"relative\"},                        {\"responsive\": true}                    ).then(function(){\n",
              "                            \n",
              "var gd = document.getElementById('4e45e4e6-328b-4d50-a115-caf8fed4e3a1');\n",
              "var x = new MutationObserver(function (mutations, observer) {{\n",
              "        var display = window.getComputedStyle(gd).display;\n",
              "        if (!display || display === 'none') {{\n",
              "            console.log([gd, 'removed!']);\n",
              "            Plotly.purge(gd);\n",
              "            observer.disconnect();\n",
              "        }}\n",
              "}});\n",
              "\n",
              "// Listen for the removal of the full notebook cells\n",
              "var notebookContainer = gd.closest('#notebook-container');\n",
              "if (notebookContainer) {{\n",
              "    x.observe(notebookContainer, {childList: true});\n",
              "}}\n",
              "\n",
              "// Listen for the clearing of the current output cell\n",
              "var outputEl = gd.closest('.output');\n",
              "if (outputEl) {{\n",
              "    x.observe(outputEl, {childList: true});\n",
              "}}\n",
              "\n",
              "                        })                };                            </script>        </div>\n",
              "</body>\n",
              "</html>"
            ]
          },
          "metadata": {}
        }
      ]
    },
    {
      "cell_type": "code",
      "source": [
        "fig = px.bar(likesweek, x=0, y=1, title = \"Likes by week of month\",labels={'0':'Week of Month','1':'Like per Tweet'}, range_y=(0,50000000))\n",
        "fig.show()"
      ],
      "metadata": {
        "colab": {
          "base_uri": "https://localhost:8080/",
          "height": 542
        },
        "id": "peY3xnh-vptU",
        "outputId": "d94349a0-7188-46c9-9b5e-3951e0588c4b"
      },
      "execution_count": 112,
      "outputs": [
        {
          "output_type": "display_data",
          "data": {
            "text/html": [
              "<html>\n",
              "<head><meta charset=\"utf-8\" /></head>\n",
              "<body>\n",
              "    <div>            <script src=\"https://cdnjs.cloudflare.com/ajax/libs/mathjax/2.7.5/MathJax.js?config=TeX-AMS-MML_SVG\"></script><script type=\"text/javascript\">if (window.MathJax && window.MathJax.Hub && window.MathJax.Hub.Config) {window.MathJax.Hub.Config({SVG: {font: \"STIX-Web\"}});}</script>                <script type=\"text/javascript\">window.PlotlyConfig = {MathJaxConfig: 'local'};</script>\n",
              "        <script charset=\"utf-8\" src=\"https://cdn.plot.ly/plotly-2.24.1.min.js\"></script>                <div id=\"4b9b784b-f43b-49df-840e-a1254628ee37\" class=\"plotly-graph-div\" style=\"height:525px; width:100%;\"></div>            <script type=\"text/javascript\">                                    window.PLOTLYENV=window.PLOTLYENV || {};                                    if (document.getElementById(\"4b9b784b-f43b-49df-840e-a1254628ee37\")) {                    Plotly.newPlot(                        \"4b9b784b-f43b-49df-840e-a1254628ee37\",                        [{\"alignmentgroup\":\"True\",\"hovertemplate\":\"Week of Month=%{x}\\u003cbr\\u003eLike per Tweet=%{y}\\u003cextra\\u003e\\u003c\\u002fextra\\u003e\",\"legendgroup\":\"\",\"marker\":{\"color\":\"#636efa\",\"pattern\":{\"shape\":\"\"}},\"name\":\"\",\"offsetgroup\":\"\",\"orientation\":\"v\",\"showlegend\":false,\"textposition\":\"auto\",\"x\":[1,2,3,4],\"xaxis\":\"x\",\"y\":[36996688,34127560,35106722,48586066],\"yaxis\":\"y\",\"type\":\"bar\"}],                        {\"template\":{\"data\":{\"histogram2dcontour\":[{\"type\":\"histogram2dcontour\",\"colorbar\":{\"outlinewidth\":0,\"ticks\":\"\"},\"colorscale\":[[0.0,\"#0d0887\"],[0.1111111111111111,\"#46039f\"],[0.2222222222222222,\"#7201a8\"],[0.3333333333333333,\"#9c179e\"],[0.4444444444444444,\"#bd3786\"],[0.5555555555555556,\"#d8576b\"],[0.6666666666666666,\"#ed7953\"],[0.7777777777777778,\"#fb9f3a\"],[0.8888888888888888,\"#fdca26\"],[1.0,\"#f0f921\"]]}],\"choropleth\":[{\"type\":\"choropleth\",\"colorbar\":{\"outlinewidth\":0,\"ticks\":\"\"}}],\"histogram2d\":[{\"type\":\"histogram2d\",\"colorbar\":{\"outlinewidth\":0,\"ticks\":\"\"},\"colorscale\":[[0.0,\"#0d0887\"],[0.1111111111111111,\"#46039f\"],[0.2222222222222222,\"#7201a8\"],[0.3333333333333333,\"#9c179e\"],[0.4444444444444444,\"#bd3786\"],[0.5555555555555556,\"#d8576b\"],[0.6666666666666666,\"#ed7953\"],[0.7777777777777778,\"#fb9f3a\"],[0.8888888888888888,\"#fdca26\"],[1.0,\"#f0f921\"]]}],\"heatmap\":[{\"type\":\"heatmap\",\"colorbar\":{\"outlinewidth\":0,\"ticks\":\"\"},\"colorscale\":[[0.0,\"#0d0887\"],[0.1111111111111111,\"#46039f\"],[0.2222222222222222,\"#7201a8\"],[0.3333333333333333,\"#9c179e\"],[0.4444444444444444,\"#bd3786\"],[0.5555555555555556,\"#d8576b\"],[0.6666666666666666,\"#ed7953\"],[0.7777777777777778,\"#fb9f3a\"],[0.8888888888888888,\"#fdca26\"],[1.0,\"#f0f921\"]]}],\"heatmapgl\":[{\"type\":\"heatmapgl\",\"colorbar\":{\"outlinewidth\":0,\"ticks\":\"\"},\"colorscale\":[[0.0,\"#0d0887\"],[0.1111111111111111,\"#46039f\"],[0.2222222222222222,\"#7201a8\"],[0.3333333333333333,\"#9c179e\"],[0.4444444444444444,\"#bd3786\"],[0.5555555555555556,\"#d8576b\"],[0.6666666666666666,\"#ed7953\"],[0.7777777777777778,\"#fb9f3a\"],[0.8888888888888888,\"#fdca26\"],[1.0,\"#f0f921\"]]}],\"contourcarpet\":[{\"type\":\"contourcarpet\",\"colorbar\":{\"outlinewidth\":0,\"ticks\":\"\"}}],\"contour\":[{\"type\":\"contour\",\"colorbar\":{\"outlinewidth\":0,\"ticks\":\"\"},\"colorscale\":[[0.0,\"#0d0887\"],[0.1111111111111111,\"#46039f\"],[0.2222222222222222,\"#7201a8\"],[0.3333333333333333,\"#9c179e\"],[0.4444444444444444,\"#bd3786\"],[0.5555555555555556,\"#d8576b\"],[0.6666666666666666,\"#ed7953\"],[0.7777777777777778,\"#fb9f3a\"],[0.8888888888888888,\"#fdca26\"],[1.0,\"#f0f921\"]]}],\"surface\":[{\"type\":\"surface\",\"colorbar\":{\"outlinewidth\":0,\"ticks\":\"\"},\"colorscale\":[[0.0,\"#0d0887\"],[0.1111111111111111,\"#46039f\"],[0.2222222222222222,\"#7201a8\"],[0.3333333333333333,\"#9c179e\"],[0.4444444444444444,\"#bd3786\"],[0.5555555555555556,\"#d8576b\"],[0.6666666666666666,\"#ed7953\"],[0.7777777777777778,\"#fb9f3a\"],[0.8888888888888888,\"#fdca26\"],[1.0,\"#f0f921\"]]}],\"mesh3d\":[{\"type\":\"mesh3d\",\"colorbar\":{\"outlinewidth\":0,\"ticks\":\"\"}}],\"scatter\":[{\"fillpattern\":{\"fillmode\":\"overlay\",\"size\":10,\"solidity\":0.2},\"type\":\"scatter\"}],\"parcoords\":[{\"type\":\"parcoords\",\"line\":{\"colorbar\":{\"outlinewidth\":0,\"ticks\":\"\"}}}],\"scatterpolargl\":[{\"type\":\"scatterpolargl\",\"marker\":{\"colorbar\":{\"outlinewidth\":0,\"ticks\":\"\"}}}],\"bar\":[{\"error_x\":{\"color\":\"#2a3f5f\"},\"error_y\":{\"color\":\"#2a3f5f\"},\"marker\":{\"line\":{\"color\":\"#E5ECF6\",\"width\":0.5},\"pattern\":{\"fillmode\":\"overlay\",\"size\":10,\"solidity\":0.2}},\"type\":\"bar\"}],\"scattergeo\":[{\"type\":\"scattergeo\",\"marker\":{\"colorbar\":{\"outlinewidth\":0,\"ticks\":\"\"}}}],\"scatterpolar\":[{\"type\":\"scatterpolar\",\"marker\":{\"colorbar\":{\"outlinewidth\":0,\"ticks\":\"\"}}}],\"histogram\":[{\"marker\":{\"pattern\":{\"fillmode\":\"overlay\",\"size\":10,\"solidity\":0.2}},\"type\":\"histogram\"}],\"scattergl\":[{\"type\":\"scattergl\",\"marker\":{\"colorbar\":{\"outlinewidth\":0,\"ticks\":\"\"}}}],\"scatter3d\":[{\"type\":\"scatter3d\",\"line\":{\"colorbar\":{\"outlinewidth\":0,\"ticks\":\"\"}},\"marker\":{\"colorbar\":{\"outlinewidth\":0,\"ticks\":\"\"}}}],\"scattermapbox\":[{\"type\":\"scattermapbox\",\"marker\":{\"colorbar\":{\"outlinewidth\":0,\"ticks\":\"\"}}}],\"scatterternary\":[{\"type\":\"scatterternary\",\"marker\":{\"colorbar\":{\"outlinewidth\":0,\"ticks\":\"\"}}}],\"scattercarpet\":[{\"type\":\"scattercarpet\",\"marker\":{\"colorbar\":{\"outlinewidth\":0,\"ticks\":\"\"}}}],\"carpet\":[{\"aaxis\":{\"endlinecolor\":\"#2a3f5f\",\"gridcolor\":\"white\",\"linecolor\":\"white\",\"minorgridcolor\":\"white\",\"startlinecolor\":\"#2a3f5f\"},\"baxis\":{\"endlinecolor\":\"#2a3f5f\",\"gridcolor\":\"white\",\"linecolor\":\"white\",\"minorgridcolor\":\"white\",\"startlinecolor\":\"#2a3f5f\"},\"type\":\"carpet\"}],\"table\":[{\"cells\":{\"fill\":{\"color\":\"#EBF0F8\"},\"line\":{\"color\":\"white\"}},\"header\":{\"fill\":{\"color\":\"#C8D4E3\"},\"line\":{\"color\":\"white\"}},\"type\":\"table\"}],\"barpolar\":[{\"marker\":{\"line\":{\"color\":\"#E5ECF6\",\"width\":0.5},\"pattern\":{\"fillmode\":\"overlay\",\"size\":10,\"solidity\":0.2}},\"type\":\"barpolar\"}],\"pie\":[{\"automargin\":true,\"type\":\"pie\"}]},\"layout\":{\"autotypenumbers\":\"strict\",\"colorway\":[\"#636efa\",\"#EF553B\",\"#00cc96\",\"#ab63fa\",\"#FFA15A\",\"#19d3f3\",\"#FF6692\",\"#B6E880\",\"#FF97FF\",\"#FECB52\"],\"font\":{\"color\":\"#2a3f5f\"},\"hovermode\":\"closest\",\"hoverlabel\":{\"align\":\"left\"},\"paper_bgcolor\":\"white\",\"plot_bgcolor\":\"#E5ECF6\",\"polar\":{\"bgcolor\":\"#E5ECF6\",\"angularaxis\":{\"gridcolor\":\"white\",\"linecolor\":\"white\",\"ticks\":\"\"},\"radialaxis\":{\"gridcolor\":\"white\",\"linecolor\":\"white\",\"ticks\":\"\"}},\"ternary\":{\"bgcolor\":\"#E5ECF6\",\"aaxis\":{\"gridcolor\":\"white\",\"linecolor\":\"white\",\"ticks\":\"\"},\"baxis\":{\"gridcolor\":\"white\",\"linecolor\":\"white\",\"ticks\":\"\"},\"caxis\":{\"gridcolor\":\"white\",\"linecolor\":\"white\",\"ticks\":\"\"}},\"coloraxis\":{\"colorbar\":{\"outlinewidth\":0,\"ticks\":\"\"}},\"colorscale\":{\"sequential\":[[0.0,\"#0d0887\"],[0.1111111111111111,\"#46039f\"],[0.2222222222222222,\"#7201a8\"],[0.3333333333333333,\"#9c179e\"],[0.4444444444444444,\"#bd3786\"],[0.5555555555555556,\"#d8576b\"],[0.6666666666666666,\"#ed7953\"],[0.7777777777777778,\"#fb9f3a\"],[0.8888888888888888,\"#fdca26\"],[1.0,\"#f0f921\"]],\"sequentialminus\":[[0.0,\"#0d0887\"],[0.1111111111111111,\"#46039f\"],[0.2222222222222222,\"#7201a8\"],[0.3333333333333333,\"#9c179e\"],[0.4444444444444444,\"#bd3786\"],[0.5555555555555556,\"#d8576b\"],[0.6666666666666666,\"#ed7953\"],[0.7777777777777778,\"#fb9f3a\"],[0.8888888888888888,\"#fdca26\"],[1.0,\"#f0f921\"]],\"diverging\":[[0,\"#8e0152\"],[0.1,\"#c51b7d\"],[0.2,\"#de77ae\"],[0.3,\"#f1b6da\"],[0.4,\"#fde0ef\"],[0.5,\"#f7f7f7\"],[0.6,\"#e6f5d0\"],[0.7,\"#b8e186\"],[0.8,\"#7fbc41\"],[0.9,\"#4d9221\"],[1,\"#276419\"]]},\"xaxis\":{\"gridcolor\":\"white\",\"linecolor\":\"white\",\"ticks\":\"\",\"title\":{\"standoff\":15},\"zerolinecolor\":\"white\",\"automargin\":true,\"zerolinewidth\":2},\"yaxis\":{\"gridcolor\":\"white\",\"linecolor\":\"white\",\"ticks\":\"\",\"title\":{\"standoff\":15},\"zerolinecolor\":\"white\",\"automargin\":true,\"zerolinewidth\":2},\"scene\":{\"xaxis\":{\"backgroundcolor\":\"#E5ECF6\",\"gridcolor\":\"white\",\"linecolor\":\"white\",\"showbackground\":true,\"ticks\":\"\",\"zerolinecolor\":\"white\",\"gridwidth\":2},\"yaxis\":{\"backgroundcolor\":\"#E5ECF6\",\"gridcolor\":\"white\",\"linecolor\":\"white\",\"showbackground\":true,\"ticks\":\"\",\"zerolinecolor\":\"white\",\"gridwidth\":2},\"zaxis\":{\"backgroundcolor\":\"#E5ECF6\",\"gridcolor\":\"white\",\"linecolor\":\"white\",\"showbackground\":true,\"ticks\":\"\",\"zerolinecolor\":\"white\",\"gridwidth\":2}},\"shapedefaults\":{\"line\":{\"color\":\"#2a3f5f\"}},\"annotationdefaults\":{\"arrowcolor\":\"#2a3f5f\",\"arrowhead\":0,\"arrowwidth\":1},\"geo\":{\"bgcolor\":\"white\",\"landcolor\":\"#E5ECF6\",\"subunitcolor\":\"white\",\"showland\":true,\"showlakes\":true,\"lakecolor\":\"white\"},\"title\":{\"x\":0.05},\"mapbox\":{\"style\":\"light\"}}},\"xaxis\":{\"anchor\":\"y\",\"domain\":[0.0,1.0],\"title\":{\"text\":\"Week of Month\"}},\"yaxis\":{\"anchor\":\"x\",\"domain\":[0.0,1.0],\"title\":{\"text\":\"Like per Tweet\"},\"range\":[0,50000000]},\"legend\":{\"tracegroupgap\":0},\"title\":{\"text\":\"Likes by week of month\"},\"barmode\":\"relative\"},                        {\"responsive\": true}                    ).then(function(){\n",
              "                            \n",
              "var gd = document.getElementById('4b9b784b-f43b-49df-840e-a1254628ee37');\n",
              "var x = new MutationObserver(function (mutations, observer) {{\n",
              "        var display = window.getComputedStyle(gd).display;\n",
              "        if (!display || display === 'none') {{\n",
              "            console.log([gd, 'removed!']);\n",
              "            Plotly.purge(gd);\n",
              "            observer.disconnect();\n",
              "        }}\n",
              "}});\n",
              "\n",
              "// Listen for the removal of the full notebook cells\n",
              "var notebookContainer = gd.closest('#notebook-container');\n",
              "if (notebookContainer) {{\n",
              "    x.observe(notebookContainer, {childList: true});\n",
              "}}\n",
              "\n",
              "// Listen for the clearing of the current output cell\n",
              "var outputEl = gd.closest('.output');\n",
              "if (outputEl) {{\n",
              "    x.observe(outputEl, {childList: true});\n",
              "}}\n",
              "\n",
              "                        })                };                            </script>        </div>\n",
              "</body>\n",
              "</html>"
            ]
          },
          "metadata": {}
        }
      ]
    },
    {
      "cell_type": "markdown",
      "source": [
        "##Retweets per Tweet and Likes per Tweet per Week of Month"
      ],
      "metadata": {
        "id": "W3j94IbtxLHb"
      }
    },
    {
      "cell_type": "code",
      "source": [
        "print(totalsPerWeek)\n",
        "print(tweetsPerWeek)"
      ],
      "metadata": {
        "colab": {
          "base_uri": "https://localhost:8080/"
        },
        "id": "NUOSCDMgxf2c",
        "outputId": "2f81aa8b-92ba-49b8-cbcd-3af113465dfb"
      },
      "execution_count": 113,
      "outputs": [
        {
          "output_type": "stream",
          "name": "stdout",
          "text": [
            "[[1, 36996688, 25150022], [2, 34127560, 16885833], [3, 35106722, 13797065], [4, 48586066, 20109354]]\n",
            "[[1, 10374], [2, 11578], [3, 9234], [4, 11645]]\n"
          ]
        }
      ]
    },
    {
      "cell_type": "code",
      "source": [
        "x = 1\n",
        "avgRetweetpw = []\n",
        "avgLikespw = []\n",
        "while x < 5:\n",
        "    average = (totalsPerWeek[x-1][2])/(tweetsPerWeek[x-1][1])\n",
        "    avgRetweetpw.append([x,average])\n",
        "\n",
        "    average = (totalsPerWeek[x-1][1])/(tweetsPerWeek[x-1][1])\n",
        "    avgLikespw.append([x,average])\n",
        "    x=x+1\n",
        "\n",
        "print(avgRetweetpw)\n",
        "print(avgLikespw)"
      ],
      "metadata": {
        "colab": {
          "base_uri": "https://localhost:8080/"
        },
        "id": "Er24QmQvxRqg",
        "outputId": "3410fc55-b6c6-42c5-92dd-448fd1427ee1"
      },
      "execution_count": 114,
      "outputs": [
        {
          "output_type": "stream",
          "name": "stdout",
          "text": [
            "[[1, 2424.3321765953347], [2, 1458.4412679219208], [3, 1494.1590859865714], [4, 1726.8659510519535]]\n",
            "[[1, 3566.2895700790436], [2, 2947.621350837796], [3, 3801.8975525232836], [4, 4172.268441391155]]\n"
          ]
        }
      ]
    },
    {
      "cell_type": "code",
      "source": [
        "fig = px.bar(avgRetweetpw, x=0, y=1, title = \"retweet per tweet by week of month\",labels={'0':'week of month','1':'Retweets per Tweet'}, range_y=(0,4000))\n",
        "fig.show()"
      ],
      "metadata": {
        "colab": {
          "base_uri": "https://localhost:8080/",
          "height": 0
        },
        "id": "Bd_BZndSxU9X",
        "outputId": "1757925e-2352-4951-a0d1-b96f1effa4fc"
      },
      "execution_count": 115,
      "outputs": [
        {
          "output_type": "display_data",
          "data": {
            "text/html": [
              "<html>\n",
              "<head><meta charset=\"utf-8\" /></head>\n",
              "<body>\n",
              "    <div>            <script src=\"https://cdnjs.cloudflare.com/ajax/libs/mathjax/2.7.5/MathJax.js?config=TeX-AMS-MML_SVG\"></script><script type=\"text/javascript\">if (window.MathJax && window.MathJax.Hub && window.MathJax.Hub.Config) {window.MathJax.Hub.Config({SVG: {font: \"STIX-Web\"}});}</script>                <script type=\"text/javascript\">window.PlotlyConfig = {MathJaxConfig: 'local'};</script>\n",
              "        <script charset=\"utf-8\" src=\"https://cdn.plot.ly/plotly-2.24.1.min.js\"></script>                <div id=\"7e8cc239-7ca3-4d6f-934f-0018eaaf343b\" class=\"plotly-graph-div\" style=\"height:525px; width:100%;\"></div>            <script type=\"text/javascript\">                                    window.PLOTLYENV=window.PLOTLYENV || {};                                    if (document.getElementById(\"7e8cc239-7ca3-4d6f-934f-0018eaaf343b\")) {                    Plotly.newPlot(                        \"7e8cc239-7ca3-4d6f-934f-0018eaaf343b\",                        [{\"alignmentgroup\":\"True\",\"hovertemplate\":\"week of month=%{x}\\u003cbr\\u003eRetweets per Tweet=%{y}\\u003cextra\\u003e\\u003c\\u002fextra\\u003e\",\"legendgroup\":\"\",\"marker\":{\"color\":\"#636efa\",\"pattern\":{\"shape\":\"\"}},\"name\":\"\",\"offsetgroup\":\"\",\"orientation\":\"v\",\"showlegend\":false,\"textposition\":\"auto\",\"x\":[1,2,3,4],\"xaxis\":\"x\",\"y\":[2424.3321765953347,1458.4412679219208,1494.1590859865714,1726.8659510519535],\"yaxis\":\"y\",\"type\":\"bar\"}],                        {\"template\":{\"data\":{\"histogram2dcontour\":[{\"type\":\"histogram2dcontour\",\"colorbar\":{\"outlinewidth\":0,\"ticks\":\"\"},\"colorscale\":[[0.0,\"#0d0887\"],[0.1111111111111111,\"#46039f\"],[0.2222222222222222,\"#7201a8\"],[0.3333333333333333,\"#9c179e\"],[0.4444444444444444,\"#bd3786\"],[0.5555555555555556,\"#d8576b\"],[0.6666666666666666,\"#ed7953\"],[0.7777777777777778,\"#fb9f3a\"],[0.8888888888888888,\"#fdca26\"],[1.0,\"#f0f921\"]]}],\"choropleth\":[{\"type\":\"choropleth\",\"colorbar\":{\"outlinewidth\":0,\"ticks\":\"\"}}],\"histogram2d\":[{\"type\":\"histogram2d\",\"colorbar\":{\"outlinewidth\":0,\"ticks\":\"\"},\"colorscale\":[[0.0,\"#0d0887\"],[0.1111111111111111,\"#46039f\"],[0.2222222222222222,\"#7201a8\"],[0.3333333333333333,\"#9c179e\"],[0.4444444444444444,\"#bd3786\"],[0.5555555555555556,\"#d8576b\"],[0.6666666666666666,\"#ed7953\"],[0.7777777777777778,\"#fb9f3a\"],[0.8888888888888888,\"#fdca26\"],[1.0,\"#f0f921\"]]}],\"heatmap\":[{\"type\":\"heatmap\",\"colorbar\":{\"outlinewidth\":0,\"ticks\":\"\"},\"colorscale\":[[0.0,\"#0d0887\"],[0.1111111111111111,\"#46039f\"],[0.2222222222222222,\"#7201a8\"],[0.3333333333333333,\"#9c179e\"],[0.4444444444444444,\"#bd3786\"],[0.5555555555555556,\"#d8576b\"],[0.6666666666666666,\"#ed7953\"],[0.7777777777777778,\"#fb9f3a\"],[0.8888888888888888,\"#fdca26\"],[1.0,\"#f0f921\"]]}],\"heatmapgl\":[{\"type\":\"heatmapgl\",\"colorbar\":{\"outlinewidth\":0,\"ticks\":\"\"},\"colorscale\":[[0.0,\"#0d0887\"],[0.1111111111111111,\"#46039f\"],[0.2222222222222222,\"#7201a8\"],[0.3333333333333333,\"#9c179e\"],[0.4444444444444444,\"#bd3786\"],[0.5555555555555556,\"#d8576b\"],[0.6666666666666666,\"#ed7953\"],[0.7777777777777778,\"#fb9f3a\"],[0.8888888888888888,\"#fdca26\"],[1.0,\"#f0f921\"]]}],\"contourcarpet\":[{\"type\":\"contourcarpet\",\"colorbar\":{\"outlinewidth\":0,\"ticks\":\"\"}}],\"contour\":[{\"type\":\"contour\",\"colorbar\":{\"outlinewidth\":0,\"ticks\":\"\"},\"colorscale\":[[0.0,\"#0d0887\"],[0.1111111111111111,\"#46039f\"],[0.2222222222222222,\"#7201a8\"],[0.3333333333333333,\"#9c179e\"],[0.4444444444444444,\"#bd3786\"],[0.5555555555555556,\"#d8576b\"],[0.6666666666666666,\"#ed7953\"],[0.7777777777777778,\"#fb9f3a\"],[0.8888888888888888,\"#fdca26\"],[1.0,\"#f0f921\"]]}],\"surface\":[{\"type\":\"surface\",\"colorbar\":{\"outlinewidth\":0,\"ticks\":\"\"},\"colorscale\":[[0.0,\"#0d0887\"],[0.1111111111111111,\"#46039f\"],[0.2222222222222222,\"#7201a8\"],[0.3333333333333333,\"#9c179e\"],[0.4444444444444444,\"#bd3786\"],[0.5555555555555556,\"#d8576b\"],[0.6666666666666666,\"#ed7953\"],[0.7777777777777778,\"#fb9f3a\"],[0.8888888888888888,\"#fdca26\"],[1.0,\"#f0f921\"]]}],\"mesh3d\":[{\"type\":\"mesh3d\",\"colorbar\":{\"outlinewidth\":0,\"ticks\":\"\"}}],\"scatter\":[{\"fillpattern\":{\"fillmode\":\"overlay\",\"size\":10,\"solidity\":0.2},\"type\":\"scatter\"}],\"parcoords\":[{\"type\":\"parcoords\",\"line\":{\"colorbar\":{\"outlinewidth\":0,\"ticks\":\"\"}}}],\"scatterpolargl\":[{\"type\":\"scatterpolargl\",\"marker\":{\"colorbar\":{\"outlinewidth\":0,\"ticks\":\"\"}}}],\"bar\":[{\"error_x\":{\"color\":\"#2a3f5f\"},\"error_y\":{\"color\":\"#2a3f5f\"},\"marker\":{\"line\":{\"color\":\"#E5ECF6\",\"width\":0.5},\"pattern\":{\"fillmode\":\"overlay\",\"size\":10,\"solidity\":0.2}},\"type\":\"bar\"}],\"scattergeo\":[{\"type\":\"scattergeo\",\"marker\":{\"colorbar\":{\"outlinewidth\":0,\"ticks\":\"\"}}}],\"scatterpolar\":[{\"type\":\"scatterpolar\",\"marker\":{\"colorbar\":{\"outlinewidth\":0,\"ticks\":\"\"}}}],\"histogram\":[{\"marker\":{\"pattern\":{\"fillmode\":\"overlay\",\"size\":10,\"solidity\":0.2}},\"type\":\"histogram\"}],\"scattergl\":[{\"type\":\"scattergl\",\"marker\":{\"colorbar\":{\"outlinewidth\":0,\"ticks\":\"\"}}}],\"scatter3d\":[{\"type\":\"scatter3d\",\"line\":{\"colorbar\":{\"outlinewidth\":0,\"ticks\":\"\"}},\"marker\":{\"colorbar\":{\"outlinewidth\":0,\"ticks\":\"\"}}}],\"scattermapbox\":[{\"type\":\"scattermapbox\",\"marker\":{\"colorbar\":{\"outlinewidth\":0,\"ticks\":\"\"}}}],\"scatterternary\":[{\"type\":\"scatterternary\",\"marker\":{\"colorbar\":{\"outlinewidth\":0,\"ticks\":\"\"}}}],\"scattercarpet\":[{\"type\":\"scattercarpet\",\"marker\":{\"colorbar\":{\"outlinewidth\":0,\"ticks\":\"\"}}}],\"carpet\":[{\"aaxis\":{\"endlinecolor\":\"#2a3f5f\",\"gridcolor\":\"white\",\"linecolor\":\"white\",\"minorgridcolor\":\"white\",\"startlinecolor\":\"#2a3f5f\"},\"baxis\":{\"endlinecolor\":\"#2a3f5f\",\"gridcolor\":\"white\",\"linecolor\":\"white\",\"minorgridcolor\":\"white\",\"startlinecolor\":\"#2a3f5f\"},\"type\":\"carpet\"}],\"table\":[{\"cells\":{\"fill\":{\"color\":\"#EBF0F8\"},\"line\":{\"color\":\"white\"}},\"header\":{\"fill\":{\"color\":\"#C8D4E3\"},\"line\":{\"color\":\"white\"}},\"type\":\"table\"}],\"barpolar\":[{\"marker\":{\"line\":{\"color\":\"#E5ECF6\",\"width\":0.5},\"pattern\":{\"fillmode\":\"overlay\",\"size\":10,\"solidity\":0.2}},\"type\":\"barpolar\"}],\"pie\":[{\"automargin\":true,\"type\":\"pie\"}]},\"layout\":{\"autotypenumbers\":\"strict\",\"colorway\":[\"#636efa\",\"#EF553B\",\"#00cc96\",\"#ab63fa\",\"#FFA15A\",\"#19d3f3\",\"#FF6692\",\"#B6E880\",\"#FF97FF\",\"#FECB52\"],\"font\":{\"color\":\"#2a3f5f\"},\"hovermode\":\"closest\",\"hoverlabel\":{\"align\":\"left\"},\"paper_bgcolor\":\"white\",\"plot_bgcolor\":\"#E5ECF6\",\"polar\":{\"bgcolor\":\"#E5ECF6\",\"angularaxis\":{\"gridcolor\":\"white\",\"linecolor\":\"white\",\"ticks\":\"\"},\"radialaxis\":{\"gridcolor\":\"white\",\"linecolor\":\"white\",\"ticks\":\"\"}},\"ternary\":{\"bgcolor\":\"#E5ECF6\",\"aaxis\":{\"gridcolor\":\"white\",\"linecolor\":\"white\",\"ticks\":\"\"},\"baxis\":{\"gridcolor\":\"white\",\"linecolor\":\"white\",\"ticks\":\"\"},\"caxis\":{\"gridcolor\":\"white\",\"linecolor\":\"white\",\"ticks\":\"\"}},\"coloraxis\":{\"colorbar\":{\"outlinewidth\":0,\"ticks\":\"\"}},\"colorscale\":{\"sequential\":[[0.0,\"#0d0887\"],[0.1111111111111111,\"#46039f\"],[0.2222222222222222,\"#7201a8\"],[0.3333333333333333,\"#9c179e\"],[0.4444444444444444,\"#bd3786\"],[0.5555555555555556,\"#d8576b\"],[0.6666666666666666,\"#ed7953\"],[0.7777777777777778,\"#fb9f3a\"],[0.8888888888888888,\"#fdca26\"],[1.0,\"#f0f921\"]],\"sequentialminus\":[[0.0,\"#0d0887\"],[0.1111111111111111,\"#46039f\"],[0.2222222222222222,\"#7201a8\"],[0.3333333333333333,\"#9c179e\"],[0.4444444444444444,\"#bd3786\"],[0.5555555555555556,\"#d8576b\"],[0.6666666666666666,\"#ed7953\"],[0.7777777777777778,\"#fb9f3a\"],[0.8888888888888888,\"#fdca26\"],[1.0,\"#f0f921\"]],\"diverging\":[[0,\"#8e0152\"],[0.1,\"#c51b7d\"],[0.2,\"#de77ae\"],[0.3,\"#f1b6da\"],[0.4,\"#fde0ef\"],[0.5,\"#f7f7f7\"],[0.6,\"#e6f5d0\"],[0.7,\"#b8e186\"],[0.8,\"#7fbc41\"],[0.9,\"#4d9221\"],[1,\"#276419\"]]},\"xaxis\":{\"gridcolor\":\"white\",\"linecolor\":\"white\",\"ticks\":\"\",\"title\":{\"standoff\":15},\"zerolinecolor\":\"white\",\"automargin\":true,\"zerolinewidth\":2},\"yaxis\":{\"gridcolor\":\"white\",\"linecolor\":\"white\",\"ticks\":\"\",\"title\":{\"standoff\":15},\"zerolinecolor\":\"white\",\"automargin\":true,\"zerolinewidth\":2},\"scene\":{\"xaxis\":{\"backgroundcolor\":\"#E5ECF6\",\"gridcolor\":\"white\",\"linecolor\":\"white\",\"showbackground\":true,\"ticks\":\"\",\"zerolinecolor\":\"white\",\"gridwidth\":2},\"yaxis\":{\"backgroundcolor\":\"#E5ECF6\",\"gridcolor\":\"white\",\"linecolor\":\"white\",\"showbackground\":true,\"ticks\":\"\",\"zerolinecolor\":\"white\",\"gridwidth\":2},\"zaxis\":{\"backgroundcolor\":\"#E5ECF6\",\"gridcolor\":\"white\",\"linecolor\":\"white\",\"showbackground\":true,\"ticks\":\"\",\"zerolinecolor\":\"white\",\"gridwidth\":2}},\"shapedefaults\":{\"line\":{\"color\":\"#2a3f5f\"}},\"annotationdefaults\":{\"arrowcolor\":\"#2a3f5f\",\"arrowhead\":0,\"arrowwidth\":1},\"geo\":{\"bgcolor\":\"white\",\"landcolor\":\"#E5ECF6\",\"subunitcolor\":\"white\",\"showland\":true,\"showlakes\":true,\"lakecolor\":\"white\"},\"title\":{\"x\":0.05},\"mapbox\":{\"style\":\"light\"}}},\"xaxis\":{\"anchor\":\"y\",\"domain\":[0.0,1.0],\"title\":{\"text\":\"week of month\"}},\"yaxis\":{\"anchor\":\"x\",\"domain\":[0.0,1.0],\"title\":{\"text\":\"Retweets per Tweet\"},\"range\":[0,4000]},\"legend\":{\"tracegroupgap\":0},\"title\":{\"text\":\"retweet per tweet by week of month\"},\"barmode\":\"relative\"},                        {\"responsive\": true}                    ).then(function(){\n",
              "                            \n",
              "var gd = document.getElementById('7e8cc239-7ca3-4d6f-934f-0018eaaf343b');\n",
              "var x = new MutationObserver(function (mutations, observer) {{\n",
              "        var display = window.getComputedStyle(gd).display;\n",
              "        if (!display || display === 'none') {{\n",
              "            console.log([gd, 'removed!']);\n",
              "            Plotly.purge(gd);\n",
              "            observer.disconnect();\n",
              "        }}\n",
              "}});\n",
              "\n",
              "// Listen for the removal of the full notebook cells\n",
              "var notebookContainer = gd.closest('#notebook-container');\n",
              "if (notebookContainer) {{\n",
              "    x.observe(notebookContainer, {childList: true});\n",
              "}}\n",
              "\n",
              "// Listen for the clearing of the current output cell\n",
              "var outputEl = gd.closest('.output');\n",
              "if (outputEl) {{\n",
              "    x.observe(outputEl, {childList: true});\n",
              "}}\n",
              "\n",
              "                        })                };                            </script>        </div>\n",
              "</body>\n",
              "</html>"
            ]
          },
          "metadata": {}
        }
      ]
    },
    {
      "cell_type": "code",
      "source": [
        "fig = px.bar(avgLikespw, x=0, y=1, title = \"like per tweet by week of month\",labels={'0':'week of month','1':'Like per Tweet'}, range_y=(0,5000))\n",
        "fig.show()"
      ],
      "metadata": {
        "colab": {
          "base_uri": "https://localhost:8080/",
          "height": 0
        },
        "id": "XfwyKV6xxVTP",
        "outputId": "5e8d3d16-5242-4dd9-aba0-87bfea8b45dd"
      },
      "execution_count": 116,
      "outputs": [
        {
          "output_type": "display_data",
          "data": {
            "text/html": [
              "<html>\n",
              "<head><meta charset=\"utf-8\" /></head>\n",
              "<body>\n",
              "    <div>            <script src=\"https://cdnjs.cloudflare.com/ajax/libs/mathjax/2.7.5/MathJax.js?config=TeX-AMS-MML_SVG\"></script><script type=\"text/javascript\">if (window.MathJax && window.MathJax.Hub && window.MathJax.Hub.Config) {window.MathJax.Hub.Config({SVG: {font: \"STIX-Web\"}});}</script>                <script type=\"text/javascript\">window.PlotlyConfig = {MathJaxConfig: 'local'};</script>\n",
              "        <script charset=\"utf-8\" src=\"https://cdn.plot.ly/plotly-2.24.1.min.js\"></script>                <div id=\"7f645f3c-1238-4d92-b2ba-347401b262bd\" class=\"plotly-graph-div\" style=\"height:525px; width:100%;\"></div>            <script type=\"text/javascript\">                                    window.PLOTLYENV=window.PLOTLYENV || {};                                    if (document.getElementById(\"7f645f3c-1238-4d92-b2ba-347401b262bd\")) {                    Plotly.newPlot(                        \"7f645f3c-1238-4d92-b2ba-347401b262bd\",                        [{\"alignmentgroup\":\"True\",\"hovertemplate\":\"week of month=%{x}\\u003cbr\\u003eLike per Tweet=%{y}\\u003cextra\\u003e\\u003c\\u002fextra\\u003e\",\"legendgroup\":\"\",\"marker\":{\"color\":\"#636efa\",\"pattern\":{\"shape\":\"\"}},\"name\":\"\",\"offsetgroup\":\"\",\"orientation\":\"v\",\"showlegend\":false,\"textposition\":\"auto\",\"x\":[1,2,3,4],\"xaxis\":\"x\",\"y\":[3566.2895700790436,2947.621350837796,3801.8975525232836,4172.268441391155],\"yaxis\":\"y\",\"type\":\"bar\"}],                        {\"template\":{\"data\":{\"histogram2dcontour\":[{\"type\":\"histogram2dcontour\",\"colorbar\":{\"outlinewidth\":0,\"ticks\":\"\"},\"colorscale\":[[0.0,\"#0d0887\"],[0.1111111111111111,\"#46039f\"],[0.2222222222222222,\"#7201a8\"],[0.3333333333333333,\"#9c179e\"],[0.4444444444444444,\"#bd3786\"],[0.5555555555555556,\"#d8576b\"],[0.6666666666666666,\"#ed7953\"],[0.7777777777777778,\"#fb9f3a\"],[0.8888888888888888,\"#fdca26\"],[1.0,\"#f0f921\"]]}],\"choropleth\":[{\"type\":\"choropleth\",\"colorbar\":{\"outlinewidth\":0,\"ticks\":\"\"}}],\"histogram2d\":[{\"type\":\"histogram2d\",\"colorbar\":{\"outlinewidth\":0,\"ticks\":\"\"},\"colorscale\":[[0.0,\"#0d0887\"],[0.1111111111111111,\"#46039f\"],[0.2222222222222222,\"#7201a8\"],[0.3333333333333333,\"#9c179e\"],[0.4444444444444444,\"#bd3786\"],[0.5555555555555556,\"#d8576b\"],[0.6666666666666666,\"#ed7953\"],[0.7777777777777778,\"#fb9f3a\"],[0.8888888888888888,\"#fdca26\"],[1.0,\"#f0f921\"]]}],\"heatmap\":[{\"type\":\"heatmap\",\"colorbar\":{\"outlinewidth\":0,\"ticks\":\"\"},\"colorscale\":[[0.0,\"#0d0887\"],[0.1111111111111111,\"#46039f\"],[0.2222222222222222,\"#7201a8\"],[0.3333333333333333,\"#9c179e\"],[0.4444444444444444,\"#bd3786\"],[0.5555555555555556,\"#d8576b\"],[0.6666666666666666,\"#ed7953\"],[0.7777777777777778,\"#fb9f3a\"],[0.8888888888888888,\"#fdca26\"],[1.0,\"#f0f921\"]]}],\"heatmapgl\":[{\"type\":\"heatmapgl\",\"colorbar\":{\"outlinewidth\":0,\"ticks\":\"\"},\"colorscale\":[[0.0,\"#0d0887\"],[0.1111111111111111,\"#46039f\"],[0.2222222222222222,\"#7201a8\"],[0.3333333333333333,\"#9c179e\"],[0.4444444444444444,\"#bd3786\"],[0.5555555555555556,\"#d8576b\"],[0.6666666666666666,\"#ed7953\"],[0.7777777777777778,\"#fb9f3a\"],[0.8888888888888888,\"#fdca26\"],[1.0,\"#f0f921\"]]}],\"contourcarpet\":[{\"type\":\"contourcarpet\",\"colorbar\":{\"outlinewidth\":0,\"ticks\":\"\"}}],\"contour\":[{\"type\":\"contour\",\"colorbar\":{\"outlinewidth\":0,\"ticks\":\"\"},\"colorscale\":[[0.0,\"#0d0887\"],[0.1111111111111111,\"#46039f\"],[0.2222222222222222,\"#7201a8\"],[0.3333333333333333,\"#9c179e\"],[0.4444444444444444,\"#bd3786\"],[0.5555555555555556,\"#d8576b\"],[0.6666666666666666,\"#ed7953\"],[0.7777777777777778,\"#fb9f3a\"],[0.8888888888888888,\"#fdca26\"],[1.0,\"#f0f921\"]]}],\"surface\":[{\"type\":\"surface\",\"colorbar\":{\"outlinewidth\":0,\"ticks\":\"\"},\"colorscale\":[[0.0,\"#0d0887\"],[0.1111111111111111,\"#46039f\"],[0.2222222222222222,\"#7201a8\"],[0.3333333333333333,\"#9c179e\"],[0.4444444444444444,\"#bd3786\"],[0.5555555555555556,\"#d8576b\"],[0.6666666666666666,\"#ed7953\"],[0.7777777777777778,\"#fb9f3a\"],[0.8888888888888888,\"#fdca26\"],[1.0,\"#f0f921\"]]}],\"mesh3d\":[{\"type\":\"mesh3d\",\"colorbar\":{\"outlinewidth\":0,\"ticks\":\"\"}}],\"scatter\":[{\"fillpattern\":{\"fillmode\":\"overlay\",\"size\":10,\"solidity\":0.2},\"type\":\"scatter\"}],\"parcoords\":[{\"type\":\"parcoords\",\"line\":{\"colorbar\":{\"outlinewidth\":0,\"ticks\":\"\"}}}],\"scatterpolargl\":[{\"type\":\"scatterpolargl\",\"marker\":{\"colorbar\":{\"outlinewidth\":0,\"ticks\":\"\"}}}],\"bar\":[{\"error_x\":{\"color\":\"#2a3f5f\"},\"error_y\":{\"color\":\"#2a3f5f\"},\"marker\":{\"line\":{\"color\":\"#E5ECF6\",\"width\":0.5},\"pattern\":{\"fillmode\":\"overlay\",\"size\":10,\"solidity\":0.2}},\"type\":\"bar\"}],\"scattergeo\":[{\"type\":\"scattergeo\",\"marker\":{\"colorbar\":{\"outlinewidth\":0,\"ticks\":\"\"}}}],\"scatterpolar\":[{\"type\":\"scatterpolar\",\"marker\":{\"colorbar\":{\"outlinewidth\":0,\"ticks\":\"\"}}}],\"histogram\":[{\"marker\":{\"pattern\":{\"fillmode\":\"overlay\",\"size\":10,\"solidity\":0.2}},\"type\":\"histogram\"}],\"scattergl\":[{\"type\":\"scattergl\",\"marker\":{\"colorbar\":{\"outlinewidth\":0,\"ticks\":\"\"}}}],\"scatter3d\":[{\"type\":\"scatter3d\",\"line\":{\"colorbar\":{\"outlinewidth\":0,\"ticks\":\"\"}},\"marker\":{\"colorbar\":{\"outlinewidth\":0,\"ticks\":\"\"}}}],\"scattermapbox\":[{\"type\":\"scattermapbox\",\"marker\":{\"colorbar\":{\"outlinewidth\":0,\"ticks\":\"\"}}}],\"scatterternary\":[{\"type\":\"scatterternary\",\"marker\":{\"colorbar\":{\"outlinewidth\":0,\"ticks\":\"\"}}}],\"scattercarpet\":[{\"type\":\"scattercarpet\",\"marker\":{\"colorbar\":{\"outlinewidth\":0,\"ticks\":\"\"}}}],\"carpet\":[{\"aaxis\":{\"endlinecolor\":\"#2a3f5f\",\"gridcolor\":\"white\",\"linecolor\":\"white\",\"minorgridcolor\":\"white\",\"startlinecolor\":\"#2a3f5f\"},\"baxis\":{\"endlinecolor\":\"#2a3f5f\",\"gridcolor\":\"white\",\"linecolor\":\"white\",\"minorgridcolor\":\"white\",\"startlinecolor\":\"#2a3f5f\"},\"type\":\"carpet\"}],\"table\":[{\"cells\":{\"fill\":{\"color\":\"#EBF0F8\"},\"line\":{\"color\":\"white\"}},\"header\":{\"fill\":{\"color\":\"#C8D4E3\"},\"line\":{\"color\":\"white\"}},\"type\":\"table\"}],\"barpolar\":[{\"marker\":{\"line\":{\"color\":\"#E5ECF6\",\"width\":0.5},\"pattern\":{\"fillmode\":\"overlay\",\"size\":10,\"solidity\":0.2}},\"type\":\"barpolar\"}],\"pie\":[{\"automargin\":true,\"type\":\"pie\"}]},\"layout\":{\"autotypenumbers\":\"strict\",\"colorway\":[\"#636efa\",\"#EF553B\",\"#00cc96\",\"#ab63fa\",\"#FFA15A\",\"#19d3f3\",\"#FF6692\",\"#B6E880\",\"#FF97FF\",\"#FECB52\"],\"font\":{\"color\":\"#2a3f5f\"},\"hovermode\":\"closest\",\"hoverlabel\":{\"align\":\"left\"},\"paper_bgcolor\":\"white\",\"plot_bgcolor\":\"#E5ECF6\",\"polar\":{\"bgcolor\":\"#E5ECF6\",\"angularaxis\":{\"gridcolor\":\"white\",\"linecolor\":\"white\",\"ticks\":\"\"},\"radialaxis\":{\"gridcolor\":\"white\",\"linecolor\":\"white\",\"ticks\":\"\"}},\"ternary\":{\"bgcolor\":\"#E5ECF6\",\"aaxis\":{\"gridcolor\":\"white\",\"linecolor\":\"white\",\"ticks\":\"\"},\"baxis\":{\"gridcolor\":\"white\",\"linecolor\":\"white\",\"ticks\":\"\"},\"caxis\":{\"gridcolor\":\"white\",\"linecolor\":\"white\",\"ticks\":\"\"}},\"coloraxis\":{\"colorbar\":{\"outlinewidth\":0,\"ticks\":\"\"}},\"colorscale\":{\"sequential\":[[0.0,\"#0d0887\"],[0.1111111111111111,\"#46039f\"],[0.2222222222222222,\"#7201a8\"],[0.3333333333333333,\"#9c179e\"],[0.4444444444444444,\"#bd3786\"],[0.5555555555555556,\"#d8576b\"],[0.6666666666666666,\"#ed7953\"],[0.7777777777777778,\"#fb9f3a\"],[0.8888888888888888,\"#fdca26\"],[1.0,\"#f0f921\"]],\"sequentialminus\":[[0.0,\"#0d0887\"],[0.1111111111111111,\"#46039f\"],[0.2222222222222222,\"#7201a8\"],[0.3333333333333333,\"#9c179e\"],[0.4444444444444444,\"#bd3786\"],[0.5555555555555556,\"#d8576b\"],[0.6666666666666666,\"#ed7953\"],[0.7777777777777778,\"#fb9f3a\"],[0.8888888888888888,\"#fdca26\"],[1.0,\"#f0f921\"]],\"diverging\":[[0,\"#8e0152\"],[0.1,\"#c51b7d\"],[0.2,\"#de77ae\"],[0.3,\"#f1b6da\"],[0.4,\"#fde0ef\"],[0.5,\"#f7f7f7\"],[0.6,\"#e6f5d0\"],[0.7,\"#b8e186\"],[0.8,\"#7fbc41\"],[0.9,\"#4d9221\"],[1,\"#276419\"]]},\"xaxis\":{\"gridcolor\":\"white\",\"linecolor\":\"white\",\"ticks\":\"\",\"title\":{\"standoff\":15},\"zerolinecolor\":\"white\",\"automargin\":true,\"zerolinewidth\":2},\"yaxis\":{\"gridcolor\":\"white\",\"linecolor\":\"white\",\"ticks\":\"\",\"title\":{\"standoff\":15},\"zerolinecolor\":\"white\",\"automargin\":true,\"zerolinewidth\":2},\"scene\":{\"xaxis\":{\"backgroundcolor\":\"#E5ECF6\",\"gridcolor\":\"white\",\"linecolor\":\"white\",\"showbackground\":true,\"ticks\":\"\",\"zerolinecolor\":\"white\",\"gridwidth\":2},\"yaxis\":{\"backgroundcolor\":\"#E5ECF6\",\"gridcolor\":\"white\",\"linecolor\":\"white\",\"showbackground\":true,\"ticks\":\"\",\"zerolinecolor\":\"white\",\"gridwidth\":2},\"zaxis\":{\"backgroundcolor\":\"#E5ECF6\",\"gridcolor\":\"white\",\"linecolor\":\"white\",\"showbackground\":true,\"ticks\":\"\",\"zerolinecolor\":\"white\",\"gridwidth\":2}},\"shapedefaults\":{\"line\":{\"color\":\"#2a3f5f\"}},\"annotationdefaults\":{\"arrowcolor\":\"#2a3f5f\",\"arrowhead\":0,\"arrowwidth\":1},\"geo\":{\"bgcolor\":\"white\",\"landcolor\":\"#E5ECF6\",\"subunitcolor\":\"white\",\"showland\":true,\"showlakes\":true,\"lakecolor\":\"white\"},\"title\":{\"x\":0.05},\"mapbox\":{\"style\":\"light\"}}},\"xaxis\":{\"anchor\":\"y\",\"domain\":[0.0,1.0],\"title\":{\"text\":\"week of month\"}},\"yaxis\":{\"anchor\":\"x\",\"domain\":[0.0,1.0],\"title\":{\"text\":\"Like per Tweet\"},\"range\":[0,5000]},\"legend\":{\"tracegroupgap\":0},\"title\":{\"text\":\"like per tweet by week of month\"},\"barmode\":\"relative\"},                        {\"responsive\": true}                    ).then(function(){\n",
              "                            \n",
              "var gd = document.getElementById('7f645f3c-1238-4d92-b2ba-347401b262bd');\n",
              "var x = new MutationObserver(function (mutations, observer) {{\n",
              "        var display = window.getComputedStyle(gd).display;\n",
              "        if (!display || display === 'none') {{\n",
              "            console.log([gd, 'removed!']);\n",
              "            Plotly.purge(gd);\n",
              "            observer.disconnect();\n",
              "        }}\n",
              "}});\n",
              "\n",
              "// Listen for the removal of the full notebook cells\n",
              "var notebookContainer = gd.closest('#notebook-container');\n",
              "if (notebookContainer) {{\n",
              "    x.observe(notebookContainer, {childList: true});\n",
              "}}\n",
              "\n",
              "// Listen for the clearing of the current output cell\n",
              "var outputEl = gd.closest('.output');\n",
              "if (outputEl) {{\n",
              "    x.observe(outputEl, {childList: true});\n",
              "}}\n",
              "\n",
              "                        })                };                            </script>        </div>\n",
              "</body>\n",
              "</html>"
            ]
          },
          "metadata": {}
        }
      ]
    },
    {
      "cell_type": "markdown",
      "source": [
        "##Other Exploration"
      ],
      "metadata": {
        "id": "_oIkJUIFyrB_"
      }
    },
    {
      "cell_type": "code",
      "source": [
        "query = \"SELECT created_date,count(distinct(statuses)) FROM twitter.statuses GROUP BY created_date\"\n",
        "cursor.execute(query) #Executing query\n",
        "res = cursor.fetchall()\n",
        "max = 0\n",
        "for i in res:\n",
        "    if i['count']>max:\n",
        "        max=i['count']\n",
        "        print(max)\n",
        "        newres = i\n",
        "print(newres)\n",
        "\n",
        "\n"
      ],
      "metadata": {
        "colab": {
          "base_uri": "https://localhost:8080/"
        },
        "id": "v6OOBB4by4eQ",
        "outputId": "80aefdfe-8552-4996-ce94-a2301aabea47"
      },
      "execution_count": 117,
      "outputs": [
        {
          "output_type": "stream",
          "name": "stdout",
          "text": [
            "2\n",
            "3\n",
            "10\n",
            "17\n",
            "19\n",
            "20\n",
            "24\n",
            "26\n",
            "27\n",
            "29\n",
            "32\n",
            "34\n",
            "36\n",
            "49\n",
            "67\n",
            "71\n",
            "74\n",
            "83\n",
            "123\n",
            "126\n",
            "128\n",
            "157\n",
            "161\n",
            "175\n",
            "179\n",
            "180\n",
            "205\n",
            "220\n",
            "259\n",
            "262\n",
            "305\n",
            "315\n",
            "353\n",
            "403\n",
            "417\n",
            "435\n",
            "514\n",
            "526\n",
            "674\n",
            "781\n",
            "893\n",
            "1022\n",
            "RealDictRow([('created_date', datetime.date(2021, 1, 11)), ('count', 1022)])\n"
          ]
        }
      ]
    },
    {
      "cell_type": "code",
      "source": [
        "query = \"SELECT created_date,sum(favorites_count) FROM twitter.statuses GROUP BY created_date\"\n",
        "cursor.execute(query) #Executing query\n",
        "res = cursor.fetchall()\n",
        "print(res)\n",
        "max = 0\n",
        "for i in res:\n",
        "    if i['sum']>max:\n",
        "        max=i['sum']\n",
        "        print(max)\n",
        "        newres = i\n",
        "print(newres)"
      ],
      "metadata": {
        "colab": {
          "base_uri": "https://localhost:8080/"
        },
        "id": "0c3CxGfGzFCi",
        "outputId": "ccb8f283-5058-40ec-d66b-50ad68c0945d"
      },
      "execution_count": 118,
      "outputs": [
        {
          "output_type": "stream",
          "name": "stdout",
          "text": [
            "[RealDictRow([('created_date', datetime.date(2019, 10, 15)), ('sum', 26920)]), RealDictRow([('created_date', datetime.date(2015, 6, 13)), ('sum', 5)]), RealDictRow([('created_date', datetime.date(2019, 9, 8)), ('sum', 27459)]), RealDictRow([('created_date', datetime.date(2016, 8, 6)), ('sum', 3)]), RealDictRow([('created_date', datetime.date(2020, 6, 14)), ('sum', 80783)]), RealDictRow([('created_date', datetime.date(2016, 9, 27)), ('sum', 604)]), RealDictRow([('created_date', datetime.date(2019, 2, 20)), ('sum', 14040)]), RealDictRow([('created_date', datetime.date(2018, 11, 5)), ('sum', 1241)]), RealDictRow([('created_date', datetime.date(2019, 2, 7)), ('sum', 1480)]), RealDictRow([('created_date', datetime.date(2017, 8, 9)), ('sum', 55)]), RealDictRow([('created_date', datetime.date(2015, 12, 31)), ('sum', 180)]), RealDictRow([('created_date', datetime.date(2018, 11, 28)), ('sum', 4780)]), RealDictRow([('created_date', datetime.date(2015, 9, 8)), ('sum', 133)]), RealDictRow([('created_date', datetime.date(2016, 9, 21)), ('sum', 3)]), RealDictRow([('created_date', datetime.date(2020, 12, 23)), ('sum', 491981)]), RealDictRow([('created_date', datetime.date(2016, 6, 7)), ('sum', 35)]), RealDictRow([('created_date', datetime.date(2014, 5, 26)), ('sum', 2)]), RealDictRow([('created_date', datetime.date(2017, 6, 15)), ('sum', 89)]), RealDictRow([('created_date', datetime.date(2015, 3, 3)), ('sum', 24)]), RealDictRow([('created_date', datetime.date(2012, 10, 27)), ('sum', 1)]), RealDictRow([('created_date', datetime.date(2018, 11, 1)), ('sum', 508)]), RealDictRow([('created_date', datetime.date(2017, 6, 13)), ('sum', 424)]), RealDictRow([('created_date', datetime.date(2019, 9, 20)), ('sum', 105079)]), RealDictRow([('created_date', datetime.date(2017, 11, 4)), ('sum', 100)]), RealDictRow([('created_date', datetime.date(2015, 10, 1)), ('sum', 49)]), RealDictRow([('created_date', datetime.date(2017, 5, 25)), ('sum', 1609)]), RealDictRow([('created_date', datetime.date(2019, 2, 13)), ('sum', 1316)]), RealDictRow([('created_date', datetime.date(2019, 1, 6)), ('sum', 1275)]), RealDictRow([('created_date', datetime.date(2019, 5, 31)), ('sum', 30732)]), RealDictRow([('created_date', datetime.date(2019, 4, 3)), ('sum', 150)]), RealDictRow([('created_date', datetime.date(2017, 12, 20)), ('sum', 289)]), RealDictRow([('created_date', datetime.date(2017, 2, 19)), ('sum', 248)]), RealDictRow([('created_date', datetime.date(2017, 8, 10)), ('sum', 3)]), RealDictRow([('created_date', datetime.date(2015, 9, 1)), ('sum', 0)]), RealDictRow([('created_date', datetime.date(2019, 12, 28)), ('sum', 13606)]), RealDictRow([('created_date', datetime.date(2015, 9, 12)), ('sum', 6)]), RealDictRow([('created_date', datetime.date(2007, 3, 27)), ('sum', 2)]), RealDictRow([('created_date', datetime.date(2019, 7, 10)), ('sum', 21622)]), RealDictRow([('created_date', datetime.date(2018, 2, 20)), ('sum', 113)]), RealDictRow([('created_date', datetime.date(2019, 8, 8)), ('sum', 53174)]), RealDictRow([('created_date', datetime.date(2019, 4, 25)), ('sum', 10622)]), RealDictRow([('created_date', datetime.date(2011, 7, 23)), ('sum', 2)]), RealDictRow([('created_date', datetime.date(2017, 12, 1)), ('sum', 371)]), RealDictRow([('created_date', datetime.date(2019, 3, 22)), ('sum', 567)]), RealDictRow([('created_date', datetime.date(2018, 11, 27)), ('sum', 7470)]), RealDictRow([('created_date', datetime.date(2018, 10, 2)), ('sum', 2122)]), RealDictRow([('created_date', datetime.date(2018, 3, 27)), ('sum', 1587)]), RealDictRow([('created_date', datetime.date(2020, 7, 13)), ('sum', 15103)]), RealDictRow([('created_date', datetime.date(2017, 11, 15)), ('sum', 3426)]), RealDictRow([('created_date', datetime.date(2019, 8, 23)), ('sum', 187607)]), RealDictRow([('created_date', datetime.date(2018, 12, 31)), ('sum', 3267)]), RealDictRow([('created_date', datetime.date(2016, 3, 24)), ('sum', 98)]), RealDictRow([('created_date', datetime.date(2016, 7, 5)), ('sum', 268)]), RealDictRow([('created_date', datetime.date(2019, 3, 1)), ('sum', 19169)]), RealDictRow([('created_date', datetime.date(2016, 10, 10)), ('sum', 13)]), RealDictRow([('created_date', datetime.date(2007, 6, 14)), ('sum', 0)]), RealDictRow([('created_date', datetime.date(2012, 3, 10)), ('sum', 2)]), RealDictRow([('created_date', datetime.date(2019, 12, 8)), ('sum', 61510)]), RealDictRow([('created_date', datetime.date(2020, 6, 17)), ('sum', 87434)]), RealDictRow([('created_date', datetime.date(2015, 11, 26)), ('sum', 108)]), RealDictRow([('created_date', datetime.date(2019, 1, 7)), ('sum', 28512)]), RealDictRow([('created_date', datetime.date(2016, 6, 3)), ('sum', 43)]), RealDictRow([('created_date', datetime.date(2018, 10, 14)), ('sum', 288)]), RealDictRow([('created_date', datetime.date(2018, 12, 14)), ('sum', 11747)]), RealDictRow([('created_date', datetime.date(2020, 8, 23)), ('sum', 165912)]), RealDictRow([('created_date', datetime.date(2015, 6, 15)), ('sum', 2547)]), RealDictRow([('created_date', datetime.date(2017, 2, 17)), ('sum', 221)]), RealDictRow([('created_date', datetime.date(2016, 10, 24)), ('sum', 644)]), RealDictRow([('created_date', datetime.date(2016, 11, 30)), ('sum', 52)]), RealDictRow([('created_date', datetime.date(2016, 6, 15)), ('sum', 246)]), RealDictRow([('created_date', datetime.date(2019, 5, 30)), ('sum', 32571)]), RealDictRow([('created_date', datetime.date(2017, 2, 18)), ('sum', 64)]), RealDictRow([('created_date', datetime.date(2018, 7, 20)), ('sum', 687)]), RealDictRow([('created_date', datetime.date(2019, 8, 30)), ('sum', 14468)]), RealDictRow([('created_date', datetime.date(2007, 7, 27)), ('sum', 0)]), RealDictRow([('created_date', datetime.date(2016, 2, 1)), ('sum', 5)]), RealDictRow([('created_date', datetime.date(2019, 2, 16)), ('sum', 9593)]), RealDictRow([('created_date', datetime.date(2016, 1, 26)), ('sum', 105)]), RealDictRow([('created_date', datetime.date(2017, 9, 6)), ('sum', 0)]), RealDictRow([('created_date', datetime.date(2019, 5, 5)), ('sum', 5085)]), RealDictRow([('created_date', datetime.date(2019, 9, 7)), ('sum', 65568)]), RealDictRow([('created_date', datetime.date(2014, 11, 30)), ('sum', 3)]), RealDictRow([('created_date', datetime.date(2014, 12, 25)), ('sum', 2)]), RealDictRow([('created_date', datetime.date(2015, 5, 21)), ('sum', 13)]), RealDictRow([('created_date', datetime.date(2018, 9, 18)), ('sum', 290)]), RealDictRow([('created_date', datetime.date(2017, 11, 21)), ('sum', 121)]), RealDictRow([('created_date', datetime.date(2019, 12, 17)), ('sum', 58517)]), RealDictRow([('created_date', datetime.date(2015, 10, 3)), ('sum', 0)]), RealDictRow([('created_date', datetime.date(2016, 9, 9)), ('sum', 86)]), RealDictRow([('created_date', datetime.date(2020, 6, 11)), ('sum', 545263)]), RealDictRow([('created_date', datetime.date(2017, 1, 10)), ('sum', 1086)]), RealDictRow([('created_date', datetime.date(2015, 9, 11)), ('sum', 82)]), RealDictRow([('created_date', datetime.date(2018, 2, 21)), ('sum', 4576)]), RealDictRow([('created_date', datetime.date(2020, 10, 29)), ('sum', 917523)]), RealDictRow([('created_date', datetime.date(2019, 1, 22)), ('sum', 754)]), RealDictRow([('created_date', datetime.date(2020, 3, 29)), ('sum', 4678)]), RealDictRow([('created_date', datetime.date(2019, 1, 13)), ('sum', 244)]), RealDictRow([('created_date', datetime.date(2020, 10, 4)), ('sum', 1198371)]), RealDictRow([('created_date', datetime.date(2016, 12, 5)), ('sum', 81)]), RealDictRow([('created_date', datetime.date(2018, 11, 30)), ('sum', 547)]), RealDictRow([('created_date', datetime.date(2012, 4, 6)), ('sum', 1)]), RealDictRow([('created_date', datetime.date(2015, 11, 12)), ('sum', 215)]), RealDictRow([('created_date', datetime.date(2018, 6, 2)), ('sum', 373)]), RealDictRow([('created_date', datetime.date(2020, 4, 23)), ('sum', 151826)]), RealDictRow([('created_date', datetime.date(2020, 5, 24)), ('sum', 471108)]), RealDictRow([('created_date', datetime.date(2015, 11, 18)), ('sum', 209)]), RealDictRow([('created_date', datetime.date(2017, 10, 18)), ('sum', 8987)]), RealDictRow([('created_date', datetime.date(2019, 12, 15)), ('sum', 3121)]), RealDictRow([('created_date', datetime.date(2018, 8, 28)), ('sum', 4)]), RealDictRow([('created_date', datetime.date(2016, 9, 8)), ('sum', 204)]), RealDictRow([('created_date', datetime.date(2019, 5, 11)), ('sum', 23555)]), RealDictRow([('created_date', datetime.date(2016, 6, 18)), ('sum', 0)]), RealDictRow([('created_date', datetime.date(2014, 5, 16)), ('sum', 4)]), RealDictRow([('created_date', datetime.date(2007, 5, 7)), ('sum', 0)]), RealDictRow([('created_date', datetime.date(2016, 9, 3)), ('sum', 7)]), RealDictRow([('created_date', datetime.date(2018, 12, 17)), ('sum', 132)]), RealDictRow([('created_date', datetime.date(2007, 8, 23)), ('sum', 0)]), RealDictRow([('created_date', datetime.date(2019, 3, 11)), ('sum', 829)]), RealDictRow([('created_date', datetime.date(2016, 5, 22)), ('sum', 31)]), RealDictRow([('created_date', datetime.date(2017, 3, 7)), ('sum', 15)]), RealDictRow([('created_date', datetime.date(2009, 6, 24)), ('sum', 1)]), RealDictRow([('created_date', datetime.date(2017, 1, 25)), ('sum', 753)]), RealDictRow([('created_date', datetime.date(2019, 4, 23)), ('sum', 7145)]), RealDictRow([('created_date', datetime.date(2019, 6, 25)), ('sum', 1721)]), RealDictRow([('created_date', datetime.date(2018, 9, 8)), ('sum', 41910)]), RealDictRow([('created_date', datetime.date(2019, 2, 19)), ('sum', 5918)]), RealDictRow([('created_date', datetime.date(2019, 10, 26)), ('sum', 1556)]), RealDictRow([('created_date', datetime.date(2016, 10, 5)), ('sum', 75)]), RealDictRow([('created_date', datetime.date(2017, 5, 17)), ('sum', 9)]), RealDictRow([('created_date', datetime.date(2015, 12, 10)), ('sum', 100)]), RealDictRow([('created_date', datetime.date(2018, 5, 22)), ('sum', 913)]), RealDictRow([('created_date', datetime.date(2019, 4, 13)), ('sum', 2345)]), RealDictRow([('created_date', datetime.date(2018, 4, 6)), ('sum', 165)]), RealDictRow([('created_date', datetime.date(2020, 9, 15)), ('sum', 970230)]), RealDictRow([('created_date', datetime.date(2019, 8, 3)), ('sum', 27451)]), RealDictRow([('created_date', datetime.date(2011, 7, 8)), ('sum', 1)]), RealDictRow([('created_date', datetime.date(2018, 2, 15)), ('sum', 5181)]), RealDictRow([('created_date', datetime.date(2014, 5, 19)), ('sum', 0)]), RealDictRow([('created_date', datetime.date(2013, 11, 1)), ('sum', 7)]), RealDictRow([('created_date', datetime.date(2018, 5, 30)), ('sum', 17301)]), RealDictRow([('created_date', datetime.date(2018, 7, 7)), ('sum', 4141)]), RealDictRow([('created_date', datetime.date(2015, 12, 7)), ('sum', 39)]), RealDictRow([('created_date', datetime.date(2016, 4, 17)), ('sum', 11)]), RealDictRow([('created_date', datetime.date(2016, 3, 14)), ('sum', 39)]), RealDictRow([('created_date', datetime.date(2016, 12, 26)), ('sum', 2021)]), RealDictRow([('created_date', datetime.date(2018, 12, 2)), ('sum', 2611)]), RealDictRow([('created_date', datetime.date(2016, 11, 8)), ('sum', 8)]), RealDictRow([('created_date', datetime.date(2018, 7, 31)), ('sum', 1439)]), RealDictRow([('created_date', datetime.date(2018, 12, 20)), ('sum', 2391)]), RealDictRow([('created_date', datetime.date(2020, 9, 22)), ('sum', 564727)]), RealDictRow([('created_date', datetime.date(2016, 10, 15)), ('sum', 71)]), RealDictRow([('created_date', datetime.date(2018, 1, 7)), ('sum', 794)]), RealDictRow([('created_date', datetime.date(2018, 2, 9)), ('sum', 565)]), RealDictRow([('created_date', datetime.date(2015, 12, 2)), ('sum', 277)]), RealDictRow([('created_date', datetime.date(2017, 1, 8)), ('sum', 8)]), RealDictRow([('created_date', datetime.date(2015, 6, 29)), ('sum', 0)]), RealDictRow([('created_date', datetime.date(2018, 2, 6)), ('sum', 113)]), RealDictRow([('created_date', datetime.date(2019, 2, 28)), ('sum', 3343)]), RealDictRow([('created_date', datetime.date(2017, 2, 28)), ('sum', 102)]), RealDictRow([('created_date', datetime.date(2019, 7, 31)), ('sum', 2152)]), RealDictRow([('created_date', datetime.date(2018, 1, 15)), ('sum', 1283)]), RealDictRow([('created_date', datetime.date(2020, 9, 9)), ('sum', 77695)]), RealDictRow([('created_date', datetime.date(2018, 10, 30)), ('sum', 474)]), RealDictRow([('created_date', datetime.date(2011, 4, 26)), ('sum', 0)]), RealDictRow([('created_date', datetime.date(2016, 1, 5)), ('sum', 143)]), RealDictRow([('created_date', datetime.date(2011, 5, 13)), ('sum', 1)]), RealDictRow([('created_date', datetime.date(2016, 9, 22)), ('sum', 39)]), RealDictRow([('created_date', datetime.date(2018, 2, 26)), ('sum', 2151)]), RealDictRow([('created_date', datetime.date(2018, 10, 16)), ('sum', 11733)]), RealDictRow([('created_date', datetime.date(2017, 1, 22)), ('sum', 3062)]), RealDictRow([('created_date', datetime.date(2018, 4, 27)), ('sum', 313)]), RealDictRow([('created_date', datetime.date(2020, 4, 5)), ('sum', 385577)]), RealDictRow([('created_date', datetime.date(2020, 7, 16)), ('sum', 20696)]), RealDictRow([('created_date', datetime.date(2013, 1, 12)), ('sum', 1)]), RealDictRow([('created_date', datetime.date(2018, 12, 4)), ('sum', 984)]), RealDictRow([('created_date', datetime.date(2017, 7, 25)), ('sum', 634)]), RealDictRow([('created_date', datetime.date(2016, 5, 10)), ('sum', 198)]), RealDictRow([('created_date', datetime.date(2016, 12, 2)), ('sum', 43)]), RealDictRow([('created_date', datetime.date(2017, 5, 2)), ('sum', 914)]), RealDictRow([('created_date', datetime.date(2018, 3, 22)), ('sum', 358)]), RealDictRow([('created_date', datetime.date(2011, 5, 11)), ('sum', 0)]), RealDictRow([('created_date', datetime.date(2019, 12, 19)), ('sum', 19787)]), RealDictRow([('created_date', datetime.date(2020, 10, 9)), ('sum', 355021)]), RealDictRow([('created_date', datetime.date(2019, 9, 2)), ('sum', 13847)]), RealDictRow([('created_date', datetime.date(2020, 12, 6)), ('sum', 383938)]), RealDictRow([('created_date', datetime.date(2017, 10, 13)), ('sum', 5382)]), RealDictRow([('created_date', datetime.date(2020, 12, 25)), ('sum', 1167306)]), RealDictRow([('created_date', datetime.date(2011, 3, 8)), ('sum', 1)]), RealDictRow([('created_date', datetime.date(2016, 8, 19)), ('sum', 7)]), RealDictRow([('created_date', datetime.date(2020, 3, 2)), ('sum', 7273)]), RealDictRow([('created_date', datetime.date(2019, 2, 10)), ('sum', 22506)]), RealDictRow([('created_date', datetime.date(2018, 10, 24)), ('sum', 3321)]), RealDictRow([('created_date', datetime.date(2016, 8, 30)), ('sum', 53)]), RealDictRow([('created_date', datetime.date(2010, 6, 5)), ('sum', 1)]), RealDictRow([('created_date', datetime.date(2019, 2, 6)), ('sum', 4045)]), RealDictRow([('created_date', datetime.date(2018, 12, 12)), ('sum', 883)]), RealDictRow([('created_date', datetime.date(2016, 9, 4)), ('sum', 37)]), RealDictRow([('created_date', datetime.date(2019, 1, 4)), ('sum', 2831)]), RealDictRow([('created_date', datetime.date(2019, 7, 21)), ('sum', 36728)]), RealDictRow([('created_date', datetime.date(2019, 7, 11)), ('sum', 13204)]), RealDictRow([('created_date', datetime.date(2016, 1, 30)), ('sum', 285)]), RealDictRow([('created_date', datetime.date(2017, 9, 21)), ('sum', 463)]), RealDictRow([('created_date', datetime.date(2015, 7, 9)), ('sum', 77)]), RealDictRow([('created_date', datetime.date(2017, 1, 28)), ('sum', 1723)]), RealDictRow([('created_date', datetime.date(2017, 4, 26)), ('sum', 58)]), RealDictRow([('created_date', datetime.date(2018, 9, 3)), ('sum', 289)]), RealDictRow([('created_date', datetime.date(2020, 8, 3)), ('sum', 45763)]), RealDictRow([('created_date', datetime.date(2017, 2, 16)), ('sum', 14)]), RealDictRow([('created_date', datetime.date(2015, 10, 31)), ('sum', 52)]), RealDictRow([('created_date', datetime.date(2017, 4, 30)), ('sum', 0)]), RealDictRow([('created_date', datetime.date(2019, 9, 10)), ('sum', 29261)]), RealDictRow([('created_date', datetime.date(2020, 8, 24)), ('sum', 90334)]), RealDictRow([('created_date', datetime.date(2016, 1, 8)), ('sum', 221)]), RealDictRow([('created_date', datetime.date(2018, 2, 12)), ('sum', 977)]), RealDictRow([('created_date', datetime.date(2015, 11, 17)), ('sum', 226)]), RealDictRow([('created_date', datetime.date(2011, 3, 10)), ('sum', 1)]), RealDictRow([('created_date', datetime.date(2017, 10, 3)), ('sum', 20)]), RealDictRow([('created_date', datetime.date(2020, 12, 16)), ('sum', 667363)]), RealDictRow([('created_date', datetime.date(2013, 3, 22)), ('sum', 0)]), RealDictRow([('created_date', datetime.date(2020, 3, 8)), ('sum', 18308)]), RealDictRow([('created_date', datetime.date(2018, 5, 29)), ('sum', 181)]), RealDictRow([('created_date', datetime.date(2020, 9, 18)), ('sum', 1024099)]), RealDictRow([('created_date', datetime.date(2017, 9, 10)), ('sum', 0)]), RealDictRow([('created_date', datetime.date(2017, 1, 13)), ('sum', 737)]), RealDictRow([('created_date', datetime.date(2016, 11, 11)), ('sum', 1979)]), RealDictRow([('created_date', datetime.date(2017, 1, 1)), ('sum', 1930)]), RealDictRow([('created_date', datetime.date(2018, 9, 1)), ('sum', 0)]), RealDictRow([('created_date', datetime.date(2015, 5, 12)), ('sum', 4)]), RealDictRow([('created_date', datetime.date(2020, 3, 24)), ('sum', 109059)]), RealDictRow([('created_date', datetime.date(2019, 9, 25)), ('sum', 35570)]), RealDictRow([('created_date', datetime.date(2019, 12, 7)), ('sum', 4773)]), RealDictRow([('created_date', datetime.date(2020, 6, 30)), ('sum', 181005)]), RealDictRow([('created_date', datetime.date(2010, 2, 5)), ('sum', 0)]), RealDictRow([('created_date', datetime.date(2015, 12, 16)), ('sum', 66)]), RealDictRow([('created_date', datetime.date(2018, 8, 5)), ('sum', 808)]), RealDictRow([('created_date', datetime.date(2020, 11, 29)), ('sum', 241014)]), RealDictRow([('created_date', datetime.date(2019, 6, 15)), ('sum', 18)]), RealDictRow([('created_date', datetime.date(2015, 11, 5)), ('sum', 271)]), RealDictRow([('created_date', datetime.date(2013, 6, 12)), ('sum', 4)]), RealDictRow([('created_date', datetime.date(2020, 6, 7)), ('sum', 7121)]), RealDictRow([('created_date', datetime.date(2018, 1, 20)), ('sum', 2460)]), RealDictRow([('created_date', datetime.date(2016, 6, 29)), ('sum', 13)]), RealDictRow([('created_date', datetime.date(2019, 6, 18)), ('sum', 75643)]), RealDictRow([('created_date', datetime.date(2019, 2, 26)), ('sum', 1274)]), RealDictRow([('created_date', datetime.date(2018, 12, 19)), ('sum', 128055)]), RealDictRow([('created_date', datetime.date(2018, 7, 1)), ('sum', 20908)]), RealDictRow([('created_date', datetime.date(2018, 5, 20)), ('sum', 1085)]), RealDictRow([('created_date', datetime.date(2020, 11, 28)), ('sum', 378860)]), RealDictRow([('created_date', datetime.date(2017, 2, 3)), ('sum', 651)]), RealDictRow([('created_date', datetime.date(2012, 2, 3)), ('sum', 1)]), RealDictRow([('created_date', datetime.date(2014, 10, 30)), ('sum', 10)]), RealDictRow([('created_date', datetime.date(2016, 4, 27)), ('sum', 0)]), RealDictRow([('created_date', datetime.date(2017, 8, 3)), ('sum', 776)]), RealDictRow([('created_date', datetime.date(2020, 4, 27)), ('sum', 163356)]), RealDictRow([('created_date', datetime.date(2012, 2, 20)), ('sum', 0)]), RealDictRow([('created_date', datetime.date(2019, 3, 21)), ('sum', 5261)]), RealDictRow([('created_date', datetime.date(2016, 2, 15)), ('sum', 15)]), RealDictRow([('created_date', datetime.date(2020, 1, 9)), ('sum', 77362)]), RealDictRow([('created_date', datetime.date(2020, 5, 28)), ('sum', 43304)]), RealDictRow([('created_date', datetime.date(2011, 5, 18)), ('sum', 0)]), RealDictRow([('created_date', datetime.date(2017, 2, 10)), ('sum', 369)]), RealDictRow([('created_date', datetime.date(2021, 1, 16)), ('sum', 1742)]), RealDictRow([('created_date', datetime.date(2017, 3, 17)), ('sum', 76)]), RealDictRow([('created_date', datetime.date(2018, 6, 24)), ('sum', 677)]), RealDictRow([('created_date', datetime.date(2015, 10, 22)), ('sum', 708)]), RealDictRow([('created_date', datetime.date(2019, 8, 18)), ('sum', 24278)]), RealDictRow([('created_date', datetime.date(2020, 6, 23)), ('sum', 15635)]), RealDictRow([('created_date', datetime.date(2020, 12, 24)), ('sum', 972100)]), RealDictRow([('created_date', datetime.date(2016, 7, 30)), ('sum', 246)]), RealDictRow([('created_date', datetime.date(2020, 2, 26)), ('sum', 4494)]), RealDictRow([('created_date', datetime.date(2019, 1, 3)), ('sum', 424)]), RealDictRow([('created_date', datetime.date(2020, 2, 3)), ('sum', 6338)]), RealDictRow([('created_date', datetime.date(2016, 3, 17)), ('sum', 19)]), RealDictRow([('created_date', datetime.date(2015, 12, 21)), ('sum', 10)]), RealDictRow([('created_date', datetime.date(2018, 5, 28)), ('sum', 0)]), RealDictRow([('created_date', datetime.date(2019, 2, 5)), ('sum', 1957)]), RealDictRow([('created_date', datetime.date(2016, 6, 4)), ('sum', 71)]), RealDictRow([('created_date', datetime.date(2020, 5, 22)), ('sum', 647691)]), RealDictRow([('created_date', datetime.date(2018, 2, 8)), ('sum', 17561)]), RealDictRow([('created_date', datetime.date(2017, 1, 19)), ('sum', 227)]), RealDictRow([('created_date', datetime.date(2018, 12, 13)), ('sum', 2298)]), RealDictRow([('created_date', datetime.date(2019, 12, 9)), ('sum', 3504)]), RealDictRow([('created_date', datetime.date(2019, 1, 15)), ('sum', 306)]), RealDictRow([('created_date', datetime.date(2017, 7, 13)), ('sum', 9)]), RealDictRow([('created_date', datetime.date(2020, 8, 26)), ('sum', 92230)]), RealDictRow([('created_date', datetime.date(2020, 4, 1)), ('sum', 90532)]), RealDictRow([('created_date', datetime.date(2018, 2, 18)), ('sum', 477)]), RealDictRow([('created_date', datetime.date(2020, 4, 18)), ('sum', 83534)]), RealDictRow([('created_date', datetime.date(2020, 4, 26)), ('sum', 108166)]), RealDictRow([('created_date', datetime.date(2021, 1, 15)), ('sum', 566)]), RealDictRow([('created_date', datetime.date(2020, 1, 22)), ('sum', 26020)]), RealDictRow([('created_date', datetime.date(2018, 1, 1)), ('sum', 0)]), RealDictRow([('created_date', datetime.date(2019, 11, 21)), ('sum', 53388)]), RealDictRow([('created_date', datetime.date(2020, 9, 17)), ('sum', 236168)]), RealDictRow([('created_date', datetime.date(2016, 12, 10)), ('sum', 173)]), RealDictRow([('created_date', datetime.date(2019, 11, 2)), ('sum', 17213)]), RealDictRow([('created_date', datetime.date(2018, 7, 18)), ('sum', 19765)]), RealDictRow([('created_date', datetime.date(2016, 3, 11)), ('sum', 163)]), RealDictRow([('created_date', datetime.date(2018, 2, 7)), ('sum', 1546)]), RealDictRow([('created_date', datetime.date(2019, 12, 27)), ('sum', 226659)]), RealDictRow([('created_date', datetime.date(2020, 4, 16)), ('sum', 240277)]), RealDictRow([('created_date', datetime.date(2017, 10, 22)), ('sum', 98)]), RealDictRow([('created_date', datetime.date(2019, 8, 5)), ('sum', 2837)]), RealDictRow([('created_date', datetime.date(2019, 12, 12)), ('sum', 19184)]), RealDictRow([('created_date', datetime.date(2018, 11, 3)), ('sum', 21505)]), RealDictRow([('created_date', datetime.date(2016, 5, 30)), ('sum', 26)]), RealDictRow([('created_date', datetime.date(2019, 3, 24)), ('sum', 1463)]), RealDictRow([('created_date', datetime.date(2019, 1, 27)), ('sum', 1248)]), RealDictRow([('created_date', datetime.date(2016, 6, 25)), ('sum', 0)]), RealDictRow([('created_date', datetime.date(2020, 8, 28)), ('sum', 303768)]), RealDictRow([('created_date', datetime.date(2019, 5, 7)), ('sum', 80672)]), RealDictRow([('created_date', datetime.date(2017, 8, 26)), ('sum', 19)]), RealDictRow([('created_date', datetime.date(2017, 9, 28)), ('sum', 47)]), RealDictRow([('created_date', datetime.date(2016, 12, 8)), ('sum', 60)]), RealDictRow([('created_date', datetime.date(2015, 7, 27)), ('sum', 74)]), RealDictRow([('created_date', datetime.date(2017, 5, 10)), ('sum', 1405)]), RealDictRow([('created_date', datetime.date(2018, 5, 17)), ('sum', 58)]), RealDictRow([('created_date', datetime.date(2017, 2, 8)), ('sum', 564)]), RealDictRow([('created_date', datetime.date(2014, 2, 15)), ('sum', 10)]), RealDictRow([('created_date', datetime.date(2018, 1, 8)), ('sum', 886)]), RealDictRow([('created_date', datetime.date(2016, 12, 30)), ('sum', 1)]), RealDictRow([('created_date', datetime.date(2019, 8, 14)), ('sum', 15678)]), RealDictRow([('created_date', datetime.date(2020, 3, 7)), ('sum', 129271)]), RealDictRow([('created_date', datetime.date(2019, 10, 31)), ('sum', 101)]), RealDictRow([('created_date', datetime.date(2018, 2, 11)), ('sum', 10952)]), RealDictRow([('created_date', datetime.date(2011, 9, 19)), ('sum', 2)]), RealDictRow([('created_date', datetime.date(2020, 5, 3)), ('sum', 343090)]), RealDictRow([('created_date', datetime.date(2017, 3, 16)), ('sum', 24)]), RealDictRow([('created_date', datetime.date(2019, 7, 7)), ('sum', 35688)]), RealDictRow([('created_date', datetime.date(2016, 11, 29)), ('sum', 38)]), RealDictRow([('created_date', datetime.date(2016, 5, 27)), ('sum', 23)]), RealDictRow([('created_date', datetime.date(2019, 6, 13)), ('sum', 16531)]), RealDictRow([('created_date', datetime.date(2019, 12, 1)), ('sum', 19237)]), RealDictRow([('created_date', datetime.date(2016, 5, 3)), ('sum', 22)]), RealDictRow([('created_date', datetime.date(2016, 7, 3)), ('sum', 48)]), RealDictRow([('created_date', datetime.date(2017, 1, 24)), ('sum', 62)]), RealDictRow([('created_date', datetime.date(2020, 7, 31)), ('sum', 563352)]), RealDictRow([('created_date', datetime.date(2018, 6, 1)), ('sum', 570)]), RealDictRow([('created_date', datetime.date(2018, 3, 15)), ('sum', 13557)]), RealDictRow([('created_date', datetime.date(2016, 2, 24)), ('sum', 90)]), RealDictRow([('created_date', datetime.date(2020, 5, 25)), ('sum', 78478)]), RealDictRow([('created_date', datetime.date(2018, 5, 27)), ('sum', 294)]), RealDictRow([('created_date', datetime.date(2017, 2, 9)), ('sum', 446)]), RealDictRow([('created_date', datetime.date(2020, 6, 5)), ('sum', 40438)]), RealDictRow([('created_date', datetime.date(2018, 1, 29)), ('sum', 4687)]), RealDictRow([('created_date', datetime.date(2019, 3, 12)), ('sum', 93)]), RealDictRow([('created_date', datetime.date(2019, 12, 26)), ('sum', 611)]), RealDictRow([('created_date', datetime.date(2010, 2, 10)), ('sum', 0)]), RealDictRow([('created_date', datetime.date(2018, 12, 25)), ('sum', 12)]), RealDictRow([('created_date', datetime.date(2019, 3, 25)), ('sum', 874)]), RealDictRow([('created_date', datetime.date(2017, 6, 28)), ('sum', 2836)]), RealDictRow([('created_date', datetime.date(2020, 7, 1)), ('sum', 76146)]), RealDictRow([('created_date', datetime.date(2017, 8, 19)), ('sum', 0)]), RealDictRow([('created_date', datetime.date(2018, 11, 20)), ('sum', 993)]), RealDictRow([('created_date', datetime.date(2016, 11, 3)), ('sum', 48)]), RealDictRow([('created_date', datetime.date(2020, 4, 4)), ('sum', 316350)]), RealDictRow([('created_date', datetime.date(2017, 8, 21)), ('sum', 467)]), RealDictRow([('created_date', datetime.date(2016, 7, 19)), ('sum', 9)]), RealDictRow([('created_date', datetime.date(2020, 3, 15)), ('sum', 484808)]), RealDictRow([('created_date', datetime.date(2018, 7, 30)), ('sum', 3422)]), RealDictRow([('created_date', datetime.date(2019, 6, 14)), ('sum', 2816)]), RealDictRow([('created_date', datetime.date(2020, 2, 11)), ('sum', 14925)]), RealDictRow([('created_date', datetime.date(2018, 10, 31)), ('sum', 7869)]), RealDictRow([('created_date', datetime.date(2015, 12, 14)), ('sum', 93)]), RealDictRow([('created_date', datetime.date(2016, 2, 29)), ('sum', 0)]), RealDictRow([('created_date', datetime.date(2019, 11, 13)), ('sum', 37325)]), RealDictRow([('created_date', datetime.date(2015, 11, 19)), ('sum', 61)]), RealDictRow([('created_date', datetime.date(2020, 3, 4)), ('sum', 54286)]), RealDictRow([('created_date', datetime.date(2016, 10, 12)), ('sum', 26)]), RealDictRow([('created_date', datetime.date(2017, 9, 23)), ('sum', 54)]), RealDictRow([('created_date', datetime.date(2016, 4, 1)), ('sum', 0)]), RealDictRow([('created_date', datetime.date(2016, 8, 11)), ('sum', 3)]), RealDictRow([('created_date', datetime.date(2018, 1, 22)), ('sum', 83)]), RealDictRow([('created_date', datetime.date(2017, 2, 6)), ('sum', 225)]), RealDictRow([('created_date', datetime.date(2019, 10, 4)), ('sum', 31249)]), RealDictRow([('created_date', datetime.date(2020, 4, 3)), ('sum', 87058)]), RealDictRow([('created_date', datetime.date(2015, 11, 20)), ('sum', 130)]), RealDictRow([('created_date', datetime.date(2016, 1, 16)), ('sum', 3)]), RealDictRow([('created_date', datetime.date(2017, 10, 16)), ('sum', 14)]), RealDictRow([('created_date', datetime.date(2020, 12, 17)), ('sum', 699726)]), RealDictRow([('created_date', datetime.date(2018, 1, 27)), ('sum', 694)]), RealDictRow([('created_date', datetime.date(2020, 3, 3)), ('sum', 679497)]), RealDictRow([('created_date', datetime.date(2017, 4, 29)), ('sum', 10732)]), RealDictRow([('created_date', datetime.date(2011, 5, 16)), ('sum', 0)]), RealDictRow([('created_date', datetime.date(2016, 6, 10)), ('sum', 61)]), RealDictRow([('created_date', datetime.date(2020, 11, 4)), ('sum', 732344)]), RealDictRow([('created_date', datetime.date(2018, 8, 10)), ('sum', 1239)]), RealDictRow([('created_date', datetime.date(2016, 1, 2)), ('sum', 1)]), RealDictRow([('created_date', datetime.date(2019, 6, 12)), ('sum', 78)]), RealDictRow([('created_date', datetime.date(2017, 6, 19)), ('sum', 606)]), RealDictRow([('created_date', datetime.date(2018, 3, 19)), ('sum', 0)]), RealDictRow([('created_date', datetime.date(2019, 12, 18)), ('sum', 4538)]), RealDictRow([('created_date', datetime.date(2017, 10, 21)), ('sum', 812)]), RealDictRow([('created_date', datetime.date(2019, 1, 17)), ('sum', 589)]), RealDictRow([('created_date', datetime.date(2016, 2, 19)), ('sum', 39)]), RealDictRow([('created_date', datetime.date(2019, 7, 6)), ('sum', 374)]), RealDictRow([('created_date', datetime.date(2018, 9, 27)), ('sum', 1272)]), RealDictRow([('created_date', datetime.date(2017, 12, 29)), ('sum', 270)]), RealDictRow([('created_date', datetime.date(2019, 8, 12)), ('sum', 131116)]), RealDictRow([('created_date', datetime.date(2018, 9, 28)), ('sum', 945)]), RealDictRow([('created_date', datetime.date(2017, 7, 5)), ('sum', 205)]), RealDictRow([('created_date', datetime.date(2020, 1, 24)), ('sum', 23194)]), RealDictRow([('created_date', datetime.date(2020, 5, 8)), ('sum', 15566)]), RealDictRow([('created_date', datetime.date(2020, 10, 11)), ('sum', 264531)]), RealDictRow([('created_date', datetime.date(2015, 10, 28)), ('sum', 243)]), RealDictRow([('created_date', datetime.date(2018, 12, 15)), ('sum', 11)]), RealDictRow([('created_date', datetime.date(2018, 6, 18)), ('sum', 428)]), RealDictRow([('created_date', datetime.date(2017, 7, 30)), ('sum', 1027)]), RealDictRow([('created_date', datetime.date(2016, 4, 30)), ('sum', 149)]), RealDictRow([('created_date', datetime.date(2020, 12, 21)), ('sum', 992020)]), RealDictRow([('created_date', datetime.date(2018, 9, 7)), ('sum', 721)]), RealDictRow([('created_date', datetime.date(2020, 4, 15)), ('sum', 14181)]), RealDictRow([('created_date', datetime.date(2015, 12, 28)), ('sum', 242)]), RealDictRow([('created_date', datetime.date(2018, 6, 8)), ('sum', 199)]), RealDictRow([('created_date', datetime.date(2016, 1, 20)), ('sum', 131)]), RealDictRow([('created_date', datetime.date(2020, 5, 30)), ('sum', 1009952)]), RealDictRow([('created_date', datetime.date(2020, 1, 12)), ('sum', 41824)]), RealDictRow([('created_date', datetime.date(2017, 1, 27)), ('sum', 182)]), RealDictRow([('created_date', datetime.date(2018, 8, 8)), ('sum', 11230)]), RealDictRow([('created_date', datetime.date(2017, 7, 26)), ('sum', 556)]), RealDictRow([('created_date', datetime.date(2017, 3, 1)), ('sum', 4)]), RealDictRow([('created_date', datetime.date(2017, 8, 2)), ('sum', 1856)]), RealDictRow([('created_date', datetime.date(2020, 1, 28)), ('sum', 4918)]), RealDictRow([('created_date', datetime.date(2020, 10, 24)), ('sum', 1142470)]), RealDictRow([('created_date', datetime.date(2011, 4, 10)), ('sum', 0)]), RealDictRow([('created_date', datetime.date(2018, 6, 25)), ('sum', 11797)]), RealDictRow([('created_date', datetime.date(2019, 10, 7)), ('sum', 5706)]), RealDictRow([('created_date', datetime.date(2019, 7, 28)), ('sum', 2014)]), RealDictRow([('created_date', datetime.date(2016, 10, 31)), ('sum', 0)]), RealDictRow([('created_date', datetime.date(2017, 11, 14)), ('sum', 274)]), RealDictRow([('created_date', datetime.date(2018, 3, 24)), ('sum', 25)]), RealDictRow([('created_date', datetime.date(2018, 11, 29)), ('sum', 325)]), RealDictRow([('created_date', datetime.date(2019, 12, 21)), ('sum', 17760)]), RealDictRow([('created_date', datetime.date(2016, 9, 13)), ('sum', 312)]), RealDictRow([('created_date', datetime.date(2020, 4, 9)), ('sum', 50068)]), RealDictRow([('created_date', datetime.date(2010, 4, 9)), ('sum', 0)]), RealDictRow([('created_date', datetime.date(2016, 10, 19)), ('sum', 18)]), RealDictRow([('created_date', datetime.date(2018, 4, 21)), ('sum', 851)]), RealDictRow([('created_date', datetime.date(2012, 5, 18)), ('sum', 0)]), RealDictRow([('created_date', datetime.date(2020, 12, 29)), ('sum', 1130477)]), RealDictRow([('created_date', datetime.date(2018, 4, 7)), ('sum', 10747)]), RealDictRow([('created_date', datetime.date(2017, 10, 4)), ('sum', 251)]), RealDictRow([('created_date', datetime.date(2019, 3, 13)), ('sum', 481)]), RealDictRow([('created_date', datetime.date(2018, 12, 23)), ('sum', 14135)]), RealDictRow([('created_date', datetime.date(2017, 7, 20)), ('sum', 1723)]), RealDictRow([('created_date', datetime.date(2016, 4, 26)), ('sum', 7)]), RealDictRow([('created_date', datetime.date(2019, 4, 21)), ('sum', 61212)]), RealDictRow([('created_date', datetime.date(2019, 7, 22)), ('sum', 2451)]), RealDictRow([('created_date', datetime.date(2020, 7, 15)), ('sum', 399093)]), RealDictRow([('created_date', datetime.date(2019, 7, 2)), ('sum', 383423)]), RealDictRow([('created_date', datetime.date(2019, 10, 23)), ('sum', 4041)]), RealDictRow([('created_date', datetime.date(2018, 10, 3)), ('sum', 395)]), RealDictRow([('created_date', datetime.date(2016, 3, 6)), ('sum', 3)]), RealDictRow([('created_date', datetime.date(2016, 7, 20)), ('sum', 135)]), RealDictRow([('created_date', datetime.date(2015, 6, 28)), ('sum', 125)]), RealDictRow([('created_date', datetime.date(2019, 4, 9)), ('sum', 2867)]), RealDictRow([('created_date', datetime.date(2018, 11, 16)), ('sum', 230)]), RealDictRow([('created_date', datetime.date(2017, 9, 15)), ('sum', 1105)]), RealDictRow([('created_date', datetime.date(2020, 12, 31)), ('sum', 850957)]), RealDictRow([('created_date', datetime.date(2019, 3, 20)), ('sum', 17)]), RealDictRow([('created_date', datetime.date(2017, 10, 17)), ('sum', 1824)]), RealDictRow([('created_date', datetime.date(2017, 3, 29)), ('sum', 5)]), RealDictRow([('created_date', datetime.date(2017, 9, 11)), ('sum', 191)]), RealDictRow([('created_date', datetime.date(2019, 9, 28)), ('sum', 6707)]), RealDictRow([('created_date', datetime.date(2020, 11, 30)), ('sum', 434025)]), RealDictRow([('created_date', datetime.date(2019, 1, 29)), ('sum', 246)]), RealDictRow([('created_date', datetime.date(2019, 10, 19)), ('sum', 5096)]), RealDictRow([('created_date', datetime.date(2020, 7, 4)), ('sum', 430394)]), RealDictRow([('created_date', datetime.date(2020, 6, 21)), ('sum', 733776)]), RealDictRow([('created_date', datetime.date(2020, 11, 10)), ('sum', 808084)]), RealDictRow([('created_date', datetime.date(2017, 7, 16)), ('sum', 3709)]), RealDictRow([('created_date', datetime.date(2017, 12, 21)), ('sum', 56049)]), RealDictRow([('created_date', datetime.date(2018, 1, 23)), ('sum', 705)]), RealDictRow([('created_date', datetime.date(2009, 11, 5)), ('sum', 3)]), RealDictRow([('created_date', datetime.date(2011, 9, 2)), ('sum', 0)]), RealDictRow([('created_date', datetime.date(2015, 8, 20)), ('sum', 0)]), RealDictRow([('created_date', datetime.date(2016, 12, 16)), ('sum', 378)]), RealDictRow([('created_date', datetime.date(2018, 4, 3)), ('sum', 618)]), RealDictRow([('created_date', datetime.date(2017, 11, 3)), ('sum', 5041)]), RealDictRow([('created_date', datetime.date(2018, 10, 13)), ('sum', 1116)]), RealDictRow([('created_date', datetime.date(2016, 5, 26)), ('sum', 54)]), RealDictRow([('created_date', datetime.date(2020, 10, 5)), ('sum', 587054)]), RealDictRow([('created_date', datetime.date(2016, 12, 15)), ('sum', 161)]), RealDictRow([('created_date', datetime.date(2015, 12, 5)), ('sum', 41)]), RealDictRow([('created_date', datetime.date(2017, 12, 24)), ('sum', 7751)]), RealDictRow([('created_date', datetime.date(2016, 9, 30)), ('sum', 11)]), RealDictRow([('created_date', datetime.date(2015, 8, 31)), ('sum', 0)]), RealDictRow([('created_date', datetime.date(2019, 8, 29)), ('sum', 9700)]), RealDictRow([('created_date', datetime.date(2018, 1, 10)), ('sum', 296)]), RealDictRow([('created_date', datetime.date(2019, 9, 17)), ('sum', 45474)]), RealDictRow([('created_date', datetime.date(2017, 7, 14)), ('sum', 4)]), RealDictRow([('created_date', datetime.date(2017, 6, 5)), ('sum', 76)]), RealDictRow([('created_date', datetime.date(2012, 5, 11)), ('sum', 1)]), RealDictRow([('created_date', datetime.date(2019, 1, 26)), ('sum', 2141)]), RealDictRow([('created_date', datetime.date(2015, 11, 23)), ('sum', 47)]), RealDictRow([('created_date', datetime.date(2020, 6, 10)), ('sum', 325420)]), RealDictRow([('created_date', datetime.date(2016, 11, 19)), ('sum', 5)]), RealDictRow([('created_date', datetime.date(2019, 5, 28)), ('sum', 3179)]), RealDictRow([('created_date', datetime.date(2015, 11, 25)), ('sum', 154)]), RealDictRow([('created_date', datetime.date(2018, 6, 14)), ('sum', 48209)]), RealDictRow([('created_date', datetime.date(2019, 8, 22)), ('sum', 36766)]), RealDictRow([('created_date', datetime.date(2017, 6, 22)), ('sum', 13)]), RealDictRow([('created_date', datetime.date(2020, 9, 28)), ('sum', 318793)]), RealDictRow([('created_date', datetime.date(2017, 6, 4)), ('sum', 0)]), RealDictRow([('created_date', datetime.date(2020, 6, 4)), ('sum', 19986)]), RealDictRow([('created_date', datetime.date(2015, 1, 27)), ('sum', 7)]), RealDictRow([('created_date', datetime.date(2016, 1, 29)), ('sum', 627)]), RealDictRow([('created_date', datetime.date(2019, 7, 25)), ('sum', 9102)]), RealDictRow([('created_date', datetime.date(2020, 3, 25)), ('sum', 15819)]), RealDictRow([('created_date', datetime.date(2020, 3, 26)), ('sum', 76878)]), RealDictRow([('created_date', datetime.date(2017, 10, 5)), ('sum', 500)]), RealDictRow([('created_date', datetime.date(2018, 1, 13)), ('sum', 1625)]), RealDictRow([('created_date', datetime.date(2019, 8, 9)), ('sum', 43680)]), RealDictRow([('created_date', datetime.date(2017, 7, 8)), ('sum', 6)]), RealDictRow([('created_date', datetime.date(2019, 7, 8)), ('sum', 18989)]), RealDictRow([('created_date', datetime.date(2018, 11, 9)), ('sum', 2877)]), RealDictRow([('created_date', datetime.date(2019, 11, 29)), ('sum', 27895)]), RealDictRow([('created_date', datetime.date(2015, 10, 20)), ('sum', 159)]), RealDictRow([('created_date', datetime.date(2017, 9, 2)), ('sum', 5)]), RealDictRow([('created_date', datetime.date(2020, 9, 12)), ('sum', 384448)]), RealDictRow([('created_date', datetime.date(2021, 1, 8)), ('sum', 1240980)]), RealDictRow([('created_date', datetime.date(2016, 11, 23)), ('sum', 1)]), RealDictRow([('created_date', datetime.date(2017, 10, 30)), ('sum', 102)]), RealDictRow([('created_date', datetime.date(2009, 5, 30)), ('sum', 2)]), RealDictRow([('created_date', datetime.date(2014, 10, 11)), ('sum', 0)]), RealDictRow([('created_date', datetime.date(2017, 4, 15)), ('sum', 1430)]), RealDictRow([('created_date', datetime.date(2017, 3, 22)), ('sum', 200)]), RealDictRow([('created_date', datetime.date(2020, 8, 7)), ('sum', 130399)]), RealDictRow([('created_date', datetime.date(2017, 2, 2)), ('sum', 42)]), RealDictRow([('created_date', datetime.date(2016, 3, 3)), ('sum', 527)]), RealDictRow([('created_date', datetime.date(2016, 4, 24)), ('sum', 15)]), RealDictRow([('created_date', datetime.date(2016, 9, 1)), ('sum', 9)]), RealDictRow([('created_date', datetime.date(2021, 1, 10)), ('sum', 633038)]), RealDictRow([('created_date', datetime.date(2020, 3, 17)), ('sum', 2999)]), RealDictRow([('created_date', datetime.date(2018, 7, 2)), ('sum', 2215)]), RealDictRow([('created_date', datetime.date(2016, 8, 7)), ('sum', 10)]), RealDictRow([('created_date', datetime.date(2018, 10, 27)), ('sum', 263)]), RealDictRow([('created_date', datetime.date(2019, 10, 29)), ('sum', 6633)]), RealDictRow([('created_date', datetime.date(2019, 10, 14)), ('sum', 1964)]), RealDictRow([('created_date', datetime.date(2020, 5, 14)), ('sum', 395548)]), RealDictRow([('created_date', datetime.date(2013, 8, 17)), ('sum', 2)]), RealDictRow([('created_date', datetime.date(2016, 12, 6)), ('sum', 101)]), RealDictRow([('created_date', datetime.date(2020, 6, 13)), ('sum', 7497)]), RealDictRow([('created_date', datetime.date(2020, 1, 31)), ('sum', 23810)]), RealDictRow([('created_date', datetime.date(2018, 5, 23)), ('sum', 350)]), RealDictRow([('created_date', datetime.date(2011, 6, 21)), ('sum', 1)]), RealDictRow([('created_date', datetime.date(2017, 4, 19)), ('sum', 65)]), RealDictRow([('created_date', datetime.date(2015, 3, 10)), ('sum', 6)]), RealDictRow([('created_date', datetime.date(2017, 1, 11)), ('sum', 0)]), RealDictRow([('created_date', datetime.date(2015, 10, 29)), ('sum', 199)]), RealDictRow([('created_date', datetime.date(2016, 2, 3)), ('sum', 105)]), RealDictRow([('created_date', datetime.date(2020, 4, 14)), ('sum', 86174)]), RealDictRow([('created_date', datetime.date(2020, 10, 21)), ('sum', 804402)]), RealDictRow([('created_date', datetime.date(2010, 5, 15)), ('sum', 0)]), RealDictRow([('created_date', datetime.date(2018, 6, 11)), ('sum', 847)]), RealDictRow([('created_date', datetime.date(2020, 4, 2)), ('sum', 2262)]), RealDictRow([('created_date', datetime.date(2016, 4, 14)), ('sum', 275)]), RealDictRow([('created_date', datetime.date(2019, 4, 28)), ('sum', 679)]), RealDictRow([('created_date', datetime.date(2017, 7, 18)), ('sum', 211)]), RealDictRow([('created_date', datetime.date(2018, 6, 7)), ('sum', 0)]), RealDictRow([('created_date', datetime.date(2015, 10, 5)), ('sum', 117)]), RealDictRow([('created_date', datetime.date(2019, 8, 10)), ('sum', 15250)]), RealDictRow([('created_date', datetime.date(2020, 4, 21)), ('sum', 98059)]), RealDictRow([('created_date', datetime.date(2020, 11, 21)), ('sum', 939116)]), RealDictRow([('created_date', datetime.date(2019, 9, 22)), ('sum', 53465)]), RealDictRow([('created_date', datetime.date(2018, 12, 21)), ('sum', 825)]), RealDictRow([('created_date', datetime.date(2018, 8, 4)), ('sum', 6236)]), RealDictRow([('created_date', datetime.date(2007, 3, 29)), ('sum', 0)]), RealDictRow([('created_date', datetime.date(2018, 3, 14)), ('sum', 1166)]), RealDictRow([('created_date', datetime.date(2015, 11, 2)), ('sum', 222)]), RealDictRow([('created_date', datetime.date(2010, 3, 1)), ('sum', 2)]), RealDictRow([('created_date', datetime.date(2020, 5, 9)), ('sum', 20858)]), RealDictRow([('created_date', datetime.date(2015, 1, 8)), ('sum', 5)]), RealDictRow([('created_date', datetime.date(2018, 7, 19)), ('sum', 2892)]), RealDictRow([('created_date', datetime.date(2017, 4, 27)), ('sum', 8)]), RealDictRow([('created_date', datetime.date(2019, 12, 10)), ('sum', 4421)]), RealDictRow([('created_date', datetime.date(2020, 5, 26)), ('sum', 199029)]), RealDictRow([('created_date', datetime.date(2013, 5, 4)), ('sum', 3)]), RealDictRow([('created_date', datetime.date(2019, 7, 27)), ('sum', 9320)]), RealDictRow([('created_date', datetime.date(2009, 10, 8)), ('sum', 1)]), RealDictRow([('created_date', datetime.date(2020, 1, 19)), ('sum', 1663)]), RealDictRow([('created_date', datetime.date(2020, 11, 3)), ('sum', 1615568)]), RealDictRow([('created_date', datetime.date(2016, 7, 15)), ('sum', 385)]), RealDictRow([('created_date', datetime.date(2016, 10, 29)), ('sum', 24)]), RealDictRow([('created_date', datetime.date(2018, 11, 6)), ('sum', 1369)]), RealDictRow([('created_date', datetime.date(2016, 8, 4)), ('sum', 62)]), RealDictRow([('created_date', datetime.date(2019, 3, 29)), ('sum', 4174)]), RealDictRow([('created_date', datetime.date(2020, 7, 6)), ('sum', 50018)]), RealDictRow([('created_date', datetime.date(2016, 4, 18)), ('sum', 0)]), RealDictRow([('created_date', datetime.date(2016, 5, 4)), ('sum', 51)]), RealDictRow([('created_date', datetime.date(2011, 4, 16)), ('sum', 0)]), RealDictRow([('created_date', datetime.date(2019, 12, 14)), ('sum', 43229)]), RealDictRow([('created_date', datetime.date(2011, 5, 24)), ('sum', 0)]), RealDictRow([('created_date', datetime.date(2018, 7, 16)), ('sum', 105)]), RealDictRow([('created_date', datetime.date(2019, 10, 24)), ('sum', 5133)]), RealDictRow([('created_date', datetime.date(2020, 2, 1)), ('sum', 14404)]), RealDictRow([('created_date', datetime.date(2020, 11, 1)), ('sum', 654734)]), RealDictRow([('created_date', datetime.date(2018, 2, 23)), ('sum', 1634)]), RealDictRow([('created_date', datetime.date(2017, 8, 25)), ('sum', 379)]), RealDictRow([('created_date', datetime.date(2015, 8, 28)), ('sum', 0)]), RealDictRow([('created_date', datetime.date(2018, 11, 18)), ('sum', 362)]), RealDictRow([('created_date', datetime.date(2018, 6, 20)), ('sum', 403)]), RealDictRow([('created_date', datetime.date(2018, 5, 12)), ('sum', 29182)]), RealDictRow([('created_date', datetime.date(2017, 5, 20)), ('sum', 0)]), RealDictRow([('created_date', datetime.date(2018, 7, 13)), ('sum', 17267)]), RealDictRow([('created_date', datetime.date(2018, 5, 14)), ('sum', 249)]), RealDictRow([('created_date', datetime.date(2016, 5, 28)), ('sum', 53)]), RealDictRow([('created_date', datetime.date(2020, 11, 20)), ('sum', 679916)]), RealDictRow([('created_date', datetime.date(2018, 8, 1)), ('sum', 35667)]), RealDictRow([('created_date', datetime.date(2016, 8, 29)), ('sum', 11)]), RealDictRow([('created_date', datetime.date(2019, 2, 8)), ('sum', 20434)]), RealDictRow([('created_date', datetime.date(2018, 5, 2)), ('sum', 1287)]), RealDictRow([('created_date', datetime.date(2015, 11, 21)), ('sum', 76)]), RealDictRow([('created_date', datetime.date(2016, 3, 16)), ('sum', 48)]), RealDictRow([('created_date', datetime.date(2018, 3, 12)), ('sum', 4359)]), RealDictRow([('created_date', datetime.date(2017, 9, 22)), ('sum', 6995)]), RealDictRow([('created_date', datetime.date(2017, 12, 3)), ('sum', 19)]), RealDictRow([('created_date', datetime.date(2019, 3, 3)), ('sum', 5789)]), RealDictRow([('created_date', datetime.date(2019, 8, 19)), ('sum', 5127)]), RealDictRow([('created_date', datetime.date(2018, 3, 25)), ('sum', 10)]), RealDictRow([('created_date', datetime.date(2019, 4, 24)), ('sum', 11503)]), RealDictRow([('created_date', datetime.date(2020, 12, 13)), ('sum', 382660)]), RealDictRow([('created_date', datetime.date(2020, 2, 28)), ('sum', 66671)]), RealDictRow([('created_date', datetime.date(2019, 2, 18)), ('sum', 1878)]), RealDictRow([('created_date', datetime.date(2021, 1, 14)), ('sum', 578)]), RealDictRow([('created_date', datetime.date(2016, 12, 13)), ('sum', 496)]), RealDictRow([('created_date', datetime.date(2015, 6, 21)), ('sum', 0)]), RealDictRow([('created_date', datetime.date(2020, 1, 16)), ('sum', 9418)]), RealDictRow([('created_date', datetime.date(2017, 12, 4)), ('sum', 562)]), RealDictRow([('created_date', datetime.date(2015, 11, 14)), ('sum', 139)]), RealDictRow([('created_date', datetime.date(2020, 10, 28)), ('sum', 842849)]), RealDictRow([('created_date', datetime.date(2020, 3, 6)), ('sum', 1617363)]), RealDictRow([('created_date', datetime.date(2018, 3, 28)), ('sum', 851)]), RealDictRow([('created_date', datetime.date(2020, 9, 8)), ('sum', 228215)]), RealDictRow([('created_date', datetime.date(2018, 8, 30)), ('sum', 462)]), RealDictRow([('created_date', datetime.date(2017, 4, 11)), ('sum', 527)]), RealDictRow([('created_date', datetime.date(2019, 3, 16)), ('sum', 55)]), RealDictRow([('created_date', datetime.date(2020, 6, 20)), ('sum', 276755)]), RealDictRow([('created_date', datetime.date(2019, 3, 27)), ('sum', 3559)]), RealDictRow([('created_date', datetime.date(2010, 8, 6)), ('sum', 0)]), RealDictRow([('created_date', datetime.date(2019, 9, 1)), ('sum', 38823)]), RealDictRow([('created_date', datetime.date(2018, 12, 29)), ('sum', 9)]), RealDictRow([('created_date', datetime.date(2017, 3, 11)), ('sum', 7)]), RealDictRow([('created_date', datetime.date(2018, 12, 28)), ('sum', 18483)]), RealDictRow([('created_date', datetime.date(2016, 1, 3)), ('sum', 0)]), RealDictRow([('created_date', datetime.date(2016, 10, 9)), ('sum', 63)]), RealDictRow([('created_date', datetime.date(2020, 7, 2)), ('sum', 629413)]), RealDictRow([('created_date', datetime.date(2017, 6, 25)), ('sum', 454)]), RealDictRow([('created_date', datetime.date(2017, 2, 24)), ('sum', 403)]), RealDictRow([('created_date', datetime.date(2018, 7, 8)), ('sum', 22402)]), RealDictRow([('created_date', datetime.date(2018, 10, 10)), ('sum', 4658)]), RealDictRow([('created_date', datetime.date(2016, 12, 19)), ('sum', 12)]), RealDictRow([('created_date', datetime.date(2017, 12, 31)), ('sum', 4095)]), RealDictRow([('created_date', datetime.date(2019, 9, 27)), ('sum', 10492)]), RealDictRow([('created_date', datetime.date(2018, 4, 23)), ('sum', 11038)]), RealDictRow([('created_date', datetime.date(2018, 4, 10)), ('sum', 578)]), RealDictRow([('created_date', datetime.date(2019, 8, 6)), ('sum', 18742)]), RealDictRow([('created_date', datetime.date(2018, 10, 9)), ('sum', 16330)]), RealDictRow([('created_date', datetime.date(2018, 10, 29)), ('sum', 6902)]), RealDictRow([('created_date', datetime.date(2019, 11, 11)), ('sum', 1466)]), RealDictRow([('created_date', datetime.date(2016, 10, 17)), ('sum', 18)]), RealDictRow([('created_date', datetime.date(2017, 7, 12)), ('sum', 0)]), RealDictRow([('created_date', datetime.date(2017, 6, 6)), ('sum', 614)]), RealDictRow([('created_date', datetime.date(2016, 5, 19)), ('sum', 29)]), RealDictRow([('created_date', datetime.date(2017, 7, 19)), ('sum', 40)]), RealDictRow([('created_date', datetime.date(2020, 4, 20)), ('sum', 20075)]), RealDictRow([('created_date', datetime.date(2018, 3, 23)), ('sum', 17854)]), RealDictRow([('created_date', datetime.date(2017, 12, 14)), ('sum', 261)]), RealDictRow([('created_date', datetime.date(2018, 4, 11)), ('sum', 83)]), RealDictRow([('created_date', datetime.date(2017, 3, 25)), ('sum', 7)]), RealDictRow([('created_date', datetime.date(2020, 2, 22)), ('sum', 43824)]), RealDictRow([('created_date', datetime.date(2020, 12, 18)), ('sum', 971146)]), RealDictRow([('created_date', datetime.date(2011, 2, 22)), ('sum', 3)]), RealDictRow([('created_date', datetime.date(2016, 10, 30)), ('sum', 501)]), RealDictRow([('created_date', datetime.date(2017, 12, 25)), ('sum', 0)]), RealDictRow([('created_date', datetime.date(2017, 10, 6)), ('sum', 78)]), RealDictRow([('created_date', datetime.date(2017, 10, 24)), ('sum', 864)]), RealDictRow([('created_date', datetime.date(2020, 10, 15)), ('sum', 227263)]), RealDictRow([('created_date', datetime.date(2011, 6, 25)), ('sum', 0)]), RealDictRow([('created_date', datetime.date(2020, 10, 22)), ('sum', 531563)]), RealDictRow([('created_date', datetime.date(2018, 7, 29)), ('sum', 514)]), RealDictRow([('created_date', datetime.date(2020, 7, 19)), ('sum', 40845)]), RealDictRow([('created_date', datetime.date(2018, 11, 8)), ('sum', 22900)]), RealDictRow([('created_date', datetime.date(2012, 10, 24)), ('sum', 2)]), RealDictRow([('created_date', datetime.date(2018, 4, 29)), ('sum', 747)]), RealDictRow([('created_date', datetime.date(2020, 11, 17)), ('sum', 828707)]), RealDictRow([('created_date', datetime.date(2020, 7, 26)), ('sum', 57731)]), RealDictRow([('created_date', datetime.date(2019, 9, 19)), ('sum', 38946)]), RealDictRow([('created_date', datetime.date(2019, 10, 16)), ('sum', 9831)]), RealDictRow([('created_date', datetime.date(2019, 9, 24)), ('sum', 72771)]), RealDictRow([('created_date', datetime.date(2019, 5, 3)), ('sum', 11576)]), RealDictRow([('created_date', datetime.date(2019, 5, 1)), ('sum', 56089)]), RealDictRow([('created_date', datetime.date(2017, 8, 29)), ('sum', 2932)]), RealDictRow([('created_date', datetime.date(2017, 4, 3)), ('sum', 214)]), RealDictRow([('created_date', datetime.date(2018, 2, 4)), ('sum', 3283)]), RealDictRow([('created_date', datetime.date(2019, 1, 10)), ('sum', 19025)]), RealDictRow([('created_date', datetime.date(2020, 6, 15)), ('sum', 152218)]), RealDictRow([('created_date', datetime.date(2020, 4, 28)), ('sum', 158418)]), RealDictRow([('created_date', datetime.date(2018, 7, 11)), ('sum', 317)]), RealDictRow([('created_date', datetime.date(2018, 5, 7)), ('sum', 7878)]), RealDictRow([('created_date', datetime.date(2020, 5, 20)), ('sum', 278472)]), RealDictRow([('created_date', datetime.date(2019, 8, 31)), ('sum', 30127)]), RealDictRow([('created_date', datetime.date(2020, 9, 5)), ('sum', 200897)]), RealDictRow([('created_date', datetime.date(2011, 3, 11)), ('sum', 1)]), RealDictRow([('created_date', datetime.date(2019, 8, 28)), ('sum', 15770)]), RealDictRow([('created_date', datetime.date(2018, 9, 30)), ('sum', 1675)]), RealDictRow([('created_date', datetime.date(2018, 6, 26)), ('sum', 856)]), RealDictRow([('created_date', datetime.date(2020, 10, 17)), ('sum', 716841)]), RealDictRow([('created_date', datetime.date(2016, 12, 29)), ('sum', 263)]), RealDictRow([('created_date', datetime.date(2020, 10, 7)), ('sum', 121922)]), RealDictRow([('created_date', datetime.date(2020, 12, 2)), ('sum', 358497)]), RealDictRow([('created_date', datetime.date(2011, 11, 13)), ('sum', 2)]), RealDictRow([('created_date', datetime.date(2018, 3, 6)), ('sum', 8332)]), RealDictRow([('created_date', datetime.date(2016, 12, 18)), ('sum', 524)]), RealDictRow([('created_date', datetime.date(2019, 2, 24)), ('sum', 2181)]), RealDictRow([('created_date', datetime.date(2017, 6, 30)), ('sum', 1097)]), RealDictRow([('created_date', datetime.date(2020, 3, 28)), ('sum', 8555)]), RealDictRow([('created_date', datetime.date(2017, 4, 10)), ('sum', 59)]), RealDictRow([('created_date', datetime.date(2019, 1, 23)), ('sum', 445)]), RealDictRow([('created_date', datetime.date(2018, 6, 22)), ('sum', 15411)]), RealDictRow([('created_date', datetime.date(2019, 1, 2)), ('sum', 214)]), RealDictRow([('created_date', datetime.date(2018, 8, 11)), ('sum', 0)]), RealDictRow([('created_date', datetime.date(2018, 2, 22)), ('sum', 961)]), RealDictRow([('created_date', datetime.date(2018, 5, 15)), ('sum', 9992)]), RealDictRow([('created_date', datetime.date(2015, 6, 11)), ('sum', 116)]), RealDictRow([('created_date', datetime.date(2017, 7, 3)), ('sum', 10)]), RealDictRow([('created_date', datetime.date(2017, 11, 27)), ('sum', 4384)]), RealDictRow([('created_date', datetime.date(2016, 2, 11)), ('sum', 14)]), RealDictRow([('created_date', datetime.date(2019, 12, 4)), ('sum', 59761)]), RealDictRow([('created_date', datetime.date(2020, 12, 30)), ('sum', 868811)]), RealDictRow([('created_date', datetime.date(2015, 8, 10)), ('sum', 194)]), RealDictRow([('created_date', datetime.date(2015, 9, 4)), ('sum', 0)]), RealDictRow([('created_date', datetime.date(2017, 9, 26)), ('sum', 406)]), RealDictRow([('created_date', datetime.date(2019, 11, 26)), ('sum', 7868)]), RealDictRow([('created_date', datetime.date(2020, 2, 27)), ('sum', 19973)]), RealDictRow([('created_date', datetime.date(2016, 10, 18)), ('sum', 73)]), RealDictRow([('created_date', datetime.date(2017, 4, 14)), ('sum', 1390)]), RealDictRow([('created_date', datetime.date(2017, 10, 7)), ('sum', 143)]), RealDictRow([('created_date', datetime.date(2010, 9, 3)), ('sum', 3)]), RealDictRow([('created_date', datetime.date(2016, 3, 20)), ('sum', 89)]), RealDictRow([('created_date', datetime.date(2018, 4, 20)), ('sum', 182)]), RealDictRow([('created_date', datetime.date(2014, 6, 22)), ('sum', 6)]), RealDictRow([('created_date', datetime.date(2020, 8, 15)), ('sum', 43923)]), RealDictRow([('created_date', datetime.date(2016, 6, 28)), ('sum', 18)]), RealDictRow([('created_date', datetime.date(2017, 9, 1)), ('sum', 307)]), RealDictRow([('created_date', datetime.date(2016, 3, 9)), ('sum', 3)]), RealDictRow([('created_date', datetime.date(2020, 5, 19)), ('sum', 619472)]), RealDictRow([('created_date', datetime.date(2016, 11, 16)), ('sum', 93)]), RealDictRow([('created_date', datetime.date(2015, 6, 27)), ('sum', 2)]), RealDictRow([('created_date', datetime.date(2019, 3, 23)), ('sum', 22130)]), RealDictRow([('created_date', datetime.date(2017, 7, 7)), ('sum', 16598)]), RealDictRow([('created_date', datetime.date(2019, 9, 26)), ('sum', 21245)]), RealDictRow([('created_date', datetime.date(2021, 1, 9)), ('sum', 1423937)]), RealDictRow([('created_date', datetime.date(2017, 5, 26)), ('sum', 80)]), RealDictRow([('created_date', datetime.date(2019, 4, 22)), ('sum', 15842)]), RealDictRow([('created_date', datetime.date(2019, 6, 5)), ('sum', 14313)]), RealDictRow([('created_date', datetime.date(2015, 9, 17)), ('sum', 2)]), RealDictRow([('created_date', datetime.date(2020, 9, 11)), ('sum', 604544)]), RealDictRow([('created_date', datetime.date(2021, 1, 5)), ('sum', 560211)]), RealDictRow([('created_date', datetime.date(2017, 12, 26)), ('sum', 4811)]), RealDictRow([('created_date', datetime.date(2015, 12, 23)), ('sum', 262)]), RealDictRow([('created_date', datetime.date(2019, 8, 27)), ('sum', 26444)]), RealDictRow([('created_date', datetime.date(2018, 7, 28)), ('sum', 107)]), RealDictRow([('created_date', datetime.date(2016, 3, 26)), ('sum', 27)]), RealDictRow([('created_date', datetime.date(2021, 1, 17)), ('sum', 1095)]), RealDictRow([('created_date', datetime.date(2017, 10, 2)), ('sum', 8)]), RealDictRow([('created_date', datetime.date(2007, 4, 3)), ('sum', 0)]), RealDictRow([('created_date', datetime.date(2019, 11, 20)), ('sum', 4172)]), RealDictRow([('created_date', datetime.date(2015, 8, 4)), ('sum', 31)]), RealDictRow([('created_date', datetime.date(2018, 6, 3)), ('sum', 4183)]), RealDictRow([('created_date', datetime.date(2020, 12, 9)), ('sum', 1168327)]), RealDictRow([('created_date', datetime.date(2015, 9, 5)), ('sum', 0)]), RealDictRow([('created_date', datetime.date(2020, 6, 27)), ('sum', 19426)]), RealDictRow([('created_date', datetime.date(2016, 2, 2)), ('sum', 3)]), RealDictRow([('created_date', datetime.date(2020, 8, 25)), ('sum', 59451)]), RealDictRow([('created_date', datetime.date(2014, 12, 2)), ('sum', 0)]), RealDictRow([('created_date', datetime.date(2016, 1, 9)), ('sum', 4)]), RealDictRow([('created_date', datetime.date(2018, 1, 21)), ('sum', 523)]), RealDictRow([('created_date', datetime.date(2013, 1, 31)), ('sum', 1)]), RealDictRow([('created_date', datetime.date(2015, 7, 8)), ('sum', 0)]), RealDictRow([('created_date', datetime.date(2007, 9, 6)), ('sum', 0)]), RealDictRow([('created_date', datetime.date(2020, 11, 16)), ('sum', 1167035)]), RealDictRow([('created_date', datetime.date(2020, 8, 8)), ('sum', 298706)]), RealDictRow([('created_date', datetime.date(2015, 1, 13)), ('sum', 42)]), RealDictRow([('created_date', datetime.date(2017, 5, 22)), ('sum', 180)]), RealDictRow([('created_date', datetime.date(2013, 4, 30)), ('sum', 1)]), RealDictRow([('created_date', datetime.date(2015, 8, 13)), ('sum', 28)]), RealDictRow([('created_date', datetime.date(2018, 6, 13)), ('sum', 1365)]), RealDictRow([('created_date', datetime.date(2020, 9, 10)), ('sum', 349555)]), RealDictRow([('created_date', datetime.date(2015, 11, 28)), ('sum', 93)]), RealDictRow([('created_date', datetime.date(2018, 9, 11)), ('sum', 8289)]), RealDictRow([('created_date', datetime.date(2014, 1, 7)), ('sum', 0)]), RealDictRow([('created_date', datetime.date(2018, 3, 30)), ('sum', 32)]), RealDictRow([('created_date', datetime.date(2016, 5, 13)), ('sum', 124)]), RealDictRow([('created_date', datetime.date(2016, 2, 13)), ('sum', 230)]), RealDictRow([('created_date', datetime.date(2016, 9, 14)), ('sum', 177)]), RealDictRow([('created_date', datetime.date(2020, 8, 1)), ('sum', 125871)]), RealDictRow([('created_date', datetime.date(2018, 5, 19)), ('sum', 163)]), RealDictRow([('created_date', datetime.date(2019, 5, 25)), ('sum', 18102)]), RealDictRow([('created_date', datetime.date(2014, 6, 10)), ('sum', 1)]), RealDictRow([('created_date', datetime.date(2010, 5, 25)), ('sum', 0)]), RealDictRow([('created_date', datetime.date(2019, 11, 30)), ('sum', 10798)]), RealDictRow([('created_date', datetime.date(2020, 10, 3)), ('sum', 850010)]), RealDictRow([('created_date', datetime.date(2020, 4, 17)), ('sum', 74979)]), RealDictRow([('created_date', datetime.date(2018, 4, 19)), ('sum', 13)]), RealDictRow([('created_date', datetime.date(2016, 9, 7)), ('sum', 34)]), RealDictRow([('created_date', datetime.date(2016, 12, 24)), ('sum', 55)]), RealDictRow([('created_date', datetime.date(2020, 11, 11)), ('sum', 1005085)]), RealDictRow([('created_date', datetime.date(2015, 12, 25)), ('sum', 2)]), RealDictRow([('created_date', datetime.date(2019, 4, 26)), ('sum', 13100)]), RealDictRow([('created_date', datetime.date(2018, 4, 4)), ('sum', 211)]), RealDictRow([('created_date', datetime.date(2018, 3, 2)), ('sum', 631)]), RealDictRow([('created_date', datetime.date(2016, 12, 3)), ('sum', 39)]), RealDictRow([('created_date', datetime.date(2018, 8, 7)), ('sum', 968)]), RealDictRow([('created_date', datetime.date(2016, 4, 11)), ('sum', 0)]), RealDictRow([('created_date', datetime.date(2018, 11, 7)), ('sum', 2067)]), RealDictRow([('created_date', datetime.date(2019, 5, 23)), ('sum', 17211)]), RealDictRow([('created_date', datetime.date(2019, 1, 28)), ('sum', 939)]), RealDictRow([('created_date', datetime.date(2016, 4, 15)), ('sum', 218)]), RealDictRow([('created_date', datetime.date(2016, 1, 21)), ('sum', 9)]), RealDictRow([('created_date', datetime.date(2017, 7, 15)), ('sum', 299)]), RealDictRow([('created_date', datetime.date(2007, 3, 31)), ('sum', 2)]), RealDictRow([('created_date', datetime.date(2020, 1, 1)), ('sum', 16582)]), RealDictRow([('created_date', datetime.date(2015, 1, 18)), ('sum', 0)]), RealDictRow([('created_date', datetime.date(2019, 9, 14)), ('sum', 44121)]), RealDictRow([('created_date', datetime.date(2017, 4, 7)), ('sum', 4)]), RealDictRow([('created_date', datetime.date(2019, 9, 15)), ('sum', 5663)]), RealDictRow([('created_date', datetime.date(2016, 8, 16)), ('sum', 2)]), RealDictRow([('created_date', datetime.date(2020, 2, 8)), ('sum', 11797)]), RealDictRow([('created_date', datetime.date(2019, 6, 11)), ('sum', 11684)]), RealDictRow([('created_date', datetime.date(2015, 10, 13)), ('sum', 7)]), RealDictRow([('created_date', datetime.date(2017, 2, 15)), ('sum', 51)]), RealDictRow([('created_date', datetime.date(2017, 11, 18)), ('sum', 74)]), RealDictRow([('created_date', datetime.date(2019, 3, 10)), ('sum', 1378)]), RealDictRow([('created_date', datetime.date(2015, 8, 11)), ('sum', 16)]), RealDictRow([('created_date', datetime.date(2016, 6, 5)), ('sum', 250)]), RealDictRow([('created_date', datetime.date(2018, 2, 2)), ('sum', 109)]), RealDictRow([('created_date', datetime.date(2016, 5, 25)), ('sum', 59)]), RealDictRow([('created_date', datetime.date(2017, 10, 26)), ('sum', 1952)]), RealDictRow([('created_date', datetime.date(2019, 3, 28)), ('sum', 1210)]), RealDictRow([('created_date', datetime.date(2019, 2, 4)), ('sum', 3029)]), RealDictRow([('created_date', datetime.date(2018, 3, 9)), ('sum', 1085)]), RealDictRow([('created_date', datetime.date(2019, 11, 24)), ('sum', 5859)]), RealDictRow([('created_date', datetime.date(2019, 5, 10)), ('sum', 112379)]), RealDictRow([('created_date', datetime.date(2016, 8, 13)), ('sum', 8)]), RealDictRow([('created_date', datetime.date(2018, 5, 13)), ('sum', 128)]), RealDictRow([('created_date', datetime.date(2018, 7, 24)), ('sum', 15739)]), RealDictRow([('created_date', datetime.date(2018, 7, 21)), ('sum', 268)]), RealDictRow([('created_date', datetime.date(2019, 3, 14)), ('sum', 3796)]), RealDictRow([('created_date', datetime.date(2019, 11, 6)), ('sum', 5824)]), RealDictRow([('created_date', datetime.date(2010, 5, 30)), ('sum', 0)]), RealDictRow([('created_date', datetime.date(2019, 11, 22)), ('sum', 73227)]), RealDictRow([('created_date', datetime.date(2020, 7, 20)), ('sum', 152626)]), RealDictRow([('created_date', datetime.date(2017, 12, 22)), ('sum', 175)]), RealDictRow([('created_date', datetime.date(2017, 5, 29)), ('sum', 18)]), RealDictRow([('created_date', datetime.date(2016, 12, 31)), ('sum', 288)]), RealDictRow([('created_date', datetime.date(2015, 8, 25)), ('sum', 3)]), RealDictRow([('created_date', datetime.date(2017, 4, 4)), ('sum', 0)]), RealDictRow([('created_date', datetime.date(2017, 8, 22)), ('sum', 421)]), RealDictRow([('created_date', datetime.date(2020, 6, 12)), ('sum', 23119)]), RealDictRow([('created_date', datetime.date(2020, 8, 11)), ('sum', 246238)]), RealDictRow([('created_date', datetime.date(2020, 6, 24)), ('sum', 139498)]), RealDictRow([('created_date', datetime.date(2017, 5, 9)), ('sum', 82)]), RealDictRow([('created_date', datetime.date(2018, 5, 21)), ('sum', 2)]), RealDictRow([('created_date', datetime.date(2018, 5, 3)), ('sum', 864)]), RealDictRow([('created_date', datetime.date(2011, 8, 11)), ('sum', 1)]), RealDictRow([('created_date', datetime.date(2019, 9, 4)), ('sum', 57114)]), RealDictRow([('created_date', datetime.date(2021, 1, 7)), ('sum', 2127187)]), RealDictRow([('created_date', datetime.date(2019, 2, 22)), ('sum', 8208)]), RealDictRow([('created_date', datetime.date(2016, 2, 18)), ('sum', 12)]), RealDictRow([('created_date', datetime.date(2018, 5, 26)), ('sum', 477)]), RealDictRow([('created_date', datetime.date(2020, 2, 9)), ('sum', 43458)]), RealDictRow([('created_date', datetime.date(2018, 9, 15)), ('sum', 18484)]), RealDictRow([('created_date', datetime.date(2018, 2, 28)), ('sum', 26)]), RealDictRow([('created_date', datetime.date(2016, 10, 8)), ('sum', 140)]), RealDictRow([('created_date', datetime.date(2020, 7, 25)), ('sum', 374718)]), RealDictRow([('created_date', datetime.date(2017, 4, 24)), ('sum', 73)]), RealDictRow([('created_date', datetime.date(2018, 7, 27)), ('sum', 261)]), RealDictRow([('created_date', datetime.date(2019, 11, 8)), ('sum', 4265)]), RealDictRow([('created_date', datetime.date(2016, 2, 23)), ('sum', 13)]), RealDictRow([('created_date', datetime.date(2020, 9, 24)), ('sum', 909792)]), RealDictRow([('created_date', datetime.date(2016, 7, 31)), ('sum', 535)]), RealDictRow([('created_date', datetime.date(2018, 5, 6)), ('sum', 53)]), RealDictRow([('created_date', datetime.date(2018, 12, 27)), ('sum', 27)]), RealDictRow([('created_date', datetime.date(2015, 8, 19)), ('sum', 137)]), RealDictRow([('created_date', datetime.date(2020, 8, 4)), ('sum', 24279)]), RealDictRow([('created_date', datetime.date(2015, 10, 2)), ('sum', 0)]), RealDictRow([('created_date', datetime.date(2019, 8, 13)), ('sum', 8654)]), RealDictRow([('created_date', datetime.date(2019, 11, 23)), ('sum', 56551)]), RealDictRow([('created_date', datetime.date(2020, 11, 5)), ('sum', 542666)]), RealDictRow([('created_date', datetime.date(2016, 10, 25)), ('sum', 14)]), RealDictRow([('created_date', datetime.date(2019, 11, 14)), ('sum', 550)]), RealDictRow([('created_date', datetime.date(2015, 6, 14)), ('sum', 0)]), RealDictRow([('created_date', datetime.date(2020, 2, 15)), ('sum', 47951)]), RealDictRow([('created_date', datetime.date(2019, 4, 15)), ('sum', 34951)]), RealDictRow([('created_date', datetime.date(2020, 7, 28)), ('sum', 63512)]), RealDictRow([('created_date', datetime.date(2017, 5, 5)), ('sum', 75)]), RealDictRow([('created_date', datetime.date(2019, 5, 12)), ('sum', 57675)]), RealDictRow([('created_date', datetime.date(2018, 6, 29)), ('sum', 30)]), RealDictRow([('created_date', datetime.date(2015, 12, 9)), ('sum', 57)]), RealDictRow([('created_date', datetime.date(2018, 7, 25)), ('sum', 1727)]), RealDictRow([('created_date', datetime.date(2017, 1, 12)), ('sum', 28)]), RealDictRow([('created_date', datetime.date(2017, 4, 12)), ('sum', 511)]), RealDictRow([('created_date', datetime.date(2018, 1, 17)), ('sum', 4529)]), RealDictRow([('created_date', datetime.date(2017, 11, 29)), ('sum', 3094)]), RealDictRow([('created_date', datetime.date(2018, 6, 17)), ('sum', 588)]), RealDictRow([('created_date', datetime.date(2016, 6, 12)), ('sum', 17)]), RealDictRow([('created_date', datetime.date(2020, 9, 20)), ('sum', 213173)]), RealDictRow([('created_date', datetime.date(2014, 1, 17)), ('sum', 2)]), RealDictRow([('created_date', datetime.date(2016, 10, 1)), ('sum', 134)]), RealDictRow([('created_date', datetime.date(2020, 3, 10)), ('sum', 852762)]), RealDictRow([('created_date', datetime.date(2020, 2, 21)), ('sum', 70755)]), RealDictRow([('created_date', datetime.date(2016, 6, 1)), ('sum', 38)]), RealDictRow([('created_date', datetime.date(2019, 8, 21)), ('sum', 39486)]), RealDictRow([('created_date', datetime.date(2014, 1, 19)), ('sum', 5)]), RealDictRow([('created_date', datetime.date(2018, 1, 25)), ('sum', 7565)]), RealDictRow([('created_date', datetime.date(2019, 1, 24)), ('sum', 6988)]), RealDictRow([('created_date', datetime.date(2019, 12, 22)), ('sum', 29)]), RealDictRow([('created_date', datetime.date(2018, 8, 29)), ('sum', 0)]), RealDictRow([('created_date', datetime.date(2018, 1, 12)), ('sum', 42)]), RealDictRow([('created_date', datetime.date(2009, 2, 1)), ('sum', 0)]), RealDictRow([('created_date', datetime.date(2018, 3, 13)), ('sum', 1798)]), RealDictRow([('created_date', datetime.date(2019, 7, 17)), ('sum', 7419)]), RealDictRow([('created_date', datetime.date(2019, 12, 30)), ('sum', 27501)]), RealDictRow([('created_date', datetime.date(2020, 9, 2)), ('sum', 139838)]), RealDictRow([('created_date', datetime.date(2020, 11, 6)), ('sum', 1142560)]), RealDictRow([('created_date', datetime.date(2017, 4, 8)), ('sum', 89)]), RealDictRow([('created_date', datetime.date(2017, 9, 20)), ('sum', 40)]), RealDictRow([('created_date', datetime.date(2017, 4, 16)), ('sum', 188)]), RealDictRow([('created_date', datetime.date(2015, 7, 17)), ('sum', 1)]), RealDictRow([('created_date', datetime.date(2017, 3, 30)), ('sum', 270)]), RealDictRow([('created_date', datetime.date(2019, 5, 6)), ('sum', 87579)]), RealDictRow([('created_date', datetime.date(2020, 10, 12)), ('sum', 1049563)]), RealDictRow([('created_date', datetime.date(2015, 1, 21)), ('sum', 15)]), RealDictRow([('created_date', datetime.date(2017, 2, 21)), ('sum', 23)]), RealDictRow([('created_date', datetime.date(2019, 4, 4)), ('sum', 1426)]), RealDictRow([('created_date', datetime.date(2020, 12, 3)), ('sum', 839032)]), RealDictRow([('created_date', datetime.date(2016, 9, 29)), ('sum', 4)]), RealDictRow([('created_date', datetime.date(2018, 4, 30)), ('sum', 219)]), RealDictRow([('created_date', datetime.date(2020, 3, 5)), ('sum', 79891)]), RealDictRow([('created_date', datetime.date(2018, 12, 30)), ('sum', 5992)]), RealDictRow([('created_date', datetime.date(2016, 2, 10)), ('sum', 108)]), RealDictRow([('created_date', datetime.date(2020, 11, 2)), ('sum', 1068992)]), RealDictRow([('created_date', datetime.date(2012, 6, 16)), ('sum', 1)]), RealDictRow([('created_date', datetime.date(2019, 7, 15)), ('sum', 7108)]), RealDictRow([('created_date', datetime.date(2019, 6, 3)), ('sum', 812)]), RealDictRow([('created_date', datetime.date(2019, 6, 9)), ('sum', 2613)]), RealDictRow([('created_date', datetime.date(2019, 6, 28)), ('sum', 61540)]), RealDictRow([('created_date', datetime.date(2018, 8, 18)), ('sum', 475)]), RealDictRow([('created_date', datetime.date(2019, 5, 16)), ('sum', 15283)]), RealDictRow([('created_date', datetime.date(2016, 12, 7)), ('sum', 34)]), RealDictRow([('created_date', datetime.date(2019, 4, 27)), ('sum', 13433)]), RealDictRow([('created_date', datetime.date(2020, 9, 19)), ('sum', 501830)]), RealDictRow([('created_date', datetime.date(2015, 10, 17)), ('sum', 83)]), RealDictRow([('created_date', datetime.date(2019, 6, 21)), ('sum', 20031)]), RealDictRow([('created_date', datetime.date(2016, 9, 23)), ('sum', 1982)]), RealDictRow([('created_date', datetime.date(2017, 4, 25)), ('sum', 213)]), RealDictRow([('created_date', datetime.date(2017, 11, 16)), ('sum', 7615)]), RealDictRow([('created_date', datetime.date(2014, 2, 27)), ('sum', 3)]), RealDictRow([('created_date', datetime.date(2019, 5, 9)), ('sum', 76506)]), RealDictRow([('created_date', datetime.date(2016, 4, 16)), ('sum', 3)]), RealDictRow([('created_date', datetime.date(2017, 11, 22)), ('sum', 554)]), RealDictRow([('created_date', datetime.date(2020, 8, 9)), ('sum', 155290)]), RealDictRow([('created_date', datetime.date(2010, 6, 4)), ('sum', 2)]), RealDictRow([('created_date', datetime.date(2017, 9, 29)), ('sum', 1758)]), RealDictRow([('created_date', datetime.date(2018, 7, 10)), ('sum', 455)]), RealDictRow([('created_date', datetime.date(2015, 12, 29)), ('sum', 72)]), RealDictRow([('created_date', datetime.date(2015, 8, 30)), ('sum', 11)]), RealDictRow([('created_date', datetime.date(2016, 8, 5)), ('sum', 6)]), RealDictRow([('created_date', datetime.date(2019, 1, 5)), ('sum', 432)]), RealDictRow([('created_date', datetime.date(2019, 9, 29)), ('sum', 0)]), RealDictRow([('created_date', datetime.date(2016, 6, 21)), ('sum', 0)]), RealDictRow([('created_date', datetime.date(2018, 6, 10)), ('sum', 12057)]), RealDictRow([('created_date', datetime.date(2020, 2, 18)), ('sum', 53951)]), RealDictRow([('created_date', datetime.date(2019, 10, 11)), ('sum', 11199)]), RealDictRow([('created_date', datetime.date(2020, 12, 7)), ('sum', 798611)]), RealDictRow([('created_date', datetime.date(2018, 6, 19)), ('sum', 11507)]), RealDictRow([('created_date', datetime.date(2018, 1, 2)), ('sum', 713)]), RealDictRow([('created_date', datetime.date(2016, 11, 13)), ('sum', 24)]), RealDictRow([('created_date', datetime.date(2016, 10, 23)), ('sum', 15)]), RealDictRow([('created_date', datetime.date(2020, 2, 2)), ('sum', 20479)]), RealDictRow([('created_date', datetime.date(2016, 9, 17)), ('sum', 0)]), RealDictRow([('created_date', datetime.date(2019, 6, 6)), ('sum', 9950)]), RealDictRow([('created_date', datetime.date(2020, 7, 5)), ('sum', 1127203)]), RealDictRow([('created_date', datetime.date(2017, 2, 14)), ('sum', 393)]), RealDictRow([('created_date', datetime.date(2019, 7, 30)), ('sum', 31259)]), RealDictRow([('created_date', datetime.date(2018, 9, 19)), ('sum', 3130)]), RealDictRow([('created_date', datetime.date(2019, 5, 4)), ('sum', 2651)]), RealDictRow([('created_date', datetime.date(2018, 10, 19)), ('sum', 6353)]), RealDictRow([('created_date', datetime.date(2020, 4, 25)), ('sum', 214025)]), RealDictRow([('created_date', datetime.date(2015, 12, 3)), ('sum', 125)]), RealDictRow([('created_date', datetime.date(2020, 12, 8)), ('sum', 844365)]), RealDictRow([('created_date', datetime.date(2020, 4, 11)), ('sum', 20247)]), RealDictRow([('created_date', datetime.date(2020, 12, 20)), ('sum', 2376944)]), RealDictRow([('created_date', datetime.date(2020, 6, 22)), ('sum', 200328)]), RealDictRow([('created_date', datetime.date(2020, 5, 1)), ('sum', 885438)]), RealDictRow([('created_date', datetime.date(2018, 1, 18)), ('sum', 1365)]), RealDictRow([('created_date', datetime.date(2011, 6, 9)), ('sum', 0)]), RealDictRow([('created_date', datetime.date(2020, 7, 9)), ('sum', 182145)]), RealDictRow([('created_date', datetime.date(2020, 3, 27)), ('sum', 75517)]), RealDictRow([('created_date', datetime.date(2019, 2, 14)), ('sum', 13382)]), RealDictRow([('created_date', datetime.date(2018, 3, 3)), ('sum', 149)]), RealDictRow([('created_date', datetime.date(2015, 1, 1)), ('sum', 65)]), RealDictRow([('created_date', datetime.date(2020, 1, 23)), ('sum', 3718)]), RealDictRow([('created_date', datetime.date(2016, 6, 27)), ('sum', 0)]), RealDictRow([('created_date', datetime.date(2020, 10, 16)), ('sum', 692177)]), RealDictRow([('created_date', datetime.date(2016, 5, 9)), ('sum', 0)]), RealDictRow([('created_date', datetime.date(2017, 12, 23)), ('sum', 680)]), RealDictRow([('created_date', datetime.date(2016, 8, 2)), ('sum', 175)]), RealDictRow([('created_date', datetime.date(2016, 12, 14)), ('sum', 5)]), RealDictRow([('created_date', datetime.date(2020, 5, 13)), ('sum', 818677)]), RealDictRow([('created_date', datetime.date(2019, 5, 8)), ('sum', 28011)]), RealDictRow([('created_date', datetime.date(2019, 12, 20)), ('sum', 4445)]), RealDictRow([('created_date', datetime.date(2018, 4, 5)), ('sum', 1563)]), RealDictRow([('created_date', datetime.date(2018, 4, 1)), ('sum', 249)]), RealDictRow([('created_date', datetime.date(2017, 6, 12)), ('sum', 55)]), RealDictRow([('created_date', datetime.date(2019, 9, 21)), ('sum', 17023)]), RealDictRow([('created_date', datetime.date(2017, 1, 20)), ('sum', 327)]), RealDictRow([('created_date', datetime.date(2017, 9, 4)), ('sum', 468)]), RealDictRow([('created_date', datetime.date(2016, 9, 18)), ('sum', 275)]), RealDictRow([('created_date', datetime.date(2011, 5, 22)), ('sum', 2)]), RealDictRow([('created_date', datetime.date(2016, 2, 4)), ('sum', 2)]), RealDictRow([('created_date', datetime.date(2020, 9, 4)), ('sum', 449085)]), RealDictRow([('created_date', datetime.date(2016, 3, 8)), ('sum', 311)]), RealDictRow([('created_date', datetime.date(2020, 1, 27)), ('sum', 4327)]), RealDictRow([('created_date', datetime.date(2018, 10, 6)), ('sum', 2728)]), RealDictRow([('created_date', datetime.date(2018, 6, 27)), ('sum', 1470)]), RealDictRow([('created_date', datetime.date(2018, 9, 17)), ('sum', 14831)]), RealDictRow([('created_date', datetime.date(2017, 5, 8)), ('sum', 544)]), RealDictRow([('created_date', datetime.date(2015, 11, 11)), ('sum', 519)]), RealDictRow([('created_date', datetime.date(2017, 7, 31)), ('sum', 523)]), RealDictRow([('created_date', datetime.date(2018, 8, 16)), ('sum', 44473)]), RealDictRow([('created_date', datetime.date(2018, 3, 16)), ('sum', 0)]), RealDictRow([('created_date', datetime.date(2020, 10, 31)), ('sum', 539631)]), RealDictRow([('created_date', datetime.date(2018, 10, 25)), ('sum', 83)]), RealDictRow([('created_date', datetime.date(2016, 4, 6)), ('sum', 67)]), RealDictRow([('created_date', datetime.date(2020, 12, 15)), ('sum', 388607)]), RealDictRow([('created_date', datetime.date(2019, 4, 17)), ('sum', 2397)]), RealDictRow([('created_date', datetime.date(2016, 4, 20)), ('sum', 85)]), RealDictRow([('created_date', datetime.date(2017, 11, 8)), ('sum', 0)]), RealDictRow([('created_date', datetime.date(2015, 9, 6)), ('sum', 9)]), RealDictRow([('created_date', datetime.date(2016, 12, 1)), ('sum', 1919)]), RealDictRow([('created_date', datetime.date(2017, 9, 25)), ('sum', 264)]), RealDictRow([('created_date', datetime.date(2017, 7, 6)), ('sum', 296)]), RealDictRow([('created_date', datetime.date(2020, 8, 29)), ('sum', 287144)]), RealDictRow([('created_date', datetime.date(2017, 4, 2)), ('sum', 28)]), RealDictRow([('created_date', datetime.date(2019, 10, 20)), ('sum', 70)]), RealDictRow([('created_date', datetime.date(2018, 10, 15)), ('sum', 108)]), RealDictRow([('created_date', datetime.date(2010, 4, 14)), ('sum', 0)]), RealDictRow([('created_date', datetime.date(2015, 7, 20)), ('sum', 0)]), RealDictRow([('created_date', datetime.date(2015, 3, 6)), ('sum', 13)]), RealDictRow([('created_date', datetime.date(2015, 12, 6)), ('sum', 10)]), RealDictRow([('created_date', datetime.date(2019, 12, 29)), ('sum', 41)]), RealDictRow([('created_date', datetime.date(2019, 10, 28)), ('sum', 6100)]), RealDictRow([('created_date', datetime.date(2011, 4, 13)), ('sum', 0)]), RealDictRow([('created_date', datetime.date(2018, 3, 8)), ('sum', 32)]), RealDictRow([('created_date', datetime.date(2017, 2, 11)), ('sum', 204)]), RealDictRow([('created_date', datetime.date(2020, 7, 10)), ('sum', 150114)]), RealDictRow([('created_date', datetime.date(2020, 9, 29)), ('sum', 686612)]), RealDictRow([('created_date', datetime.date(2016, 3, 7)), ('sum', 8)]), RealDictRow([('created_date', datetime.date(2015, 10, 21)), ('sum', 224)]), RealDictRow([('created_date', datetime.date(2020, 3, 9)), ('sum', 18610)]), RealDictRow([('created_date', datetime.date(2017, 12, 11)), ('sum', 521)]), RealDictRow([('created_date', datetime.date(2020, 2, 24)), ('sum', 18435)]), RealDictRow([('created_date', datetime.date(2020, 8, 31)), ('sum', 482604)]), RealDictRow([('created_date', datetime.date(2015, 12, 17)), ('sum', 133)]), RealDictRow([('created_date', datetime.date(2017, 1, 9)), ('sum', 1)]), RealDictRow([('created_date', datetime.date(2020, 4, 29)), ('sum', 474609)]), RealDictRow([('created_date', datetime.date(2020, 9, 16)), ('sum', 423970)]), RealDictRow([('created_date', datetime.date(2017, 6, 17)), ('sum', 52)]), RealDictRow([('created_date', datetime.date(2016, 8, 10)), ('sum', 87)]), RealDictRow([('created_date', datetime.date(2011, 9, 9)), ('sum', 1)]), RealDictRow([('created_date', datetime.date(2020, 2, 12)), ('sum', 29344)]), RealDictRow([('created_date', datetime.date(2020, 5, 6)), ('sum', 708783)]), RealDictRow([('created_date', datetime.date(2016, 8, 12)), ('sum', 0)]), RealDictRow([('created_date', datetime.date(2016, 3, 29)), ('sum', 0)]), RealDictRow([('created_date', datetime.date(2015, 12, 11)), ('sum', 47)]), RealDictRow([('created_date', datetime.date(2019, 9, 12)), ('sum', 23659)]), RealDictRow([('created_date', datetime.date(2020, 4, 7)), ('sum', 123824)]), RealDictRow([('created_date', datetime.date(2018, 8, 26)), ('sum', 456)]), RealDictRow([('created_date', datetime.date(2016, 5, 5)), ('sum', 63)]), RealDictRow([('created_date', datetime.date(2019, 3, 5)), ('sum', 577)]), RealDictRow([('created_date', datetime.date(2018, 7, 15)), ('sum', 810)]), RealDictRow([('created_date', datetime.date(2021, 1, 4)), ('sum', 680264)]), RealDictRow([('created_date', datetime.date(2021, 1, 12)), ('sum', 17025)]), RealDictRow([('created_date', datetime.date(2016, 11, 6)), ('sum', 47)]), RealDictRow([('created_date', datetime.date(2015, 8, 26)), ('sum', 44)]), RealDictRow([('created_date', datetime.date(2018, 3, 11)), ('sum', 3974)]), RealDictRow([('created_date', datetime.date(2016, 4, 5)), ('sum', 104)]), RealDictRow([('created_date', datetime.date(2019, 8, 24)), ('sum', 51476)]), RealDictRow([('created_date', datetime.date(2020, 1, 3)), ('sum', 12504)]), RealDictRow([('created_date', datetime.date(2012, 6, 10)), ('sum', 0)]), RealDictRow([('created_date', datetime.date(2015, 4, 15)), ('sum', 3)]), RealDictRow([('created_date', datetime.date(2017, 3, 31)), ('sum', 378)]), RealDictRow([('created_date', datetime.date(2020, 2, 29)), ('sum', 5851)]), RealDictRow([('created_date', datetime.date(2019, 9, 18)), ('sum', 44502)]), RealDictRow([('created_date', datetime.date(2020, 11, 8)), ('sum', 719267)]), RealDictRow([('created_date', datetime.date(2015, 11, 29)), ('sum', 0)]), RealDictRow([('created_date', datetime.date(2019, 10, 18)), ('sum', 655)]), RealDictRow([('created_date', datetime.date(2017, 11, 13)), ('sum', 3)]), RealDictRow([('created_date', datetime.date(2017, 1, 29)), ('sum', 2638)]), RealDictRow([('created_date', datetime.date(2015, 12, 15)), ('sum', 196)]), RealDictRow([('created_date', datetime.date(2015, 9, 2)), ('sum', 43)]), RealDictRow([('created_date', datetime.date(2020, 3, 22)), ('sum', 696)]), RealDictRow([('created_date', datetime.date(2020, 1, 15)), ('sum', 7662)]), RealDictRow([('created_date', datetime.date(2018, 3, 31)), ('sum', 17)]), RealDictRow([('created_date', datetime.date(2016, 11, 26)), ('sum', 236)]), RealDictRow([('created_date', datetime.date(2019, 12, 6)), ('sum', 20411)]), RealDictRow([('created_date', datetime.date(2019, 1, 31)), ('sum', 248)]), RealDictRow([('created_date', datetime.date(2017, 6, 14)), ('sum', 0)]), RealDictRow([('created_date', datetime.date(2014, 4, 25)), ('sum', 2)]), RealDictRow([('created_date', datetime.date(2015, 6, 24)), ('sum', 4)]), RealDictRow([('created_date', datetime.date(2019, 8, 11)), ('sum', 1604)]), RealDictRow([('created_date', datetime.date(2017, 7, 27)), ('sum', 507)]), RealDictRow([('created_date', datetime.date(2018, 2, 25)), ('sum', 141)]), RealDictRow([('created_date', datetime.date(2020, 6, 28)), ('sum', 780810)]), RealDictRow([('created_date', datetime.date(2018, 5, 4)), ('sum', 1017)]), RealDictRow([('created_date', datetime.date(2016, 6, 22)), ('sum', 13)]), RealDictRow([('created_date', datetime.date(2016, 2, 22)), ('sum', 5)]), RealDictRow([('created_date', datetime.date(2017, 7, 24)), ('sum', 726)]), RealDictRow([('created_date', datetime.date(2017, 8, 4)), ('sum', 0)]), RealDictRow([('created_date', datetime.date(2016, 1, 6)), ('sum', 230)]), RealDictRow([('created_date', datetime.date(2019, 12, 25)), ('sum', 27124)]), RealDictRow([('created_date', datetime.date(2016, 10, 6)), ('sum', 9)]), RealDictRow([('created_date', datetime.date(2017, 11, 9)), ('sum', 471)]), RealDictRow([('created_date', datetime.date(2018, 7, 3)), ('sum', 637)]), RealDictRow([('created_date', datetime.date(2017, 3, 24)), ('sum', 1)]), RealDictRow([('created_date', datetime.date(2020, 7, 3)), ('sum', 36202)]), RealDictRow([('created_date', datetime.date(2018, 11, 11)), ('sum', 2354)]), RealDictRow([('created_date', datetime.date(2018, 8, 21)), ('sum', 1082)]), RealDictRow([('created_date', datetime.date(2019, 7, 3)), ('sum', 28143)]), RealDictRow([('created_date', datetime.date(2011, 11, 2)), ('sum', 1)]), RealDictRow([('created_date', datetime.date(2020, 4, 13)), ('sum', 452457)]), RealDictRow([('created_date', datetime.date(2017, 12, 5)), ('sum', 1706)]), RealDictRow([('created_date', datetime.date(2016, 6, 23)), ('sum', 6)]), RealDictRow([('created_date', datetime.date(2015, 10, 30)), ('sum', 256)]), RealDictRow([('created_date', datetime.date(2007, 4, 21)), ('sum', 0)]), RealDictRow([('created_date', datetime.date(2018, 2, 13)), ('sum', 227)]), RealDictRow([('created_date', datetime.date(2016, 11, 25)), ('sum', 130)]), RealDictRow([('created_date', datetime.date(2015, 11, 10)), ('sum', 307)]), RealDictRow([('created_date', datetime.date(2015, 2, 18)), ('sum', 10)]), RealDictRow([('created_date', datetime.date(2017, 6, 21)), ('sum', 893)]), RealDictRow([('created_date', datetime.date(2012, 7, 2)), ('sum', 2)]), RealDictRow([('created_date', datetime.date(2019, 1, 8)), ('sum', 23382)]), RealDictRow([('created_date', datetime.date(2018, 1, 19)), ('sum', 1340)]), RealDictRow([('created_date', datetime.date(2017, 12, 18)), ('sum', 747)]), RealDictRow([('created_date', datetime.date(2017, 3, 18)), ('sum', 382)]), RealDictRow([('created_date', datetime.date(2016, 3, 15)), ('sum', 75)]), RealDictRow([('created_date', datetime.date(2018, 2, 14)), ('sum', 1429)]), RealDictRow([('created_date', datetime.date(2015, 11, 1)), ('sum', 178)]), RealDictRow([('created_date', datetime.date(2015, 9, 10)), ('sum', 0)]), RealDictRow([('created_date', datetime.date(2018, 10, 18)), ('sum', 270)]), RealDictRow([('created_date', datetime.date(2016, 8, 3)), ('sum', 9)]), RealDictRow([('created_date', datetime.date(2015, 3, 29)), ('sum', 5)]), RealDictRow([('created_date', datetime.date(2015, 11, 24)), ('sum', 177)]), RealDictRow([('created_date', datetime.date(2017, 8, 8)), ('sum', 1938)]), RealDictRow([('created_date', datetime.date(2019, 9, 5)), ('sum', 16328)]), RealDictRow([('created_date', datetime.date(2016, 7, 26)), ('sum', 10)]), RealDictRow([('created_date', datetime.date(2020, 10, 19)), ('sum', 369762)]), RealDictRow([('created_date', datetime.date(2020, 5, 16)), ('sum', 8456)]), RealDictRow([('created_date', datetime.date(2007, 6, 26)), ('sum', 1)]), RealDictRow([('created_date', datetime.date(2018, 3, 10)), ('sum', 55)]), RealDictRow([('created_date', datetime.date(2019, 6, 20)), ('sum', 32117)]), RealDictRow([('created_date', datetime.date(2015, 1, 4)), ('sum', 113)]), RealDictRow([('created_date', datetime.date(2017, 5, 3)), ('sum', 1)]), RealDictRow([('created_date', datetime.date(2020, 3, 12)), ('sum', 469)]), RealDictRow([('created_date', datetime.date(2019, 5, 24)), ('sum', 49948)]), RealDictRow([('created_date', datetime.date(2019, 11, 12)), ('sum', 9406)]), RealDictRow([('created_date', datetime.date(2016, 5, 20)), ('sum', 49)]), RealDictRow([('created_date', datetime.date(2015, 10, 7)), ('sum', 8)]), RealDictRow([('created_date', datetime.date(2019, 7, 9)), ('sum', 38862)]), RealDictRow([('created_date', datetime.date(2018, 9, 13)), ('sum', 19)]), RealDictRow([('created_date', datetime.date(2019, 3, 17)), ('sum', 960)]), RealDictRow([('created_date', datetime.date(2017, 3, 5)), ('sum', 17)]), RealDictRow([('created_date', datetime.date(2017, 9, 3)), ('sum', 138)]), RealDictRow([('created_date', datetime.date(2019, 11, 7)), ('sum', 25361)]), RealDictRow([('created_date', datetime.date(2020, 1, 6)), ('sum', 8104)]), RealDictRow([('created_date', datetime.date(2016, 6, 9)), ('sum', 0)]), RealDictRow([('created_date', datetime.date(2017, 8, 31)), ('sum', 21)]), RealDictRow([('created_date', datetime.date(2019, 5, 14)), ('sum', 2552)]), RealDictRow([('created_date', datetime.date(2017, 11, 26)), ('sum', 10)]), RealDictRow([('created_date', datetime.date(2017, 8, 28)), ('sum', 2852)]), RealDictRow([('created_date', datetime.date(2018, 3, 21)), ('sum', 2621)]), RealDictRow([('created_date', datetime.date(2015, 7, 18)), ('sum', 10)]), RealDictRow([('created_date', datetime.date(2020, 7, 29)), ('sum', 97414)]), RealDictRow([('created_date', datetime.date(2015, 12, 30)), ('sum', 151)]), RealDictRow([('created_date', datetime.date(2017, 11, 10)), ('sum', 194)]), RealDictRow([('created_date', datetime.date(2018, 12, 18)), ('sum', 5296)]), RealDictRow([('created_date', datetime.date(2015, 1, 17)), ('sum', 0)]), RealDictRow([('created_date', datetime.date(2018, 8, 31)), ('sum', 73)]), RealDictRow([('created_date', datetime.date(2017, 3, 13)), ('sum', 0)]), RealDictRow([('created_date', datetime.date(2010, 5, 13)), ('sum', 3)]), RealDictRow([('created_date', datetime.date(2020, 10, 13)), ('sum', 1079197)]), RealDictRow([('created_date', datetime.date(2018, 11, 22)), ('sum', 120263)]), RealDictRow([('created_date', datetime.date(2019, 12, 24)), ('sum', 25709)]), RealDictRow([('created_date', datetime.date(2015, 7, 3)), ('sum', 0)]), RealDictRow([('created_date', datetime.date(2018, 7, 9)), ('sum', 3245)]), RealDictRow([('created_date', datetime.date(2020, 1, 8)), ('sum', 81269)]), RealDictRow([('created_date', datetime.date(2020, 9, 21)), ('sum', 197452)]), RealDictRow([('created_date', datetime.date(2019, 8, 7)), ('sum', 7027)]), RealDictRow([('created_date', datetime.date(2015, 12, 1)), ('sum', 201)]), RealDictRow([('created_date', datetime.date(2019, 3, 2)), ('sum', 5819)]), RealDictRow([('created_date', datetime.date(2020, 11, 18)), ('sum', 759008)]), RealDictRow([('created_date', datetime.date(2016, 1, 22)), ('sum', 38)]), RealDictRow([('created_date', datetime.date(2020, 9, 27)), ('sum', 452941)]), RealDictRow([('created_date', datetime.date(2020, 6, 9)), ('sum', 18869)]), RealDictRow([('created_date', datetime.date(2016, 3, 18)), ('sum', 0)]), RealDictRow([('created_date', datetime.date(2016, 1, 4)), ('sum', 167)]), RealDictRow([('created_date', datetime.date(2018, 6, 28)), ('sum', 824)]), RealDictRow([('created_date', datetime.date(2015, 12, 8)), ('sum', 274)]), RealDictRow([('created_date', datetime.date(2019, 3, 4)), ('sum', 2378)]), RealDictRow([('created_date', datetime.date(2019, 3, 30)), ('sum', 19)]), RealDictRow([('created_date', datetime.date(2020, 8, 2)), ('sum', 1331971)]), RealDictRow([('created_date', datetime.date(2020, 11, 7)), ('sum', 1075284)]), RealDictRow([('created_date', datetime.date(2020, 10, 26)), ('sum', 659155)]), RealDictRow([('created_date', datetime.date(2016, 10, 2)), ('sum', 0)]), RealDictRow([('created_date', datetime.date(2018, 10, 22)), ('sum', 14716)]), RealDictRow([('created_date', datetime.date(2016, 12, 22)), ('sum', 509)]), RealDictRow([('created_date', datetime.date(2011, 7, 17)), ('sum', 1)]), RealDictRow([('created_date', datetime.date(2019, 12, 3)), ('sum', 19887)]), RealDictRow([('created_date', datetime.date(2017, 6, 10)), ('sum', 20)]), RealDictRow([('created_date', datetime.date(2017, 5, 15)), ('sum', 15)]), RealDictRow([('created_date', datetime.date(2019, 11, 9)), ('sum', 123)]), RealDictRow([('created_date', datetime.date(2020, 10, 14)), ('sum', 1638930)]), RealDictRow([('created_date', datetime.date(2017, 6, 2)), ('sum', 97)]), RealDictRow([('created_date', datetime.date(2016, 1, 14)), ('sum', 3)]), RealDictRow([('created_date', datetime.date(2017, 3, 26)), ('sum', 0)]), RealDictRow([('created_date', datetime.date(2021, 1, 2)), ('sum', 794515)]), RealDictRow([('created_date', datetime.date(2020, 5, 2)), ('sum', 218965)]), RealDictRow([('created_date', datetime.date(2016, 7, 27)), ('sum', 1)]), RealDictRow([('created_date', datetime.date(2020, 1, 21)), ('sum', 4119)]), RealDictRow([('created_date', datetime.date(2016, 1, 28)), ('sum', 62)]), RealDictRow([('created_date', datetime.date(2018, 1, 9)), ('sum', 2227)]), RealDictRow([('created_date', datetime.date(2016, 3, 19)), ('sum', 13)]), RealDictRow([('created_date', datetime.date(2018, 8, 3)), ('sum', 25108)]), RealDictRow([('created_date', datetime.date(2018, 4, 13)), ('sum', 1206)]), RealDictRow([('created_date', datetime.date(2020, 2, 10)), ('sum', 20043)]), RealDictRow([('created_date', datetime.date(2017, 3, 9)), ('sum', 173)]), RealDictRow([('created_date', datetime.date(2016, 10, 13)), ('sum', 44)]), RealDictRow([('created_date', datetime.date(2020, 5, 27)), ('sum', 1216304)]), RealDictRow([('created_date', datetime.date(2019, 10, 27)), ('sum', 2698)]), RealDictRow([('created_date', datetime.date(2021, 1, 11)), ('sum', 464722)]), RealDictRow([('created_date', datetime.date(2009, 7, 24)), ('sum', 1)]), RealDictRow([('created_date', datetime.date(2020, 6, 18)), ('sum', 415427)]), RealDictRow([('created_date', datetime.date(2020, 3, 21)), ('sum', 142678)]), RealDictRow([('created_date', datetime.date(2016, 12, 23)), ('sum', 8)]), RealDictRow([('created_date', datetime.date(2019, 6, 30)), ('sum', 2169)]), RealDictRow([('created_date', datetime.date(2011, 12, 10)), ('sum', 1)]), RealDictRow([('created_date', datetime.date(2020, 4, 8)), ('sum', 99362)]), RealDictRow([('created_date', datetime.date(2016, 8, 22)), ('sum', 24)]), RealDictRow([('created_date', datetime.date(2017, 11, 19)), ('sum', 11)]), RealDictRow([('created_date', datetime.date(2017, 1, 26)), ('sum', 276)]), RealDictRow([('created_date', datetime.date(2015, 10, 9)), ('sum', 10)]), RealDictRow([('created_date', datetime.date(2015, 6, 5)), ('sum', 11)]), RealDictRow([('created_date', datetime.date(2016, 1, 11)), ('sum', 6)]), RealDictRow([('created_date', datetime.date(2018, 11, 23)), ('sum', 765)]), RealDictRow([('created_date', datetime.date(2019, 8, 26)), ('sum', 45805)]), RealDictRow([('created_date', datetime.date(2020, 10, 6)), ('sum', 696538)]), RealDictRow([('created_date', datetime.date(2018, 8, 14)), ('sum', 21540)]), RealDictRow([('created_date', datetime.date(2020, 1, 20)), ('sum', 24293)]), RealDictRow([('created_date', datetime.date(2019, 6, 29)), ('sum', 10458)]), RealDictRow([('created_date', datetime.date(2019, 12, 31)), ('sum', 3520)]), RealDictRow([('created_date', datetime.date(2020, 7, 21)), ('sum', 295858)]), RealDictRow([('created_date', datetime.date(2020, 3, 30)), ('sum', 279875)]), RealDictRow([('created_date', datetime.date(2018, 11, 14)), ('sum', 4)]), RealDictRow([('created_date', datetime.date(2020, 9, 3)), ('sum', 384852)]), RealDictRow([('created_date', datetime.date(2007, 5, 30)), ('sum', 0)]), RealDictRow([('created_date', datetime.date(2013, 3, 30)), ('sum', 10)]), RealDictRow([('created_date', datetime.date(2018, 10, 8)), ('sum', 421)]), RealDictRow([('created_date', datetime.date(2020, 8, 21)), ('sum', 225997)]), RealDictRow([('created_date', datetime.date(2019, 8, 25)), ('sum', 56247)]), RealDictRow([('created_date', datetime.date(2019, 10, 21)), ('sum', 10218)]), RealDictRow([('created_date', datetime.date(2013, 6, 1)), ('sum', 0)]), RealDictRow([('created_date', datetime.date(2018, 11, 21)), ('sum', 201)]), RealDictRow([('created_date', datetime.date(2020, 3, 13)), ('sum', 24218)]), RealDictRow([('created_date', datetime.date(2015, 10, 24)), ('sum', 75)]), RealDictRow([('created_date', datetime.date(2017, 7, 29)), ('sum', 75)]), RealDictRow([('created_date', datetime.date(2019, 2, 2)), ('sum', 1644)]), RealDictRow([('created_date', datetime.date(2015, 7, 29)), ('sum', 67)]), RealDictRow([('created_date', datetime.date(2019, 2, 1)), ('sum', 32876)]), RealDictRow([('created_date', datetime.date(2019, 5, 20)), ('sum', 3840)]), RealDictRow([('created_date', datetime.date(2020, 10, 23)), ('sum', 513044)]), RealDictRow([('created_date', datetime.date(2017, 5, 7)), ('sum', 486)]), RealDictRow([('created_date', datetime.date(2017, 2, 12)), ('sum', 23)]), RealDictRow([('created_date', datetime.date(2018, 10, 17)), ('sum', 11689)]), RealDictRow([('created_date', datetime.date(2018, 11, 13)), ('sum', 1032)]), RealDictRow([('created_date', datetime.date(2018, 12, 8)), ('sum', 832)]), RealDictRow([('created_date', datetime.date(2018, 3, 4)), ('sum', 9)]), RealDictRow([('created_date', datetime.date(2018, 8, 15)), ('sum', 4949)]), RealDictRow([('created_date', datetime.date(2018, 1, 11)), ('sum', 7901)]), RealDictRow([('created_date', datetime.date(2019, 7, 16)), ('sum', 2186)]), RealDictRow([('created_date', datetime.date(2018, 7, 23)), ('sum', 6398)]), RealDictRow([('created_date', datetime.date(2020, 8, 17)), ('sum', 465637)]), RealDictRow([('created_date', datetime.date(2014, 12, 9)), ('sum', 3)]), RealDictRow([('created_date', datetime.date(2019, 12, 5)), ('sum', 4116)]), RealDictRow([('created_date', datetime.date(2016, 12, 9)), ('sum', 464)]), RealDictRow([('created_date', datetime.date(2018, 12, 10)), ('sum', 18257)]), RealDictRow([('created_date', datetime.date(2020, 9, 23)), ('sum', 1154394)]), RealDictRow([('created_date', datetime.date(2019, 7, 23)), ('sum', 5338)]), RealDictRow([('created_date', datetime.date(2017, 9, 16)), ('sum', 8)]), RealDictRow([('created_date', datetime.date(2015, 8, 14)), ('sum', 9)]), RealDictRow([('created_date', datetime.date(2017, 7, 21)), ('sum', 475)]), RealDictRow([('created_date', datetime.date(2011, 6, 28)), ('sum', 0)]), RealDictRow([('created_date', datetime.date(2018, 2, 27)), ('sum', 552)]), RealDictRow([('created_date', datetime.date(2016, 8, 20)), ('sum', 48)]), RealDictRow([('created_date', datetime.date(2019, 9, 3)), ('sum', 14166)]), RealDictRow([('created_date', datetime.date(2020, 1, 18)), ('sum', 38195)]), RealDictRow([('created_date', datetime.date(2016, 7, 22)), ('sum', 193)]), RealDictRow([('created_date', datetime.date(2010, 7, 12)), ('sum', 1)]), RealDictRow([('created_date', datetime.date(2019, 10, 3)), ('sum', 66219)]), RealDictRow([('created_date', datetime.date(2018, 6, 23)), ('sum', 390)]), RealDictRow([('created_date', datetime.date(2016, 4, 19)), ('sum', 177)]), RealDictRow([('created_date', datetime.date(2020, 5, 23)), ('sum', 507331)]), RealDictRow([('created_date', datetime.date(2017, 10, 14)), ('sum', 192)]), RealDictRow([('created_date', datetime.date(2017, 11, 17)), ('sum', 0)]), RealDictRow([('created_date', datetime.date(2017, 9, 24)), ('sum', 353)]), RealDictRow([('created_date', datetime.date(2018, 3, 20)), ('sum', 986)]), RealDictRow([('created_date', datetime.date(2017, 1, 7)), ('sum', 27)]), RealDictRow([('created_date', datetime.date(2011, 10, 13)), ('sum', 0)]), RealDictRow([('created_date', datetime.date(2020, 12, 11)), ('sum', 406618)]), RealDictRow([('created_date', datetime.date(2019, 5, 2)), ('sum', 112)]), RealDictRow([('created_date', datetime.date(2016, 9, 15)), ('sum', 5)]), RealDictRow([('created_date', datetime.date(2020, 2, 19)), ('sum', 53515)]), RealDictRow([('created_date', datetime.date(2013, 9, 26)), ('sum', 4)]), RealDictRow([('created_date', datetime.date(2019, 10, 5)), ('sum', 3)]), RealDictRow([('created_date', datetime.date(2020, 5, 5)), ('sum', 34175)]), RealDictRow([('created_date', datetime.date(2017, 9, 19)), ('sum', 17)]), RealDictRow([('created_date', datetime.date(2017, 8, 13)), ('sum', 1306)]), RealDictRow([('created_date', datetime.date(2018, 9, 14)), ('sum', 1127)]), RealDictRow([('created_date', datetime.date(2016, 11, 28)), ('sum', 5)]), RealDictRow([('created_date', datetime.date(2020, 7, 22)), ('sum', 1216024)]), RealDictRow([('created_date', datetime.date(2010, 6, 16)), ('sum', 0)]), RealDictRow([('created_date', datetime.date(2015, 12, 4)), ('sum', 32)]), RealDictRow([('created_date', datetime.date(2019, 6, 10)), ('sum', 1845)]), RealDictRow([('created_date', datetime.date(2016, 6, 24)), ('sum', 184)]), RealDictRow([('created_date', datetime.date(2015, 11, 13)), ('sum', 95)]), RealDictRow([('created_date', datetime.date(2011, 4, 18)), ('sum', 1)]), RealDictRow([('created_date', datetime.date(2017, 1, 30)), ('sum', 6277)]), RealDictRow([('created_date', datetime.date(2017, 11, 28)), ('sum', 6)]), RealDictRow([('created_date', datetime.date(2019, 10, 2)), ('sum', 24775)]), RealDictRow([('created_date', datetime.date(2020, 9, 1)), ('sum', 42654)]), RealDictRow([('created_date', datetime.date(2016, 12, 11)), ('sum', 143)]), RealDictRow([('created_date', datetime.date(2016, 8, 25)), ('sum', 0)]), RealDictRow([('created_date', datetime.date(2017, 6, 18)), ('sum', 0)]), RealDictRow([('created_date', datetime.date(2020, 9, 26)), ('sum', 1608468)]), RealDictRow([('created_date', datetime.date(2018, 6, 4)), ('sum', 751)]), RealDictRow([('created_date', datetime.date(2019, 7, 24)), ('sum', 1629)]), RealDictRow([('created_date', datetime.date(2020, 12, 27)), ('sum', 520180)]), RealDictRow([('created_date', datetime.date(2019, 5, 22)), ('sum', 10877)]), RealDictRow([('created_date', datetime.date(2018, 12, 11)), ('sum', 873)]), RealDictRow([('created_date', datetime.date(2020, 12, 19)), ('sum', 605463)]), RealDictRow([('created_date', datetime.date(2015, 2, 15)), ('sum', 4)]), RealDictRow([('created_date', datetime.date(2018, 8, 9)), ('sum', 201)]), RealDictRow([('created_date', datetime.date(2015, 9, 19)), ('sum', 14)]), RealDictRow([('created_date', datetime.date(2017, 3, 14)), ('sum', 5)]), RealDictRow([('created_date', datetime.date(2020, 10, 20)), ('sum', 209425)]), RealDictRow([('created_date', datetime.date(2016, 3, 13)), ('sum', 64)]), RealDictRow([('created_date', datetime.date(2020, 6, 8)), ('sum', 154034)]), RealDictRow([('created_date', datetime.date(2018, 3, 7)), ('sum', 1171)]), RealDictRow([('created_date', datetime.date(2017, 2, 13)), ('sum', 50)]), RealDictRow([('created_date', datetime.date(2019, 10, 22)), ('sum', 21339)]), RealDictRow([('created_date', datetime.date(2015, 9, 13)), ('sum', 0)]), RealDictRow([('created_date', datetime.date(2017, 12, 17)), ('sum', 1664)]), RealDictRow([('created_date', datetime.date(2020, 6, 19)), ('sum', 1640030)]), RealDictRow([('created_date', datetime.date(2018, 12, 5)), ('sum', 2777)]), RealDictRow([('created_date', datetime.date(2020, 1, 25)), ('sum', 20632)]), RealDictRow([('created_date', datetime.date(2020, 11, 15)), ('sum', 860197)]), RealDictRow([('created_date', datetime.date(2017, 5, 4)), ('sum', 334)]), RealDictRow([('created_date', datetime.date(2017, 10, 1)), ('sum', 9)]), RealDictRow([('created_date', datetime.date(2017, 1, 17)), ('sum', 2543)]), RealDictRow([('created_date', datetime.date(2020, 11, 13)), ('sum', 1671394)]), RealDictRow([('created_date', datetime.date(2018, 10, 4)), ('sum', 2260)]), RealDictRow([('created_date', datetime.date(2018, 5, 25)), ('sum', 2003)]), RealDictRow([('created_date', datetime.date(2016, 8, 8)), ('sum', 6)]), RealDictRow([('created_date', datetime.date(2019, 10, 13)), ('sum', 6838)]), RealDictRow([('created_date', datetime.date(2016, 7, 7)), ('sum', 135)]), RealDictRow([('created_date', datetime.date(2018, 10, 7)), ('sum', 6041)]), RealDictRow([('created_date', datetime.date(2019, 11, 10)), ('sum', 736)]), RealDictRow([('created_date', datetime.date(2020, 2, 4)), ('sum', 27749)]), RealDictRow([('created_date', datetime.date(2015, 6, 19)), ('sum', 59)]), RealDictRow([('created_date', datetime.date(2017, 11, 12)), ('sum', 13)]), RealDictRow([('created_date', datetime.date(2017, 2, 22)), ('sum', 17)]), RealDictRow([('created_date', datetime.date(2019, 2, 21)), ('sum', 3797)]), RealDictRow([('created_date', datetime.date(2019, 11, 28)), ('sum', 21246)]), RealDictRow([('created_date', datetime.date(2018, 4, 8)), ('sum', 2221)]), RealDictRow([('created_date', datetime.date(2020, 1, 17)), ('sum', 810276)]), RealDictRow([('created_date', datetime.date(2016, 7, 4)), ('sum', 574)]), RealDictRow([('created_date', datetime.date(2019, 2, 15)), ('sum', 979)]), RealDictRow([('created_date', datetime.date(2017, 9, 5)), ('sum', 1114)]), RealDictRow([('created_date', datetime.date(2015, 6, 22)), ('sum', 92)]), RealDictRow([('created_date', datetime.date(2019, 6, 22)), ('sum', 242)]), RealDictRow([('created_date', datetime.date(2018, 9, 10)), ('sum', 872)]), RealDictRow([('created_date', datetime.date(2017, 4, 28)), ('sum', 36)]), RealDictRow([('created_date', datetime.date(2019, 2, 11)), ('sum', 2250)]), RealDictRow([('created_date', datetime.date(2011, 12, 1)), ('sum', 1)]), RealDictRow([('created_date', datetime.date(2017, 3, 10)), ('sum', 411)]), RealDictRow([('created_date', datetime.date(2017, 2, 23)), ('sum', 9)]), RealDictRow([('created_date', datetime.date(2020, 5, 12)), ('sum', 410800)]), RealDictRow([('created_date', datetime.date(2017, 7, 17)), ('sum', 13577)]), RealDictRow([('created_date', datetime.date(2017, 6, 8)), ('sum', 1045)]), RealDictRow([('created_date', datetime.date(2018, 12, 3)), ('sum', 8350)]), RealDictRow([('created_date', datetime.date(2018, 2, 19)), ('sum', 12033)]), RealDictRow([('created_date', datetime.date(2020, 1, 10)), ('sum', 11775)]), RealDictRow([('created_date', datetime.date(2016, 6, 26)), ('sum', 139)]), RealDictRow([('created_date', datetime.date(2018, 9, 23)), ('sum', 5048)]), RealDictRow([('created_date', datetime.date(2016, 11, 5)), ('sum', 33)]), RealDictRow([('created_date', datetime.date(2018, 1, 28)), ('sum', 83)]), RealDictRow([('created_date', datetime.date(2016, 12, 21)), ('sum', 139)]), RealDictRow([('created_date', datetime.date(2020, 3, 23)), ('sum', 54060)]), RealDictRow([('created_date', datetime.date(2019, 6, 1)), ('sum', 17753)]), RealDictRow([('created_date', datetime.date(2019, 3, 19)), ('sum', 471)]), RealDictRow([('created_date', datetime.date(2018, 7, 5)), ('sum', 14211)]), RealDictRow([('created_date', datetime.date(2016, 11, 17)), ('sum', 443)]), RealDictRow([('created_date', datetime.date(2017, 5, 6)), ('sum', 0)]), RealDictRow([('created_date', datetime.date(2018, 11, 12)), ('sum', 13821)]), RealDictRow([('created_date', datetime.date(2018, 11, 26)), ('sum', 6216)]), RealDictRow([('created_date', datetime.date(2018, 2, 10)), ('sum', 424)]), RealDictRow([('created_date', datetime.date(2019, 4, 2)), ('sum', 1783)]), RealDictRow([('created_date', datetime.date(2020, 8, 14)), ('sum', 383350)]), RealDictRow([('created_date', datetime.date(2018, 4, 24)), ('sum', 1208)]), RealDictRow([('created_date', datetime.date(2015, 10, 6)), ('sum', 348)]), RealDictRow([('created_date', datetime.date(2017, 1, 14)), ('sum', 195)]), RealDictRow([('created_date', datetime.date(2019, 8, 1)), ('sum', 19219)]), RealDictRow([('created_date', datetime.date(2017, 6, 23)), ('sum', 1)]), RealDictRow([('created_date', datetime.date(2017, 5, 30)), ('sum', 0)]), RealDictRow([('created_date', datetime.date(2015, 7, 2)), ('sum', 32)]), RealDictRow([('created_date', datetime.date(2019, 10, 8)), ('sum', 99)]), RealDictRow([('created_date', datetime.date(2018, 5, 8)), ('sum', 35)]), RealDictRow([('created_date', datetime.date(2019, 6, 19)), ('sum', 9242)]), RealDictRow([('created_date', datetime.date(2016, 3, 25)), ('sum', 7)]), RealDictRow([('created_date', datetime.date(2016, 2, 26)), ('sum', 44)]), RealDictRow([('created_date', datetime.date(2016, 10, 16)), ('sum', 356)]), RealDictRow([('created_date', datetime.date(2018, 1, 4)), ('sum', 19)]), RealDictRow([('created_date', datetime.date(2015, 7, 31)), ('sum', 0)]), RealDictRow([('created_date', datetime.date(2017, 12, 2)), ('sum', 15487)]), RealDictRow([('created_date', datetime.date(2017, 8, 14)), ('sum', 208)]), RealDictRow([('created_date', datetime.date(2017, 10, 8)), ('sum', 8751)]), RealDictRow([('created_date', datetime.date(2019, 10, 30)), ('sum', 3870)]), RealDictRow([('created_date', datetime.date(2020, 6, 29)), ('sum', 54981)]), RealDictRow([('created_date', datetime.date(2020, 6, 1)), ('sum', 71238)]), RealDictRow([('created_date', datetime.date(2020, 8, 10)), ('sum', 75932)]), RealDictRow([('created_date', datetime.date(2020, 11, 14)), ('sum', 508863)]), RealDictRow([('created_date', datetime.date(2016, 11, 9)), ('sum', 151)]), RealDictRow([('created_date', datetime.date(2012, 9, 20)), ('sum', 0)]), RealDictRow([('created_date', datetime.date(2016, 3, 23)), ('sum', 4)]), RealDictRow([('created_date', datetime.date(2017, 1, 16)), ('sum', 142)]), RealDictRow([('created_date', datetime.date(2018, 10, 1)), ('sum', 10557)]), RealDictRow([('created_date', datetime.date(2020, 1, 11)), ('sum', 10677)]), RealDictRow([('created_date', datetime.date(2018, 5, 31)), ('sum', 311)]), RealDictRow([('created_date', datetime.date(2016, 6, 17)), ('sum', 306)]), RealDictRow([('created_date', datetime.date(2019, 11, 5)), ('sum', 2557)]), RealDictRow([('created_date', datetime.date(2018, 8, 20)), ('sum', 1625)]), RealDictRow([('created_date', datetime.date(2017, 9, 17)), ('sum', 13)]), RealDictRow([('created_date', datetime.date(2018, 9, 16)), ('sum', 0)]), RealDictRow([('created_date', datetime.date(2020, 5, 4)), ('sum', 344753)]), RealDictRow([('created_date', datetime.date(2019, 1, 9)), ('sum', 398)]), RealDictRow([('created_date', datetime.date(2016, 1, 7)), ('sum', 168)]), RealDictRow([('created_date', datetime.date(2020, 8, 20)), ('sum', 889900)]), RealDictRow([('created_date', datetime.date(2019, 3, 7)), ('sum', 1163)]), RealDictRow([('created_date', datetime.date(2017, 11, 6)), ('sum', 5484)]), RealDictRow([('created_date', datetime.date(2017, 6, 11)), ('sum', 519)]), RealDictRow([('created_date', datetime.date(2015, 10, 16)), ('sum', 392)]), RealDictRow([('created_date', datetime.date(2018, 8, 6)), ('sum', 882)]), RealDictRow([('created_date', datetime.date(2017, 8, 1)), ('sum', 372)]), RealDictRow([('created_date', datetime.date(2017, 11, 5)), ('sum', 107)]), RealDictRow([('created_date', datetime.date(2020, 2, 6)), ('sum', 7868)]), RealDictRow([('created_date', datetime.date(2020, 9, 7)), ('sum', 189965)]), RealDictRow([('created_date', datetime.date(2010, 4, 26)), ('sum', 1)]), RealDictRow([('created_date', datetime.date(2018, 4, 26)), ('sum', 32)]), RealDictRow([('created_date', datetime.date(2018, 6, 21)), ('sum', 726)]), RealDictRow([('created_date', datetime.date(2019, 6, 26)), ('sum', 18499)]), RealDictRow([('created_date', datetime.date(2016, 6, 2)), ('sum', 252)]), RealDictRow([('created_date', datetime.date(2018, 5, 18)), ('sum', 5358)]), RealDictRow([('created_date', datetime.date(2020, 2, 20)), ('sum', 7943)]), RealDictRow([('created_date', datetime.date(2016, 4, 29)), ('sum', 15)]), RealDictRow([('created_date', datetime.date(2019, 4, 20)), ('sum', 11883)]), RealDictRow([('created_date', datetime.date(2020, 12, 10)), ('sum', 878344)]), RealDictRow([('created_date', datetime.date(2020, 6, 3)), ('sum', 31070)]), RealDictRow([('created_date', datetime.date(2016, 5, 15)), ('sum', 23)]), RealDictRow([('created_date', datetime.date(2015, 12, 20)), ('sum', 1)]), RealDictRow([('created_date', datetime.date(2019, 2, 27)), ('sum', 32631)]), RealDictRow([('created_date', datetime.date(2018, 5, 1)), ('sum', 17702)]), RealDictRow([('created_date', datetime.date(2018, 2, 5)), ('sum', 0)]), RealDictRow([('created_date', datetime.date(2016, 8, 24)), ('sum', 1)]), RealDictRow([('created_date', datetime.date(2018, 1, 3)), ('sum', 362)]), RealDictRow([('created_date', datetime.date(2017, 4, 20)), ('sum', 432)]), RealDictRow([('created_date', datetime.date(2015, 10, 11)), ('sum', 5)]), RealDictRow([('created_date', datetime.date(2017, 9, 7)), ('sum', 466)]), RealDictRow([('created_date', datetime.date(2015, 11, 22)), ('sum', 4)]), RealDictRow([('created_date', datetime.date(2016, 8, 9)), ('sum', 81)]), RealDictRow([('created_date', datetime.date(2017, 5, 14)), ('sum', 8)]), RealDictRow([('created_date', datetime.date(2019, 8, 4)), ('sum', 7688)]), RealDictRow([('created_date', datetime.date(2016, 11, 12)), ('sum', 3)]), RealDictRow([('created_date', datetime.date(2020, 1, 2)), ('sum', 14326)]), RealDictRow([('created_date', datetime.date(2018, 4, 22)), ('sum', 2492)]), RealDictRow([('created_date', datetime.date(2016, 8, 18)), ('sum', 5)]), RealDictRow([('created_date', datetime.date(2016, 3, 2)), ('sum', 36)]), RealDictRow([('created_date', datetime.date(2016, 10, 28)), ('sum', 81)]), RealDictRow([('created_date', datetime.date(2020, 8, 13)), ('sum', 29871)]), RealDictRow([('created_date', datetime.date(2015, 10, 27)), ('sum', 192)]), RealDictRow([('created_date', datetime.date(2017, 8, 15)), ('sum', 11)]), RealDictRow([('created_date', datetime.date(2020, 7, 11)), ('sum', 367720)]), RealDictRow([('created_date', datetime.date(2016, 7, 12)), ('sum', 14)]), RealDictRow([('created_date', datetime.date(2018, 9, 5)), ('sum', 96)]), RealDictRow([('created_date', datetime.date(2015, 9, 14)), ('sum', 0)]), RealDictRow([('created_date', datetime.date(2017, 1, 6)), ('sum', 56)]), RealDictRow([('created_date', datetime.date(2016, 7, 21)), ('sum', 0)]), RealDictRow([('created_date', datetime.date(2015, 7, 11)), ('sum', 7)]), RealDictRow([('created_date', datetime.date(2016, 2, 9)), ('sum', 0)]), RealDictRow([('created_date', datetime.date(2016, 7, 29)), ('sum', 10)]), RealDictRow([('created_date', datetime.date(2015, 10, 26)), ('sum', 125)]), RealDictRow([('created_date', datetime.date(2019, 9, 13)), ('sum', 12326)]), RealDictRow([('created_date', datetime.date(2017, 11, 11)), ('sum', 6)]), RealDictRow([('created_date', datetime.date(2018, 10, 23)), ('sum', 21)]), RealDictRow([('created_date', datetime.date(2019, 7, 14)), ('sum', 61657)]), RealDictRow([('created_date', datetime.date(2017, 9, 18)), ('sum', 296)]), RealDictRow([('created_date', datetime.date(2017, 8, 23)), ('sum', 48771)]), RealDictRow([('created_date', datetime.date(2017, 7, 2)), ('sum', 343)]), RealDictRow([('created_date', datetime.date(2020, 11, 24)), ('sum', 476931)]), RealDictRow([('created_date', datetime.date(2016, 10, 27)), ('sum', 12)]), RealDictRow([('created_date', datetime.date(2017, 9, 14)), ('sum', 3196)]), RealDictRow([('created_date', datetime.date(2019, 11, 17)), ('sum', 1988)]), RealDictRow([('created_date', datetime.date(2020, 4, 19)), ('sum', 314963)]), RealDictRow([('created_date', datetime.date(2019, 6, 27)), ('sum', 2163)]), RealDictRow([('created_date', datetime.date(2016, 2, 25)), ('sum', 60)]), RealDictRow([('created_date', datetime.date(2018, 5, 5)), ('sum', 360)]), RealDictRow([('created_date', datetime.date(2018, 10, 28)), ('sum', 5937)]), RealDictRow([('created_date', datetime.date(2018, 8, 24)), ('sum', 5046)]), RealDictRow([('created_date', datetime.date(2017, 12, 27)), ('sum', 114)]), RealDictRow([('created_date', datetime.date(2017, 12, 7)), ('sum', 8)]), RealDictRow([('created_date', datetime.date(2019, 7, 4)), ('sum', 35359)]), RealDictRow([('created_date', datetime.date(2016, 10, 20)), ('sum', 374)]), RealDictRow([('created_date', datetime.date(2020, 2, 7)), ('sum', 91374)]), RealDictRow([('created_date', datetime.date(2019, 2, 3)), ('sum', 79)]), RealDictRow([('created_date', datetime.date(2016, 12, 20)), ('sum', 404)]), RealDictRow([('created_date', datetime.date(2015, 2, 10)), ('sum', 3)]), RealDictRow([('created_date', datetime.date(2020, 11, 27)), ('sum', 360423)]), RealDictRow([('created_date', datetime.date(2020, 7, 18)), ('sum', 555186)]), RealDictRow([('created_date', datetime.date(2007, 8, 7)), ('sum', 0)]), RealDictRow([('created_date', datetime.date(2019, 2, 17)), ('sum', 1316)]), RealDictRow([('created_date', datetime.date(2018, 8, 17)), ('sum', 22494)]), RealDictRow([('created_date', datetime.date(2018, 5, 24)), ('sum', 1316)]), RealDictRow([('created_date', datetime.date(2019, 12, 23)), ('sum', 4771)]), RealDictRow([('created_date', datetime.date(2019, 4, 16)), ('sum', 3382)]), RealDictRow([('created_date', datetime.date(2020, 10, 25)), ('sum', 294573)]), RealDictRow([('created_date', datetime.date(2016, 9, 28)), ('sum', 0)]), RealDictRow([('created_date', datetime.date(2020, 5, 18)), ('sum', 171243)]), RealDictRow([('created_date', datetime.date(2018, 4, 25)), ('sum', 943)]), RealDictRow([('created_date', datetime.date(2016, 4, 21)), ('sum', 77)]), RealDictRow([('created_date', datetime.date(2018, 12, 16)), ('sum', 3181)]), RealDictRow([('created_date', datetime.date(2012, 12, 9)), ('sum', 0)]), RealDictRow([('created_date', datetime.date(2019, 1, 14)), ('sum', 611)]), RealDictRow([('created_date', datetime.date(2017, 3, 15)), ('sum', 408)]), RealDictRow([('created_date', datetime.date(2020, 8, 16)), ('sum', 749972)]), RealDictRow([('created_date', datetime.date(2020, 6, 6)), ('sum', 671085)]), RealDictRow([('created_date', datetime.date(2015, 12, 18)), ('sum', 201)]), RealDictRow([('created_date', datetime.date(2015, 2, 3)), ('sum', 2)]), RealDictRow([('created_date', datetime.date(2017, 9, 12)), ('sum', 203)]), RealDictRow([('created_date', datetime.date(2020, 7, 14)), ('sum', 27567)]), RealDictRow([('created_date', datetime.date(2018, 1, 5)), ('sum', 183)]), RealDictRow([('created_date', datetime.date(2018, 4, 9)), ('sum', 619)]), RealDictRow([('created_date', datetime.date(2015, 6, 10)), ('sum', 116)]), RealDictRow([('created_date', datetime.date(2017, 1, 18)), ('sum', 1254)]), RealDictRow([('created_date', datetime.date(2016, 12, 27)), ('sum', 0)]), RealDictRow([('created_date', datetime.date(2019, 7, 29)), ('sum', 7837)]), RealDictRow([('created_date', datetime.date(2018, 6, 5)), ('sum', 2137)]), RealDictRow([('created_date', datetime.date(2019, 9, 6)), ('sum', 19410)]), RealDictRow([('created_date', datetime.date(2018, 2, 16)), ('sum', 6660)]), RealDictRow([('created_date', datetime.date(2018, 4, 14)), ('sum', 158)]), RealDictRow([('created_date', datetime.date(2019, 5, 29)), ('sum', 11303)]), RealDictRow([('created_date', datetime.date(2016, 3, 30)), ('sum', 37)]), RealDictRow([('created_date', datetime.date(2017, 1, 2)), ('sum', 483)]), RealDictRow([('created_date', datetime.date(2020, 12, 12)), ('sum', 312205)]), RealDictRow([('created_date', datetime.date(2017, 7, 23)), ('sum', 583)]), RealDictRow([('created_date', datetime.date(2016, 3, 27)), ('sum', 27)]), RealDictRow([('created_date', datetime.date(2019, 1, 21)), ('sum', 0)]), RealDictRow([('created_date', datetime.date(2016, 11, 15)), ('sum', 0)]), RealDictRow([('created_date', datetime.date(2016, 11, 24)), ('sum', 91)]), RealDictRow([('created_date', datetime.date(2018, 3, 17)), ('sum', 30)]), RealDictRow([('created_date', datetime.date(2018, 5, 16)), ('sum', 2234)]), RealDictRow([('created_date', datetime.date(2018, 2, 24)), ('sum', 427)]), RealDictRow([('created_date', datetime.date(2018, 4, 16)), ('sum', 5689)]), RealDictRow([('created_date', datetime.date(2020, 12, 26)), ('sum', 471961)]), RealDictRow([('created_date', datetime.date(2018, 1, 24)), ('sum', 7608)]), RealDictRow([('created_date', datetime.date(2016, 1, 17)), ('sum', 0)]), RealDictRow([('created_date', datetime.date(2016, 11, 27)), ('sum', 30)]), RealDictRow([('created_date', datetime.date(2016, 8, 15)), ('sum', 3)]), RealDictRow([('created_date', datetime.date(2017, 10, 25)), ('sum', 12)]), RealDictRow([('created_date', datetime.date(2019, 4, 6)), ('sum', 82)]), RealDictRow([('created_date', datetime.date(2020, 10, 30)), ('sum', 844421)]), RealDictRow([('created_date', datetime.date(2019, 3, 15)), ('sum', 29882)]), RealDictRow([('created_date', datetime.date(2020, 8, 27)), ('sum', 329063)]), RealDictRow([('created_date', datetime.date(2017, 3, 6)), ('sum', 5)]), RealDictRow([('created_date', datetime.date(2016, 5, 29)), ('sum', 69)]), RealDictRow([('created_date', datetime.date(2020, 6, 2)), ('sum', 543291)]), RealDictRow([('created_date', datetime.date(2015, 9, 20)), ('sum', 9)]), RealDictRow([('created_date', datetime.date(2020, 1, 30)), ('sum', 18926)]), RealDictRow([('created_date', datetime.date(2016, 7, 18)), ('sum', 426)]), RealDictRow([('created_date', datetime.date(2017, 8, 16)), ('sum', 834)]), RealDictRow([('created_date', datetime.date(2014, 5, 28)), ('sum', 5)]), RealDictRow([('created_date', datetime.date(2020, 12, 5)), ('sum', 444484)]), RealDictRow([('created_date', datetime.date(2017, 3, 8)), ('sum', 336)]), RealDictRow([('created_date', datetime.date(2018, 9, 20)), ('sum', 1066)]), RealDictRow([('created_date', datetime.date(2019, 4, 11)), ('sum', 2866)]), RealDictRow([('created_date', datetime.date(2018, 9, 2)), ('sum', 8707)]), RealDictRow([('created_date', datetime.date(2018, 11, 25)), ('sum', 60)]), RealDictRow([('created_date', datetime.date(2020, 2, 23)), ('sum', 18286)]), RealDictRow([('created_date', datetime.date(2019, 6, 4)), ('sum', 17)]), RealDictRow([('created_date', datetime.date(2009, 4, 5)), ('sum', 2)]), RealDictRow([('created_date', datetime.date(2017, 6, 29)), ('sum', 3383)]), RealDictRow([('created_date', datetime.date(2020, 5, 10)), ('sum', 80363)]), RealDictRow([('created_date', datetime.date(2011, 6, 7)), ('sum', 0)]), RealDictRow([('created_date', datetime.date(2018, 4, 12)), ('sum', 673)]), RealDictRow([('created_date', datetime.date(2017, 5, 31)), ('sum', 353)]), RealDictRow([('created_date', datetime.date(2019, 7, 1)), ('sum', 15310)]), RealDictRow([('created_date', datetime.date(2017, 9, 27)), ('sum', 20)]), RealDictRow([('created_date', datetime.date(2020, 11, 9)), ('sum', 792559)]), RealDictRow([('created_date', datetime.date(2018, 8, 23)), ('sum', 1500)]), RealDictRow([('created_date', datetime.date(2019, 4, 10)), ('sum', 27300)]), RealDictRow([('created_date', datetime.date(2011, 6, 14)), ('sum', 0)]), RealDictRow([('created_date', datetime.date(2018, 9, 29)), ('sum', 144)]), RealDictRow([('created_date', datetime.date(2015, 10, 14)), ('sum', 0)]), RealDictRow([('created_date', datetime.date(2019, 10, 1)), ('sum', 1600)]), RealDictRow([('created_date', datetime.date(2017, 3, 27)), ('sum', 193)]), RealDictRow([('created_date', datetime.date(2018, 11, 4)), ('sum', 11546)]), RealDictRow([('created_date', datetime.date(2016, 9, 10)), ('sum', 58)]), RealDictRow([('created_date', datetime.date(2016, 10, 3)), ('sum', 1)]), RealDictRow([('created_date', datetime.date(2018, 9, 22)), ('sum', 955)]), RealDictRow([('created_date', datetime.date(2015, 12, 24)), ('sum', 138)]), RealDictRow([('created_date', datetime.date(2017, 7, 4)), ('sum', 246)]), RealDictRow([('created_date', datetime.date(2016, 5, 14)), ('sum', 0)]), RealDictRow([('created_date', datetime.date(2016, 10, 22)), ('sum', 106)]), RealDictRow([('created_date', datetime.date(2017, 2, 5)), ('sum', 900)]), RealDictRow([('created_date', datetime.date(2020, 8, 18)), ('sum', 470246)]), RealDictRow([('created_date', datetime.date(2018, 5, 11)), ('sum', 21)]), RealDictRow([('created_date', datetime.date(2017, 9, 8)), ('sum', 0)]), RealDictRow([('created_date', datetime.date(2007, 4, 9)), ('sum', 0)]), RealDictRow([('created_date', datetime.date(2019, 5, 13)), ('sum', 1549)]), RealDictRow([('created_date', datetime.date(2019, 1, 12)), ('sum', 327)]), RealDictRow([('created_date', datetime.date(2017, 6, 16)), ('sum', 20)]), RealDictRow([('created_date', datetime.date(2019, 4, 5)), ('sum', 12234)]), RealDictRow([('created_date', datetime.date(2019, 4, 7)), ('sum', 2692)]), RealDictRow([('created_date', datetime.date(2011, 3, 15)), ('sum', 0)]), RealDictRow([('created_date', datetime.date(2019, 12, 16)), ('sum', 3143)]), RealDictRow([('created_date', datetime.date(2019, 5, 27)), ('sum', 170)]), RealDictRow([('created_date', datetime.date(2017, 4, 22)), ('sum', 1672)]), RealDictRow([('created_date', datetime.date(2017, 4, 9)), ('sum', 0)]), RealDictRow([('created_date', datetime.date(2010, 10, 20)), ('sum', 1)]), RealDictRow([('created_date', datetime.date(2016, 4, 9)), ('sum', 54)]), RealDictRow([('created_date', datetime.date(2019, 7, 20)), ('sum', 9363)]), RealDictRow([('created_date', datetime.date(2018, 1, 26)), ('sum', 1114)]), RealDictRow([('created_date', datetime.date(2016, 7, 23)), ('sum', 2)]), RealDictRow([('created_date', datetime.date(2020, 6, 16)), ('sum', 122909)]), RealDictRow([('created_date', datetime.date(2017, 10, 9)), ('sum', 6)]), RealDictRow([('created_date', datetime.date(2020, 7, 17)), ('sum', 37755)]), RealDictRow([('created_date', datetime.date(2020, 2, 14)), ('sum', 16605)]), RealDictRow([('created_date', datetime.date(2020, 2, 13)), ('sum', 21554)]), RealDictRow([('created_date', datetime.date(2017, 11, 24)), ('sum', 13)]), RealDictRow([('created_date', datetime.date(2020, 5, 11)), ('sum', 620762)]), RealDictRow([('created_date', datetime.date(2015, 12, 22)), ('sum', 128)]), RealDictRow([('created_date', datetime.date(2017, 4, 1)), ('sum', 56)]), RealDictRow([('created_date', datetime.date(2017, 8, 7)), ('sum', 4944)]), RealDictRow([('created_date', datetime.date(2018, 1, 6)), ('sum', 3114)]), RealDictRow([('created_date', datetime.date(2017, 10, 20)), ('sum', 80)]), RealDictRow([('created_date', datetime.date(2018, 9, 12)), ('sum', 4307)]), RealDictRow([('created_date', datetime.date(2017, 8, 12)), ('sum', 829)]), RealDictRow([('created_date', datetime.date(2016, 7, 17)), ('sum', 12)]), RealDictRow([('created_date', datetime.date(2015, 9, 27)), ('sum', 0)]), RealDictRow([('created_date', datetime.date(2017, 12, 12)), ('sum', 143)]), RealDictRow([('created_date', datetime.date(2020, 7, 27)), ('sum', 1124559)]), RealDictRow([('created_date', datetime.date(2021, 1, 3)), ('sum', 579500)]), RealDictRow([('created_date', datetime.date(2017, 5, 11)), ('sum', 14)]), RealDictRow([('created_date', datetime.date(2017, 7, 10)), ('sum', 29)]), RealDictRow([('created_date', datetime.date(2019, 6, 23)), ('sum', 5865)]), RealDictRow([('created_date', datetime.date(2017, 4, 13)), ('sum', 175)]), RealDictRow([('created_date', datetime.date(2015, 7, 14)), ('sum', 0)]), RealDictRow([('created_date', datetime.date(2017, 2, 1)), ('sum', 1072)]), RealDictRow([('created_date', datetime.date(2019, 12, 11)), ('sum', 16039)]), RealDictRow([('created_date', datetime.date(2020, 4, 24)), ('sum', 104267)]), RealDictRow([('created_date', datetime.date(2007, 8, 6)), ('sum', 0)]), RealDictRow([('created_date', datetime.date(2007, 4, 26)), ('sum', 0)]), RealDictRow([('created_date', datetime.date(2019, 10, 10)), ('sum', 5956)]), RealDictRow([('created_date', datetime.date(2017, 10, 19)), ('sum', 1059)]), RealDictRow([('created_date', datetime.date(2018, 10, 21)), ('sum', 363)]), RealDictRow([('created_date', datetime.date(2011, 5, 30)), ('sum', 1)]), RealDictRow([('created_date', datetime.date(2016, 9, 6)), ('sum', 22)]), RealDictRow([('created_date', datetime.date(2015, 9, 23)), ('sum', 75)]), RealDictRow([('created_date', datetime.date(2016, 4, 13)), ('sum', 9)]), RealDictRow([('created_date', datetime.date(2018, 12, 26)), ('sum', 235)]), RealDictRow([('created_date', datetime.date(2017, 11, 23)), ('sum', 8094)]), RealDictRow([('created_date', datetime.date(2020, 10, 2)), ('sum', 71067)]), RealDictRow([('created_date', datetime.date(2020, 5, 7)), ('sum', 59982)]), RealDictRow([('created_date', datetime.date(2017, 10, 27)), ('sum', 4141)]), RealDictRow([('created_date', datetime.date(2018, 10, 26)), ('sum', 1608)]), RealDictRow([('created_date', datetime.date(2015, 10, 23)), ('sum', 307)]), RealDictRow([('created_date', datetime.date(2016, 7, 2)), ('sum', 56)]), RealDictRow([('created_date', datetime.date(2016, 6, 6)), ('sum', 6)]), RealDictRow([('created_date', datetime.date(2019, 11, 3)), ('sum', 3455)]), RealDictRow([('created_date', datetime.date(2019, 11, 27)), ('sum', 1389)]), RealDictRow([('created_date', datetime.date(2020, 10, 1)), ('sum', 438557)]), RealDictRow([('created_date', datetime.date(2017, 5, 19)), ('sum', 123)]), RealDictRow([('created_date', datetime.date(2016, 5, 24)), ('sum', 80)]), RealDictRow([('created_date', datetime.date(2020, 10, 10)), ('sum', 225365)]), RealDictRow([('created_date', datetime.date(2017, 7, 9)), ('sum', 11)]), RealDictRow([('created_date', datetime.date(2019, 6, 24)), ('sum', 2635)]), RealDictRow([('created_date', datetime.date(2017, 5, 21)), ('sum', 5)]), RealDictRow([('created_date', datetime.date(2017, 12, 8)), ('sum', 294)]), RealDictRow([('created_date', datetime.date(2020, 4, 30)), ('sum', 371542)]), RealDictRow([('created_date', datetime.date(2018, 9, 24)), ('sum', 54585)]), RealDictRow([('created_date', datetime.date(2018, 1, 14)), ('sum', 2789)]), RealDictRow([('created_date', datetime.date(2017, 8, 17)), ('sum', 0)]), RealDictRow([('created_date', datetime.date(2020, 5, 31)), ('sum', 564665)]), RealDictRow([('created_date', datetime.date(2018, 8, 13)), ('sum', 1762)]), RealDictRow([('created_date', datetime.date(2019, 7, 5)), ('sum', 62172)]), RealDictRow([('created_date', datetime.date(2015, 7, 10)), ('sum', 84)]), RealDictRow([('created_date', datetime.date(2016, 10, 14)), ('sum', 1)]), RealDictRow([('created_date', datetime.date(2017, 5, 1)), ('sum', 0)]), RealDictRow([('created_date', datetime.date(2019, 10, 9)), ('sum', 55424)]), RealDictRow([('created_date', datetime.date(2013, 4, 26)), ('sum', 2)]), RealDictRow([('created_date', datetime.date(2020, 3, 20)), ('sum', 3721)]), RealDictRow([('created_date', datetime.date(2016, 6, 8)), ('sum', 321)]), RealDictRow([('created_date', datetime.date(2018, 10, 11)), ('sum', 9579)]), RealDictRow([('created_date', datetime.date(2015, 6, 12)), ('sum', 6)]), RealDictRow([('created_date', datetime.date(2018, 9, 6)), ('sum', 1239)]), RealDictRow([('created_date', datetime.date(2009, 4, 17)), ('sum', 1)]), RealDictRow([('created_date', datetime.date(2018, 5, 9)), ('sum', 21)]), RealDictRow([('created_date', datetime.date(2017, 11, 7)), ('sum', 177)]), RealDictRow([('created_date', datetime.date(2017, 4, 23)), ('sum', 157)]), RealDictRow([('created_date', datetime.date(2018, 9, 9)), ('sum', 20336)]), RealDictRow([('created_date', datetime.date(2016, 9, 5)), ('sum', 6)]), RealDictRow([('created_date', datetime.date(2016, 2, 5)), ('sum', 61)]), RealDictRow([('created_date', datetime.date(2016, 6, 16)), ('sum', 0)]), RealDictRow([('created_date', datetime.date(2020, 12, 22)), ('sum', 578563)]), RealDictRow([('created_date', datetime.date(2018, 9, 21)), ('sum', 1327)]), RealDictRow([('created_date', datetime.date(2019, 9, 11)), ('sum', 16266)]), RealDictRow([('created_date', datetime.date(2018, 4, 2)), ('sum', 16666)]), RealDictRow([('created_date', datetime.date(2015, 10, 15)), ('sum', 0)]), RealDictRow([('created_date', datetime.date(2016, 12, 4)), ('sum', 3555)]), RealDictRow([('created_date', datetime.date(2016, 1, 27)), ('sum', 22)]), RealDictRow([('created_date', datetime.date(2020, 3, 14)), ('sum', 3330)]), RealDictRow([('created_date', datetime.date(2020, 7, 23)), ('sum', 137168)]), RealDictRow([('created_date', datetime.date(2018, 8, 22)), ('sum', 1143)]), RealDictRow([('created_date', datetime.date(2017, 10, 31)), ('sum', 6298)]), RealDictRow([('created_date', datetime.date(2015, 8, 15)), ('sum', 64)]), RealDictRow([('created_date', datetime.date(2018, 8, 2)), ('sum', 0)]), RealDictRow([('created_date', datetime.date(2017, 8, 6)), ('sum', 619)]), RealDictRow([('created_date', datetime.date(2018, 3, 5)), ('sum', 641)]), RealDictRow([('created_date', datetime.date(2017, 2, 4)), ('sum', 304)]), RealDictRow([('created_date', datetime.date(2019, 7, 19)), ('sum', 3133)]), RealDictRow([('created_date', datetime.date(2020, 11, 23)), ('sum', 414614)]), RealDictRow([('created_date', datetime.date(2017, 1, 23)), ('sum', 0)]), RealDictRow([('created_date', datetime.date(2017, 6, 27)), ('sum', 254)]), RealDictRow([('created_date', datetime.date(2015, 11, 4)), ('sum', 75)]), RealDictRow([('created_date', datetime.date(2020, 7, 30)), ('sum', 976169)]), RealDictRow([('created_date', datetime.date(2019, 5, 21)), ('sum', 4587)]), RealDictRow([('created_date', datetime.date(2011, 4, 23)), ('sum', 1)]), RealDictRow([('created_date', datetime.date(2018, 9, 26)), ('sum', 4856)]), RealDictRow([('created_date', datetime.date(2017, 9, 30)), ('sum', 453)]), RealDictRow([('created_date', datetime.date(2018, 7, 17)), ('sum', 8942)]), RealDictRow([('created_date', datetime.date(2011, 10, 10)), ('sum', 1)]), RealDictRow([('created_date', datetime.date(2018, 10, 20)), ('sum', 215)]), RealDictRow([('created_date', datetime.date(2018, 1, 16)), ('sum', 6752)]), RealDictRow([('created_date', datetime.date(2017, 3, 2)), ('sum', 10)]), RealDictRow([('created_date', datetime.date(2020, 2, 5)), ('sum', 10737)]), RealDictRow([('created_date', datetime.date(2019, 1, 19)), ('sum', 413)]), RealDictRow([('created_date', datetime.date(2017, 6, 1)), ('sum', 1066)]), RealDictRow([('created_date', datetime.date(2018, 2, 3)), ('sum', 173)]), RealDictRow([('created_date', datetime.date(2019, 7, 13)), ('sum', 6394)]), RealDictRow([('created_date', datetime.date(2020, 11, 22)), ('sum', 367265)]), RealDictRow([('created_date', datetime.date(2021, 1, 18)), ('sum', 1162)]), RealDictRow([('created_date', datetime.date(2019, 8, 17)), ('sum', 25250)]), RealDictRow([('created_date', datetime.date(2015, 7, 15)), ('sum', 1)]), RealDictRow([('created_date', datetime.date(2020, 7, 7)), ('sum', 38367)]), RealDictRow([('created_date', datetime.date(2016, 5, 8)), ('sum', 22)]), RealDictRow([('created_date', datetime.date(2018, 7, 14)), ('sum', 294)]), RealDictRow([('created_date', datetime.date(2021, 1, 19)), ('sum', 8)]), RealDictRow([('created_date', datetime.date(2020, 1, 5)), ('sum', 1716)]), RealDictRow([('created_date', datetime.date(2020, 6, 25)), ('sum', 291430)]), RealDictRow([('created_date', datetime.date(2017, 4, 21)), ('sum', 148)]), RealDictRow([('created_date', datetime.date(2020, 3, 16)), ('sum', 96572)]), RealDictRow([('created_date', datetime.date(2015, 3, 26)), ('sum', 3)]), RealDictRow([('created_date', datetime.date(2020, 2, 25)), ('sum', 810715)]), RealDictRow([('created_date', datetime.date(2020, 1, 29)), ('sum', 10343)]), RealDictRow([('created_date', datetime.date(2018, 7, 4)), ('sum', 624)]), RealDictRow([('created_date', datetime.date(2012, 3, 27)), ('sum', 1)]), RealDictRow([('created_date', datetime.date(2016, 8, 26)), ('sum', 10)]), RealDictRow([('created_date', datetime.date(2020, 3, 19)), ('sum', 59548)]), RealDictRow([('created_date', datetime.date(2016, 7, 9)), ('sum', 1)]), RealDictRow([('created_date', datetime.date(2018, 12, 7)), ('sum', 6123)]), RealDictRow([('created_date', datetime.date(2020, 1, 14)), ('sum', 2538)]), RealDictRow([('created_date', datetime.date(2020, 9, 6)), ('sum', 19996)]), RealDictRow([('created_date', datetime.date(2018, 10, 5)), ('sum', 5550)]), RealDictRow([('created_date', datetime.date(2018, 1, 31)), ('sum', 905)]), RealDictRow([('created_date', datetime.date(2020, 3, 1)), ('sum', 32259)]), RealDictRow([('created_date', datetime.date(2019, 8, 20)), ('sum', 10685)]), RealDictRow([('created_date', datetime.date(2011, 4, 20)), ('sum', 1)]), RealDictRow([('created_date', datetime.date(2020, 2, 17)), ('sum', 30010)]), RealDictRow([('created_date', datetime.date(2020, 5, 21)), ('sum', 17581)]), RealDictRow([('created_date', datetime.date(2016, 4, 12)), ('sum', 1)]), RealDictRow([('created_date', datetime.date(2017, 6, 3)), ('sum', 256)]), RealDictRow([('created_date', datetime.date(2017, 11, 1)), ('sum', 12085)]), RealDictRow([('created_date', datetime.date(2020, 4, 12)), ('sum', 458853)]), RealDictRow([('created_date', datetime.date(2016, 5, 6)), ('sum', 405)]), RealDictRow([('created_date', datetime.date(2021, 1, 13)), ('sum', 10503)]), RealDictRow([('created_date', datetime.date(2016, 9, 11)), ('sum', 0)]), RealDictRow([('created_date', datetime.date(2020, 8, 12)), ('sum', 54053)]), RealDictRow([('created_date', datetime.date(2016, 4, 22)), ('sum', 8)]), RealDictRow([('created_date', datetime.date(2017, 3, 21)), ('sum', 169)]), RealDictRow([('created_date', datetime.date(2018, 11, 17)), ('sum', 6188)]), RealDictRow([('created_date', datetime.date(2016, 9, 19)), ('sum', 80)]), RealDictRow([('created_date', datetime.date(2016, 8, 23)), ('sum', 1)]), RealDictRow([('created_date', datetime.date(2020, 5, 15)), ('sum', 195754)]), RealDictRow([('created_date', datetime.date(2017, 9, 13)), ('sum', 3)]), RealDictRow([('created_date', datetime.date(2020, 10, 8)), ('sum', 760449)]), RealDictRow([('created_date', datetime.date(2020, 2, 16)), ('sum', 37401)]), RealDictRow([('created_date', datetime.date(2019, 9, 23)), ('sum', 36847)]), RealDictRow([('created_date', datetime.date(2020, 8, 22)), ('sum', 177755)]), RealDictRow([('created_date', datetime.date(2020, 5, 29)), ('sum', 33007)]), RealDictRow([('created_date', datetime.date(2017, 5, 24)), ('sum', 371)]), RealDictRow([('created_date', datetime.date(2017, 12, 10)), ('sum', 693)]), RealDictRow([('created_date', datetime.date(2009, 4, 4)), ('sum', 2)]), RealDictRow([('created_date', datetime.date(2019, 2, 25)), ('sum', 16262)]), RealDictRow([('created_date', datetime.date(2019, 4, 29)), ('sum', 7097)]), RealDictRow([('created_date', datetime.date(2019, 8, 15)), ('sum', 10816)]), RealDictRow([('created_date', datetime.date(2020, 3, 18)), ('sum', 172674)]), RealDictRow([('created_date', datetime.date(2020, 5, 17)), ('sum', 668611)]), RealDictRow([('created_date', datetime.date(2019, 8, 16)), ('sum', 18061)]), RealDictRow([('created_date', datetime.date(2016, 7, 1)), ('sum', 15)]), RealDictRow([('created_date', datetime.date(2017, 1, 5)), ('sum', 54)]), RealDictRow([('created_date', datetime.date(2020, 8, 30)), ('sum', 176917)]), RealDictRow([('created_date', datetime.date(2012, 9, 29)), ('sum', 2)]), RealDictRow([('created_date', datetime.date(2015, 11, 7)), ('sum', 54)]), RealDictRow([('created_date', datetime.date(2012, 1, 18)), ('sum', 0)]), RealDictRow([('created_date', datetime.date(2016, 5, 7)), ('sum', 52)]), RealDictRow([('created_date', datetime.date(2016, 2, 17)), ('sum', 34)]), RealDictRow([('created_date', datetime.date(2019, 2, 9)), ('sum', 954)]), RealDictRow([('created_date', datetime.date(2018, 7, 26)), ('sum', 1684)]), RealDictRow([('created_date', datetime.date(2016, 2, 12)), ('sum', 12)]), RealDictRow([('created_date', datetime.date(2018, 8, 25)), ('sum', 12713)]), RealDictRow([('created_date', datetime.date(2015, 10, 19)), ('sum', 131)]), RealDictRow([('created_date', datetime.date(2019, 4, 30)), ('sum', 31100)]), RealDictRow([('created_date', datetime.date(2017, 3, 19)), ('sum', 32)]), RealDictRow([('created_date', datetime.date(2011, 7, 18)), ('sum', 3)]), RealDictRow([('created_date', datetime.date(2016, 12, 25)), ('sum', 70)]), RealDictRow([('created_date', datetime.date(2016, 12, 28)), ('sum', 2)]), RealDictRow([('created_date', datetime.date(2016, 11, 18)), ('sum', 325)]), RealDictRow([('created_date', datetime.date(2020, 12, 1)), ('sum', 497165)]), RealDictRow([('created_date', datetime.date(2019, 6, 17)), ('sum', 1896)]), RealDictRow([('created_date', datetime.date(2018, 6, 6)), ('sum', 5169)]), RealDictRow([('created_date', datetime.date(2017, 4, 6)), ('sum', 0)]), RealDictRow([('created_date', datetime.date(2020, 1, 4)), ('sum', 8802)]), RealDictRow([('created_date', datetime.date(2016, 3, 10)), ('sum', 0)]), RealDictRow([('created_date', datetime.date(2020, 10, 27)), ('sum', 339699)]), RealDictRow([('created_date', datetime.date(2018, 4, 18)), ('sum', 1311)]), RealDictRow([('created_date', datetime.date(2018, 8, 19)), ('sum', 2175)]), RealDictRow([('created_date', datetime.date(2016, 5, 17)), ('sum', 0)]), RealDictRow([('created_date', datetime.date(2018, 11, 24)), ('sum', 3262)]), RealDictRow([('created_date', datetime.date(2018, 7, 12)), ('sum', 356)]), RealDictRow([('created_date', datetime.date(2019, 1, 20)), ('sum', 986)]), RealDictRow([('created_date', datetime.date(2011, 9, 4)), ('sum', 0)]), RealDictRow([('created_date', datetime.date(2016, 1, 31)), ('sum', 16)]), RealDictRow([('created_date', datetime.date(2016, 1, 18)), ('sum', 0)]), RealDictRow([('created_date', datetime.date(2017, 10, 11)), ('sum', 4403)]), RealDictRow([('created_date', datetime.date(2018, 12, 1)), ('sum', 35626)]), RealDictRow([('created_date', datetime.date(2011, 9, 30)), ('sum', 1)]), RealDictRow([('created_date', datetime.date(2017, 11, 20)), ('sum', 1096)]), RealDictRow([('created_date', datetime.date(2016, 10, 11)), ('sum', 58)]), RealDictRow([('created_date', datetime.date(2013, 8, 31)), ('sum', 1)]), RealDictRow([('created_date', datetime.date(2019, 4, 12)), ('sum', 1241)]), RealDictRow([('created_date', datetime.date(2015, 7, 16)), ('sum', 18)]), RealDictRow([('created_date', datetime.date(2019, 8, 2)), ('sum', 27417)]), RealDictRow([('created_date', datetime.date(2019, 10, 12)), ('sum', 4860)]), RealDictRow([('created_date', datetime.date(2015, 11, 6)), ('sum', 216)]), RealDictRow([('created_date', datetime.date(2016, 11, 14)), ('sum', 40)]), RealDictRow([('created_date', datetime.date(2020, 7, 12)), ('sum', 191311)]), RealDictRow([('created_date', datetime.date(2018, 6, 30)), ('sum', 587)]), RealDictRow([('created_date', datetime.date(2017, 7, 28)), ('sum', 63)]), RealDictRow([('created_date', datetime.date(2018, 12, 6)), ('sum', 5491)]), RealDictRow([('created_date', datetime.date(2015, 11, 3)), ('sum', 231)]), RealDictRow([('created_date', datetime.date(2019, 11, 19)), ('sum', 225399)]), RealDictRow([('created_date', datetime.date(2019, 10, 25)), ('sum', 32311)]), RealDictRow([('created_date', datetime.date(2020, 12, 14)), ('sum', 1338684)]), RealDictRow([('created_date', datetime.date(2017, 5, 16)), ('sum', 0)]), RealDictRow([('created_date', datetime.date(2016, 4, 4)), ('sum', 103)]), RealDictRow([('created_date', datetime.date(2017, 11, 30)), ('sum', 0)]), RealDictRow([('created_date', datetime.date(2019, 11, 16)), ('sum', 21219)]), RealDictRow([('created_date', datetime.date(2018, 4, 15)), ('sum', 0)]), RealDictRow([('created_date', datetime.date(2020, 11, 12)), ('sum', 485065)]), RealDictRow([('created_date', datetime.date(2017, 12, 6)), ('sum', 868)]), RealDictRow([('created_date', datetime.date(2014, 5, 7)), ('sum', 0)]), RealDictRow([('created_date', datetime.date(2016, 11, 20)), ('sum', 0)]), RealDictRow([('created_date', datetime.date(2020, 11, 25)), ('sum', 828431)]), RealDictRow([('created_date', datetime.date(2017, 5, 18)), ('sum', 170)]), RealDictRow([('created_date', datetime.date(2018, 6, 12)), ('sum', 98)]), RealDictRow([('created_date', datetime.date(2019, 12, 13)), ('sum', 20307)]), RealDictRow([('created_date', datetime.date(2019, 10, 17)), ('sum', 8523)]), RealDictRow([('created_date', datetime.date(2020, 11, 19)), ('sum', 457043)]), RealDictRow([('created_date', datetime.date(2016, 11, 22)), ('sum', 4)]), RealDictRow([('created_date', datetime.date(2019, 6, 8)), ('sum', 114)]), RealDictRow([('created_date', datetime.date(2017, 3, 12)), ('sum', 13)]), RealDictRow([('created_date', datetime.date(2018, 8, 12)), ('sum', 8820)]), RealDictRow([('created_date', datetime.date(2018, 12, 9)), ('sum', 0)]), RealDictRow([('created_date', datetime.date(2015, 9, 26)), ('sum', 3)]), RealDictRow([('created_date', datetime.date(2017, 12, 13)), ('sum', 5)]), RealDictRow([('created_date', datetime.date(2019, 2, 23)), ('sum', 4080)]), RealDictRow([('created_date', datetime.date(2018, 11, 15)), ('sum', 1691)]), RealDictRow([('created_date', datetime.date(2019, 5, 26)), ('sum', 5809)]), RealDictRow([('created_date', datetime.date(2016, 12, 12)), ('sum', 470)]), RealDictRow([('created_date', datetime.date(2020, 4, 6)), ('sum', 199755)]), RealDictRow([('created_date', datetime.date(2017, 11, 2)), ('sum', 279)]), RealDictRow([('created_date', datetime.date(2019, 1, 30)), ('sum', 1208)]), RealDictRow([('created_date', datetime.date(2019, 12, 2)), ('sum', 10312)]), RealDictRow([('created_date', datetime.date(2019, 4, 8)), ('sum', 164)]), RealDictRow([('created_date', datetime.date(2010, 4, 6)), ('sum', 0)]), RealDictRow([('created_date', datetime.date(2018, 5, 10)), ('sum', 146)]), RealDictRow([('created_date', datetime.date(2007, 5, 17)), ('sum', 0)]), RealDictRow([('created_date', datetime.date(2016, 5, 2)), ('sum', 19)]), RealDictRow([('created_date', datetime.date(2016, 7, 28)), ('sum', 35)]), RealDictRow([('created_date', datetime.date(2018, 1, 30)), ('sum', 611)]), RealDictRow([('created_date', datetime.date(2015, 11, 9)), ('sum', 168)]), RealDictRow([('created_date', datetime.date(2017, 8, 27)), ('sum', 2948)]), RealDictRow([('created_date', datetime.date(2011, 4, 24)), ('sum', 0)]), RealDictRow([('created_date', datetime.date(2016, 8, 17)), ('sum', 5)]), RealDictRow([('created_date', datetime.date(2019, 4, 19)), ('sum', 3639)]), RealDictRow([('created_date', datetime.date(2020, 12, 4)), ('sum', 421747)]), RealDictRow([('created_date', datetime.date(2019, 1, 11)), ('sum', 66)]), RealDictRow([('created_date', datetime.date(2020, 3, 11)), ('sum', 654821)]), RealDictRow([('created_date', datetime.date(2016, 3, 1)), ('sum', 59)]), RealDictRow([('created_date', datetime.date(2017, 6, 20)), ('sum', 14)]), RealDictRow([('created_date', datetime.date(2020, 9, 30)), ('sum', 492150)]), RealDictRow([('created_date', datetime.date(2017, 4, 17)), ('sum', 345)]), RealDictRow([('created_date', datetime.date(2016, 6, 30)), ('sum', 16)]), RealDictRow([('created_date', datetime.date(2017, 4, 18)), ('sum', 632)]), RealDictRow([('created_date', datetime.date(2020, 12, 28)), ('sum', 284379)]), RealDictRow([('created_date', datetime.date(2019, 5, 19)), ('sum', 11325)]), RealDictRow([('created_date', datetime.date(2018, 11, 10)), ('sum', 971)]), RealDictRow([('created_date', datetime.date(2017, 6, 7)), ('sum', 515)]), RealDictRow([('created_date', datetime.date(2019, 1, 1)), ('sum', 205)]), RealDictRow([('created_date', datetime.date(2020, 6, 26)), ('sum', 2254682)]), RealDictRow([('created_date', datetime.date(2020, 8, 6)), ('sum', 258831)]), RealDictRow([('created_date', datetime.date(2016, 4, 25)), ('sum', 1392)]), RealDictRow([('created_date', datetime.date(2017, 1, 15)), ('sum', 144)]), RealDictRow([('created_date', datetime.date(2018, 4, 28)), ('sum', 359)]), RealDictRow([('created_date', datetime.date(2019, 9, 16)), ('sum', 9236)]), RealDictRow([('created_date', datetime.date(2014, 5, 9)), ('sum', 2)]), RealDictRow([('created_date', datetime.date(2019, 9, 9)), ('sum', 8554)]), RealDictRow([('created_date', datetime.date(2016, 9, 24)), ('sum', 1)]), RealDictRow([('created_date', datetime.date(2019, 7, 12)), ('sum', 41037)]), RealDictRow([('created_date', datetime.date(2017, 2, 7)), ('sum', 243)]), RealDictRow([('created_date', datetime.date(2018, 4, 17)), ('sum', 894)]), RealDictRow([('created_date', datetime.date(2017, 10, 12)), ('sum', 76)]), RealDictRow([('created_date', datetime.date(2019, 3, 9)), ('sum', 701)]), RealDictRow([('created_date', datetime.date(2015, 9, 24)), ('sum', 123)]), RealDictRow([('created_date', datetime.date(2019, 10, 6)), ('sum', 4399)]), RealDictRow([('created_date', datetime.date(2007, 8, 11)), ('sum', 0)]), RealDictRow([('created_date', datetime.date(2019, 11, 1)), ('sum', 2853)]), RealDictRow([('created_date', datetime.date(2017, 8, 11)), ('sum', 8318)]), RealDictRow([('created_date', datetime.date(2016, 3, 22)), ('sum', 11)]), RealDictRow([('created_date', datetime.date(2019, 1, 18)), ('sum', 198)]), RealDictRow([('created_date', datetime.date(2012, 4, 24)), ('sum', 1)]), RealDictRow([('created_date', datetime.date(2016, 1, 15)), ('sum', 6)]), RealDictRow([('created_date', datetime.date(2016, 1, 12)), ('sum', 0)]), RealDictRow([('created_date', datetime.date(2017, 3, 20)), ('sum', 411)]), RealDictRow([('created_date', datetime.date(2018, 7, 22)), ('sum', 2781)]), RealDictRow([('created_date', datetime.date(2016, 2, 7)), ('sum', 3)]), RealDictRow([('created_date', datetime.date(2020, 9, 14)), ('sum', 260669)]), RealDictRow([('created_date', datetime.date(2020, 1, 13)), ('sum', 2974)]), RealDictRow([('created_date', datetime.date(2017, 5, 23)), ('sum', 364)]), RealDictRow([('created_date', datetime.date(2019, 1, 25)), ('sum', 2001)]), RealDictRow([('created_date', datetime.date(2019, 4, 1)), ('sum', 19553)]), RealDictRow([('created_date', datetime.date(2019, 3, 8)), ('sum', 11701)]), RealDictRow([('created_date', datetime.date(2015, 11, 30)), ('sum', 139)]), RealDictRow([('created_date', datetime.date(2018, 11, 2)), ('sum', 1872)]), RealDictRow([('created_date', datetime.date(2019, 5, 15)), ('sum', 12479)]), RealDictRow([('created_date', datetime.date(2018, 3, 26)), ('sum', 74)]), RealDictRow([('created_date', datetime.date(2017, 3, 28)), ('sum', 10)]), RealDictRow([('created_date', datetime.date(2019, 7, 26)), ('sum', 61090)]), RealDictRow([('created_date', datetime.date(2015, 11, 27)), ('sum', 138)]), RealDictRow([('created_date', datetime.date(2020, 8, 19)), ('sum', 193745)]), RealDictRow([('created_date', datetime.date(2017, 6, 9)), ('sum', 59)]), RealDictRow([('created_date', datetime.date(2020, 4, 22)), ('sum', 320384)]), RealDictRow([('created_date', datetime.date(2019, 11, 4)), ('sum', 3734)]), RealDictRow([('created_date', datetime.date(2020, 3, 31)), ('sum', 347814)]), RealDictRow([('created_date', datetime.date(2019, 7, 18)), ('sum', 23664)]), RealDictRow([('created_date', datetime.date(2019, 5, 18)), ('sum', 4354)]), RealDictRow([('created_date', datetime.date(2020, 8, 5)), ('sum', 47012)]), RealDictRow([('created_date', datetime.date(2013, 1, 22)), ('sum', 1)]), RealDictRow([('created_date', datetime.date(2017, 2, 20)), ('sum', 0)]), RealDictRow([('created_date', datetime.date(2018, 10, 12)), ('sum', 1423)]), RealDictRow([('created_date', datetime.date(2015, 2, 24)), ('sum', 1)]), RealDictRow([('created_date', datetime.date(2012, 8, 6)), ('sum', 0)]), RealDictRow([('created_date', datetime.date(2017, 2, 25)), ('sum', 1041)]), RealDictRow([('created_date', datetime.date(2017, 10, 28)), ('sum', 347)]), RealDictRow([('created_date', datetime.date(2019, 6, 16)), ('sum', 4567)]), RealDictRow([('created_date', datetime.date(2016, 5, 16)), ('sum', 0)]), RealDictRow([('created_date', datetime.date(2015, 12, 12)), ('sum', 9)]), RealDictRow([('created_date', datetime.date(2019, 6, 7)), ('sum', 24058)]), RealDictRow([('created_date', datetime.date(2016, 6, 14)), ('sum', 133)]), RealDictRow([('created_date', datetime.date(2011, 12, 3)), ('sum', 1)]), RealDictRow([('created_date', datetime.date(2020, 9, 25)), ('sum', 1025532)]), RealDictRow([('created_date', datetime.date(2019, 4, 18)), ('sum', 11654)]), RealDictRow([('created_date', datetime.date(2020, 9, 13)), ('sum', 509817)]), RealDictRow([('created_date', datetime.date(2020, 10, 18)), ('sum', 1189174)]), RealDictRow([('created_date', datetime.date(2019, 11, 15)), ('sum', 7087)]), RealDictRow([('created_date', datetime.date(2020, 7, 24)), ('sum', 838080)]), RealDictRow([('created_date', datetime.date(2016, 7, 25)), ('sum', 6)]), RealDictRow([('created_date', datetime.date(2019, 9, 30)), ('sum', 7482)]), RealDictRow([('created_date', datetime.date(2016, 10, 26)), ('sum', 49)]), RealDictRow([('created_date', datetime.date(2020, 4, 10)), ('sum', 401675)]), RealDictRow([('created_date', datetime.date(2016, 4, 28)), ('sum', 862)]), RealDictRow([('created_date', datetime.date(2017, 6, 26)), ('sum', 130)]), RealDictRow([('created_date', datetime.date(2016, 11, 2)), ('sum', 101)]), RealDictRow([('created_date', datetime.date(2016, 11, 1)), ('sum', 0)]), RealDictRow([('created_date', datetime.date(2018, 9, 25)), ('sum', 1398)]), RealDictRow([('created_date', datetime.date(2017, 12, 9)), ('sum', 602)]), RealDictRow([('created_date', datetime.date(2019, 1, 16)), ('sum', 341)]), RealDictRow([('created_date', datetime.date(2019, 3, 18)), ('sum', 7854)]), RealDictRow([('created_date', datetime.date(2017, 7, 22)), ('sum', 0)]), RealDictRow([('created_date', datetime.date(2015, 11, 16)), ('sum', 136)]), RealDictRow([('created_date', datetime.date(2018, 2, 17)), ('sum', 351)]), RealDictRow([('created_date', datetime.date(2020, 1, 26)), ('sum', 12281)]), RealDictRow([('created_date', datetime.date(2017, 12, 19)), ('sum', 483)]), RealDictRow([('created_date', datetime.date(2016, 1, 10)), ('sum', 8)]), RealDictRow([('created_date', datetime.date(2019, 3, 26)), ('sum', 29915)]), RealDictRow([('created_date', datetime.date(2019, 11, 25)), ('sum', 21024)]), RealDictRow([('created_date', datetime.date(2018, 6, 9)), ('sum', 5829)]), RealDictRow([('created_date', datetime.date(2015, 7, 22)), ('sum', 100)]), RealDictRow([('created_date', datetime.date(2018, 7, 6)), ('sum', 1485)]), RealDictRow([('created_date', datetime.date(2015, 9, 7)), ('sum', 0)]), RealDictRow([('created_date', datetime.date(2018, 2, 1)), ('sum', 12006)]), RealDictRow([('created_date', datetime.date(2015, 4, 20)), ('sum', 2)]), RealDictRow([('created_date', datetime.date(2017, 11, 25)), ('sum', 847)]), RealDictRow([('created_date', datetime.date(2016, 11, 4)), ('sum', 1964)]), RealDictRow([('created_date', datetime.date(2016, 12, 17)), ('sum', 4)]), RealDictRow([('created_date', datetime.date(2017, 8, 30)), ('sum', 16)]), RealDictRow([('created_date', datetime.date(2016, 11, 21)), ('sum', 369)]), RealDictRow([('created_date', datetime.date(2016, 6, 13)), ('sum', 0)]), RealDictRow([('created_date', datetime.date(2020, 11, 26)), ('sum', 715886)]), RealDictRow([('created_date', datetime.date(2015, 8, 27)), ('sum', 8)]), RealDictRow([('created_date', datetime.date(2016, 4, 8)), ('sum', 1152)]), RealDictRow([('created_date', datetime.date(2019, 5, 17)), ('sum', 33475)]), RealDictRow([('created_date', datetime.date(2016, 10, 21)), ('sum', 333)]), RealDictRow([('created_date', datetime.date(2016, 1, 1)), ('sum', 193)]), RealDictRow([('created_date', datetime.date(2018, 8, 27)), ('sum', 525)]), RealDictRow([('created_date', datetime.date(2017, 8, 18)), ('sum', 624)]), RealDictRow([('created_date', datetime.date(2013, 3, 26)), ('sum', 0)]), RealDictRow([('created_date', datetime.date(2017, 12, 15)), ('sum', 2552)]), RealDictRow([('created_date', datetime.date(2016, 8, 1)), ('sum', 5)]), RealDictRow([('created_date', datetime.date(2017, 5, 27)), ('sum', 0)]), RealDictRow([('created_date', datetime.date(2015, 6, 16)), ('sum', 0)]), RealDictRow([('created_date', datetime.date(2017, 7, 11)), ('sum', 0)]), RealDictRow([('created_date', datetime.date(2017, 5, 12)), ('sum', 187)]), RealDictRow([('created_date', datetime.date(2018, 6, 16)), ('sum', 1052)]), RealDictRow([('created_date', datetime.date(2019, 6, 2)), ('sum', 593)]), RealDictRow([('created_date', datetime.date(2018, 6, 15)), ('sum', 572)]), RealDictRow([('created_date', datetime.date(2020, 1, 7)), ('sum', 41678)]), RealDictRow([('created_date', datetime.date(2019, 4, 14)), ('sum', 313)]), RealDictRow([('created_date', datetime.date(2021, 1, 1)), ('sum', 847872)]), RealDictRow([('created_date', datetime.date(2021, 1, 6)), ('sum', 849555)]), RealDictRow([('created_date', datetime.date(2015, 12, 19)), ('sum', 93)]), RealDictRow([('created_date', datetime.date(2016, 4, 10)), ('sum', 3021)]), RealDictRow([('created_date', datetime.date(2019, 11, 18)), ('sum', 6417)]), RealDictRow([('created_date', datetime.date(2016, 8, 31)), ('sum', 71)]), RealDictRow([('created_date', datetime.date(2019, 3, 31)), ('sum', 274)]), RealDictRow([('created_date', datetime.date(2017, 10, 29)), ('sum', 511)]), RealDictRow([('created_date', datetime.date(2017, 7, 1)), ('sum', 4859)]), RealDictRow([('created_date', datetime.date(2017, 10, 23)), ('sum', 82)]), RealDictRow([('created_date', datetime.date(2017, 12, 28)), ('sum', 0)]), RealDictRow([('created_date', datetime.date(2019, 2, 12)), ('sum', 0)]), RealDictRow([('created_date', datetime.date(2019, 3, 6)), ('sum', 13280)]), RealDictRow([('created_date', datetime.date(2016, 9, 20)), ('sum', 104)]), RealDictRow([('created_date', datetime.date(2020, 7, 8)), ('sum', 56257)])]\n",
            "26920\n",
            "27459\n",
            "80783\n",
            "491981\n",
            "545263\n",
            "917523\n",
            "1198371\n",
            "1240980\n",
            "1615568\n",
            "1617363\n",
            "2127187\n",
            "2376944\n",
            "RealDictRow([('created_date', datetime.date(2020, 12, 20)), ('sum', 2376944)])\n"
          ]
        }
      ]
    },
    {
      "cell_type": "code",
      "source": [],
      "metadata": {
        "id": "gXkqjPbA04C8"
      },
      "execution_count": 118,
      "outputs": []
    },
    {
      "cell_type": "markdown",
      "source": [
        "#T-Testing"
      ],
      "metadata": {
        "id": "bY9Ri1qqNeEa"
      }
    },
    {
      "cell_type": "markdown",
      "source": [
        "##Per Weekday"
      ],
      "metadata": {
        "id": "AR51OhqyaYRT"
      }
    },
    {
      "cell_type": "code",
      "source": [
        "import numpy as np\n",
        "from scipy import stats\n",
        "import re\n",
        "sum = 0\n",
        "x = 1\n",
        "totalOther = []\n",
        "totalDay = []\n",
        "while x < 8:\n",
        "    query = \"SELECT distinct(status_id),favorites_count FROM twitter.statuses WHERE extract(isodow FROM created_date) = '%d'\" % x\n",
        "    cursor.execute(query) #Executing query\n",
        "    res = cursor.fetchall()\n",
        "\n",
        "    for i in res:\n",
        "        if(x!=1):\n",
        "            totalOther.append(i['favorites_count'])\n",
        "        else:\n",
        "            totalDay.append(i['favorites_count'])\n",
        "    x=x+1\n",
        "\n",
        "\n",
        "\n",
        "totalDay2 = []\n",
        "totalOther2 = []\n",
        "x=1\n",
        "sum2=0\n",
        "while x < 8:\n",
        "    query = \"SELECT distinct(status_id),retweet_count FROM twitter.statuses WHERE extract(isodow FROM created_date) = '%d'\" % x\n",
        "    cursor.execute(query) #Executing query\n",
        "    res = cursor.fetchall()\n",
        "\n",
        "    for i in res:\n",
        "        if(x!=1):\n",
        "            totalOther2.append(i['retweet_count'])\n",
        "        else:\n",
        "            totalDay2.append(i['retweet_count'])\n",
        "    x=x+1\n",
        "\n",
        "\n",
        "\n",
        "print(str(stats.ttest_ind(totalOther, totalDay)))\n",
        "print(str(stats.ttest_ind(totalOther2, totalDay2))) #running a t-test\n",
        "#If we observe a large p-value, for example larger than 0.05 or 0.1, then we cannot reject the null\n",
        "#hypothesis of identical average scores. The null hypothesis here is that the retweet counts averages are the same\n",
        "#If the p-value is smaller than the threshold, e.g. 1%, 5% or 10%,\n",
        "#then we reject the null hypothesis of equal averages.\n",
        "#Therefore even though one of our sub sample groups had a p-value below 0.05 or 0.1, all other groups were above\n",
        "#Having as high as 37.9%. Therefore we cannot reject the null hypthesis: meaning we cannot reject\n",
        "#that the average retweet count between the two groups are the same."
      ],
      "metadata": {
        "colab": {
          "base_uri": "https://localhost:8080/"
        },
        "id": "gxPppaZhNiW7",
        "outputId": "f087e522-9ea5-4eb2-c573-a95a6770e1f4"
      },
      "execution_count": 161,
      "outputs": [
        {
          "output_type": "stream",
          "name": "stdout",
          "text": [
            "TtestResult(statistic=2.6647033197546555, pvalue=0.007708514095540831, df=42829.0)\n",
            "TtestResult(statistic=1.9098304005343465, pvalue=0.05616172668248298, df=42829.0)\n"
          ]
        }
      ]
    },
    {
      "cell_type": "code",
      "source": [
        "import numpy as np\n",
        "from scipy import stats\n",
        "import re\n",
        "sum = 0\n",
        "x = 1\n",
        "y=7\n",
        "totalOther = []\n",
        "totalDay = []\n",
        "totalDay2 = []\n",
        "totalOther2 = []\n",
        "resultsLikes=[]\n",
        "resultsRetweets=[]\n",
        "while y>0:\n",
        "    while x < 8:\n",
        "        query = \"SELECT distinct(status_id),favorites_count FROM twitter.statuses WHERE extract(isodow FROM created_date) = '%d'\" % x\n",
        "        cursor.execute(query) #Executing query\n",
        "        res = cursor.fetchall()\n",
        "\n",
        "        for i in res:\n",
        "            if(x!=y):\n",
        "                totalOther.append(i['favorites_count'])\n",
        "            else:\n",
        "                totalDay.append(i['favorites_count'])\n",
        "\n",
        "        query = \"SELECT distinct(status_id),retweet_count FROM twitter.statuses WHERE extract(isodow FROM created_date) = '%d'\" % x\n",
        "        cursor.execute(query) #Executing query\n",
        "        res = cursor.fetchall()\n",
        "\n",
        "        for i in res:\n",
        "            if(x!=y):\n",
        "                totalOther2.append(i['retweet_count'])\n",
        "            else:\n",
        "                totalDay2.append(i['retweet_count'])\n",
        "        x=x+1\n",
        "    resultsLikes.append(str(stats.ttest_ind(totalOther, totalDay)))\n",
        "    resultsRetweets.append(str(stats.ttest_ind(totalOther2, totalDay2)))\n",
        "    y=y-1\n",
        "\n",
        "\n",
        "\n",
        "print(resultsLikes)\n",
        "\n",
        "\n",
        "\n",
        "\n",
        "\n",
        "\n",
        "#running a t-test\n",
        "#If we observe a large p-value, for example larger than 0.05 or 0.1, then we cannot reject the null\n",
        "#hypothesis of identical average scores. The null hypothesis here is that the retweet counts averages are the same\n",
        "#If the p-value is smaller than the threshold, e.g. 1%, 5% or 10%,\n",
        "#then we reject the null hypothesis of equal averages.\n",
        "#Therefore even though one of our sub sample groups had a p-value below 0.05 or 0.1, all other groups were above\n",
        "#Having as high as 37.9%. Therefore we cannot reject the null hypthesis: meaning we cannot reject\n",
        "#that the average retweet count between the two groups are the same."
      ],
      "metadata": {
        "colab": {
          "base_uri": "https://localhost:8080/"
        },
        "id": "VTSTJYbpmDp8",
        "outputId": "4ee2a53a-a578-4baf-d1af-51a75b583b4b"
      },
      "execution_count": 160,
      "outputs": [
        {
          "output_type": "stream",
          "name": "stdout",
          "text": [
            "['TtestResult(statistic=-3.2708685675096336, pvalue=0.0010730242586626533, df=42829.0)', 'TtestResult(statistic=-3.2708685675096336, pvalue=0.0010730242586626533, df=42829.0)', 'TtestResult(statistic=-3.2708685675096336, pvalue=0.0010730242586626533, df=42829.0)', 'TtestResult(statistic=-3.2708685675096336, pvalue=0.0010730242586626533, df=42829.0)', 'TtestResult(statistic=-3.2708685675096336, pvalue=0.0010730242586626533, df=42829.0)', 'TtestResult(statistic=-3.2708685675096336, pvalue=0.0010730242586626533, df=42829.0)', 'TtestResult(statistic=-3.2708685675096336, pvalue=0.0010730242586626533, df=42829.0)']\n"
          ]
        }
      ]
    },
    {
      "cell_type": "markdown",
      "source": [
        "##Per Week of Month"
      ],
      "metadata": {
        "id": "4-RlqGFaaanD"
      }
    },
    {
      "cell_type": "code",
      "source": [
        "mtotalOther = []\n",
        "mtotalWeek = []\n",
        "mtotalOther2 = []\n",
        "mtotalWeek2 = []\n",
        "x=0\n",
        "y=7\n",
        "sum=0\n",
        "while y<36:\n",
        "    query = \"SELECT distinct(status_id),favorites_count FROM twitter.statuses WHERE extract(day FROM created_date) BETWEEN '%d' and '%d'\" % (x,y)\n",
        "    cursor.execute(query) #Executing query\n",
        "    res = cursor.fetchall()\n",
        "\n",
        "    for counts in res:\n",
        "        if(x!=22):\n",
        "            mtotalOther.append(counts['favorites_count'])\n",
        "        else:\n",
        "            mtotalWeek.append(counts['favorites_count'])\n",
        "\n",
        "\n",
        "\n",
        "    query = \"SELECT distinct(status_id),retweet_count FROM twitter.statuses WHERE extract(day FROM created_date) BETWEEN '%d' and '%d'\" % (x,y)\n",
        "    cursor.execute(query) #Executing query\n",
        "    res = cursor.fetchall()\n",
        "\n",
        "    for num in res:\n",
        "        if(x!=22):\n",
        "            mtotalOther2.append(num['retweet_count'])\n",
        "        else:\n",
        "            mtotalWeek2.append(num['retweet_count'])\n",
        "            sum = sum + num['retweet_count']\n",
        "\n",
        "    #totalsPerWeek.append([num,total,ototal])\n",
        "    x=y+1\n",
        "    if(y==21):\n",
        "        y=y+10\n",
        "    else:\n",
        "        y=y+7\n",
        "\n",
        "\n",
        "print(str(stats.ttest_ind(mtotalOther, mtotalWeek)))\n",
        "print(str(stats.ttest_ind(mtotalOther2, mtotalWeek2)))\n"
      ],
      "metadata": {
        "colab": {
          "base_uri": "https://localhost:8080/"
        },
        "id": "5en7ga52PSN0",
        "outputId": "247b81fb-0853-4ac0-ceeb-2fe7bac2ebaa"
      },
      "execution_count": 126,
      "outputs": [
        {
          "output_type": "stream",
          "name": "stdout",
          "text": [
            "TtestResult(statistic=-2.7476253697687216, pvalue=0.006005365820634144, df=42829.0)\n",
            "TtestResult(statistic=0.2293955109568773, pvalue=0.8185626202846767, df=42829.0)\n"
          ]
        }
      ]
    },
    {
      "cell_type": "markdown",
      "source": [
        "#When does Elon Musk Tweet?"
      ],
      "metadata": {
        "id": "GMB9v-OKXm6F"
      }
    },
    {
      "cell_type": "code",
      "source": [
        "x = 1\n",
        "weekdayCountElon=[]\n",
        "totalElon = 0\n",
        "ototalElon = 0\n",
        "while x < 8:\n",
        "    query = \"SELECT count(distinct(statuses)) FROM twitter.statuses WHERE user_id = '44196397' AND extract(isodow FROM created_date) = '%d'\" % x\n",
        "    cursor.execute(query) #Executing query\n",
        "    res = cursor.fetchall()\n",
        "\n",
        "    weekdayCountElon.append([x,res[0]['count']])\n",
        "\n",
        "    x=x+1\n",
        "\n",
        "\n",
        "print(weekdayCountList)\n",
        "import plotly.express as px\n",
        "fig = px.bar(weekdayCountElon, x=0, y=1, title = \"Tweets by weekday\",labels={'0':'Day of Week','1':'Number of Tweets'})\n",
        "fig.show()\n"
      ],
      "metadata": {
        "colab": {
          "base_uri": "https://localhost:8080/",
          "height": 560
        },
        "id": "hUICwyYFXqaZ",
        "outputId": "93ee65bc-2b5c-4fc6-fcd8-3776e074b3e8"
      },
      "execution_count": 86,
      "outputs": [
        {
          "output_type": "stream",
          "name": "stdout",
          "text": [
            "[[1, 76], [2, 70], [3, 77], [4, 98], [5, 72], [6, 81], [7, 97]]\n"
          ]
        },
        {
          "output_type": "display_data",
          "data": {
            "text/html": [
              "<html>\n",
              "<head><meta charset=\"utf-8\" /></head>\n",
              "<body>\n",
              "    <div>            <script src=\"https://cdnjs.cloudflare.com/ajax/libs/mathjax/2.7.5/MathJax.js?config=TeX-AMS-MML_SVG\"></script><script type=\"text/javascript\">if (window.MathJax && window.MathJax.Hub && window.MathJax.Hub.Config) {window.MathJax.Hub.Config({SVG: {font: \"STIX-Web\"}});}</script>                <script type=\"text/javascript\">window.PlotlyConfig = {MathJaxConfig: 'local'};</script>\n",
              "        <script charset=\"utf-8\" src=\"https://cdn.plot.ly/plotly-2.24.1.min.js\"></script>                <div id=\"6bbc841a-850a-43d2-9417-cc90a6cf14c3\" class=\"plotly-graph-div\" style=\"height:525px; width:100%;\"></div>            <script type=\"text/javascript\">                                    window.PLOTLYENV=window.PLOTLYENV || {};                                    if (document.getElementById(\"6bbc841a-850a-43d2-9417-cc90a6cf14c3\")) {                    Plotly.newPlot(                        \"6bbc841a-850a-43d2-9417-cc90a6cf14c3\",                        [{\"alignmentgroup\":\"True\",\"hovertemplate\":\"Day of Week=%{x}\\u003cbr\\u003eNumber of Tweets=%{y}\\u003cextra\\u003e\\u003c\\u002fextra\\u003e\",\"legendgroup\":\"\",\"marker\":{\"color\":\"#636efa\",\"pattern\":{\"shape\":\"\"}},\"name\":\"\",\"offsetgroup\":\"\",\"orientation\":\"v\",\"showlegend\":false,\"textposition\":\"auto\",\"x\":[1,2,3,4,5,6,7],\"xaxis\":\"x\",\"y\":[76,70,77,98,72,81,97],\"yaxis\":\"y\",\"type\":\"bar\"}],                        {\"template\":{\"data\":{\"histogram2dcontour\":[{\"type\":\"histogram2dcontour\",\"colorbar\":{\"outlinewidth\":0,\"ticks\":\"\"},\"colorscale\":[[0.0,\"#0d0887\"],[0.1111111111111111,\"#46039f\"],[0.2222222222222222,\"#7201a8\"],[0.3333333333333333,\"#9c179e\"],[0.4444444444444444,\"#bd3786\"],[0.5555555555555556,\"#d8576b\"],[0.6666666666666666,\"#ed7953\"],[0.7777777777777778,\"#fb9f3a\"],[0.8888888888888888,\"#fdca26\"],[1.0,\"#f0f921\"]]}],\"choropleth\":[{\"type\":\"choropleth\",\"colorbar\":{\"outlinewidth\":0,\"ticks\":\"\"}}],\"histogram2d\":[{\"type\":\"histogram2d\",\"colorbar\":{\"outlinewidth\":0,\"ticks\":\"\"},\"colorscale\":[[0.0,\"#0d0887\"],[0.1111111111111111,\"#46039f\"],[0.2222222222222222,\"#7201a8\"],[0.3333333333333333,\"#9c179e\"],[0.4444444444444444,\"#bd3786\"],[0.5555555555555556,\"#d8576b\"],[0.6666666666666666,\"#ed7953\"],[0.7777777777777778,\"#fb9f3a\"],[0.8888888888888888,\"#fdca26\"],[1.0,\"#f0f921\"]]}],\"heatmap\":[{\"type\":\"heatmap\",\"colorbar\":{\"outlinewidth\":0,\"ticks\":\"\"},\"colorscale\":[[0.0,\"#0d0887\"],[0.1111111111111111,\"#46039f\"],[0.2222222222222222,\"#7201a8\"],[0.3333333333333333,\"#9c179e\"],[0.4444444444444444,\"#bd3786\"],[0.5555555555555556,\"#d8576b\"],[0.6666666666666666,\"#ed7953\"],[0.7777777777777778,\"#fb9f3a\"],[0.8888888888888888,\"#fdca26\"],[1.0,\"#f0f921\"]]}],\"heatmapgl\":[{\"type\":\"heatmapgl\",\"colorbar\":{\"outlinewidth\":0,\"ticks\":\"\"},\"colorscale\":[[0.0,\"#0d0887\"],[0.1111111111111111,\"#46039f\"],[0.2222222222222222,\"#7201a8\"],[0.3333333333333333,\"#9c179e\"],[0.4444444444444444,\"#bd3786\"],[0.5555555555555556,\"#d8576b\"],[0.6666666666666666,\"#ed7953\"],[0.7777777777777778,\"#fb9f3a\"],[0.8888888888888888,\"#fdca26\"],[1.0,\"#f0f921\"]]}],\"contourcarpet\":[{\"type\":\"contourcarpet\",\"colorbar\":{\"outlinewidth\":0,\"ticks\":\"\"}}],\"contour\":[{\"type\":\"contour\",\"colorbar\":{\"outlinewidth\":0,\"ticks\":\"\"},\"colorscale\":[[0.0,\"#0d0887\"],[0.1111111111111111,\"#46039f\"],[0.2222222222222222,\"#7201a8\"],[0.3333333333333333,\"#9c179e\"],[0.4444444444444444,\"#bd3786\"],[0.5555555555555556,\"#d8576b\"],[0.6666666666666666,\"#ed7953\"],[0.7777777777777778,\"#fb9f3a\"],[0.8888888888888888,\"#fdca26\"],[1.0,\"#f0f921\"]]}],\"surface\":[{\"type\":\"surface\",\"colorbar\":{\"outlinewidth\":0,\"ticks\":\"\"},\"colorscale\":[[0.0,\"#0d0887\"],[0.1111111111111111,\"#46039f\"],[0.2222222222222222,\"#7201a8\"],[0.3333333333333333,\"#9c179e\"],[0.4444444444444444,\"#bd3786\"],[0.5555555555555556,\"#d8576b\"],[0.6666666666666666,\"#ed7953\"],[0.7777777777777778,\"#fb9f3a\"],[0.8888888888888888,\"#fdca26\"],[1.0,\"#f0f921\"]]}],\"mesh3d\":[{\"type\":\"mesh3d\",\"colorbar\":{\"outlinewidth\":0,\"ticks\":\"\"}}],\"scatter\":[{\"fillpattern\":{\"fillmode\":\"overlay\",\"size\":10,\"solidity\":0.2},\"type\":\"scatter\"}],\"parcoords\":[{\"type\":\"parcoords\",\"line\":{\"colorbar\":{\"outlinewidth\":0,\"ticks\":\"\"}}}],\"scatterpolargl\":[{\"type\":\"scatterpolargl\",\"marker\":{\"colorbar\":{\"outlinewidth\":0,\"ticks\":\"\"}}}],\"bar\":[{\"error_x\":{\"color\":\"#2a3f5f\"},\"error_y\":{\"color\":\"#2a3f5f\"},\"marker\":{\"line\":{\"color\":\"#E5ECF6\",\"width\":0.5},\"pattern\":{\"fillmode\":\"overlay\",\"size\":10,\"solidity\":0.2}},\"type\":\"bar\"}],\"scattergeo\":[{\"type\":\"scattergeo\",\"marker\":{\"colorbar\":{\"outlinewidth\":0,\"ticks\":\"\"}}}],\"scatterpolar\":[{\"type\":\"scatterpolar\",\"marker\":{\"colorbar\":{\"outlinewidth\":0,\"ticks\":\"\"}}}],\"histogram\":[{\"marker\":{\"pattern\":{\"fillmode\":\"overlay\",\"size\":10,\"solidity\":0.2}},\"type\":\"histogram\"}],\"scattergl\":[{\"type\":\"scattergl\",\"marker\":{\"colorbar\":{\"outlinewidth\":0,\"ticks\":\"\"}}}],\"scatter3d\":[{\"type\":\"scatter3d\",\"line\":{\"colorbar\":{\"outlinewidth\":0,\"ticks\":\"\"}},\"marker\":{\"colorbar\":{\"outlinewidth\":0,\"ticks\":\"\"}}}],\"scattermapbox\":[{\"type\":\"scattermapbox\",\"marker\":{\"colorbar\":{\"outlinewidth\":0,\"ticks\":\"\"}}}],\"scatterternary\":[{\"type\":\"scatterternary\",\"marker\":{\"colorbar\":{\"outlinewidth\":0,\"ticks\":\"\"}}}],\"scattercarpet\":[{\"type\":\"scattercarpet\",\"marker\":{\"colorbar\":{\"outlinewidth\":0,\"ticks\":\"\"}}}],\"carpet\":[{\"aaxis\":{\"endlinecolor\":\"#2a3f5f\",\"gridcolor\":\"white\",\"linecolor\":\"white\",\"minorgridcolor\":\"white\",\"startlinecolor\":\"#2a3f5f\"},\"baxis\":{\"endlinecolor\":\"#2a3f5f\",\"gridcolor\":\"white\",\"linecolor\":\"white\",\"minorgridcolor\":\"white\",\"startlinecolor\":\"#2a3f5f\"},\"type\":\"carpet\"}],\"table\":[{\"cells\":{\"fill\":{\"color\":\"#EBF0F8\"},\"line\":{\"color\":\"white\"}},\"header\":{\"fill\":{\"color\":\"#C8D4E3\"},\"line\":{\"color\":\"white\"}},\"type\":\"table\"}],\"barpolar\":[{\"marker\":{\"line\":{\"color\":\"#E5ECF6\",\"width\":0.5},\"pattern\":{\"fillmode\":\"overlay\",\"size\":10,\"solidity\":0.2}},\"type\":\"barpolar\"}],\"pie\":[{\"automargin\":true,\"type\":\"pie\"}]},\"layout\":{\"autotypenumbers\":\"strict\",\"colorway\":[\"#636efa\",\"#EF553B\",\"#00cc96\",\"#ab63fa\",\"#FFA15A\",\"#19d3f3\",\"#FF6692\",\"#B6E880\",\"#FF97FF\",\"#FECB52\"],\"font\":{\"color\":\"#2a3f5f\"},\"hovermode\":\"closest\",\"hoverlabel\":{\"align\":\"left\"},\"paper_bgcolor\":\"white\",\"plot_bgcolor\":\"#E5ECF6\",\"polar\":{\"bgcolor\":\"#E5ECF6\",\"angularaxis\":{\"gridcolor\":\"white\",\"linecolor\":\"white\",\"ticks\":\"\"},\"radialaxis\":{\"gridcolor\":\"white\",\"linecolor\":\"white\",\"ticks\":\"\"}},\"ternary\":{\"bgcolor\":\"#E5ECF6\",\"aaxis\":{\"gridcolor\":\"white\",\"linecolor\":\"white\",\"ticks\":\"\"},\"baxis\":{\"gridcolor\":\"white\",\"linecolor\":\"white\",\"ticks\":\"\"},\"caxis\":{\"gridcolor\":\"white\",\"linecolor\":\"white\",\"ticks\":\"\"}},\"coloraxis\":{\"colorbar\":{\"outlinewidth\":0,\"ticks\":\"\"}},\"colorscale\":{\"sequential\":[[0.0,\"#0d0887\"],[0.1111111111111111,\"#46039f\"],[0.2222222222222222,\"#7201a8\"],[0.3333333333333333,\"#9c179e\"],[0.4444444444444444,\"#bd3786\"],[0.5555555555555556,\"#d8576b\"],[0.6666666666666666,\"#ed7953\"],[0.7777777777777778,\"#fb9f3a\"],[0.8888888888888888,\"#fdca26\"],[1.0,\"#f0f921\"]],\"sequentialminus\":[[0.0,\"#0d0887\"],[0.1111111111111111,\"#46039f\"],[0.2222222222222222,\"#7201a8\"],[0.3333333333333333,\"#9c179e\"],[0.4444444444444444,\"#bd3786\"],[0.5555555555555556,\"#d8576b\"],[0.6666666666666666,\"#ed7953\"],[0.7777777777777778,\"#fb9f3a\"],[0.8888888888888888,\"#fdca26\"],[1.0,\"#f0f921\"]],\"diverging\":[[0,\"#8e0152\"],[0.1,\"#c51b7d\"],[0.2,\"#de77ae\"],[0.3,\"#f1b6da\"],[0.4,\"#fde0ef\"],[0.5,\"#f7f7f7\"],[0.6,\"#e6f5d0\"],[0.7,\"#b8e186\"],[0.8,\"#7fbc41\"],[0.9,\"#4d9221\"],[1,\"#276419\"]]},\"xaxis\":{\"gridcolor\":\"white\",\"linecolor\":\"white\",\"ticks\":\"\",\"title\":{\"standoff\":15},\"zerolinecolor\":\"white\",\"automargin\":true,\"zerolinewidth\":2},\"yaxis\":{\"gridcolor\":\"white\",\"linecolor\":\"white\",\"ticks\":\"\",\"title\":{\"standoff\":15},\"zerolinecolor\":\"white\",\"automargin\":true,\"zerolinewidth\":2},\"scene\":{\"xaxis\":{\"backgroundcolor\":\"#E5ECF6\",\"gridcolor\":\"white\",\"linecolor\":\"white\",\"showbackground\":true,\"ticks\":\"\",\"zerolinecolor\":\"white\",\"gridwidth\":2},\"yaxis\":{\"backgroundcolor\":\"#E5ECF6\",\"gridcolor\":\"white\",\"linecolor\":\"white\",\"showbackground\":true,\"ticks\":\"\",\"zerolinecolor\":\"white\",\"gridwidth\":2},\"zaxis\":{\"backgroundcolor\":\"#E5ECF6\",\"gridcolor\":\"white\",\"linecolor\":\"white\",\"showbackground\":true,\"ticks\":\"\",\"zerolinecolor\":\"white\",\"gridwidth\":2}},\"shapedefaults\":{\"line\":{\"color\":\"#2a3f5f\"}},\"annotationdefaults\":{\"arrowcolor\":\"#2a3f5f\",\"arrowhead\":0,\"arrowwidth\":1},\"geo\":{\"bgcolor\":\"white\",\"landcolor\":\"#E5ECF6\",\"subunitcolor\":\"white\",\"showland\":true,\"showlakes\":true,\"lakecolor\":\"white\"},\"title\":{\"x\":0.05},\"mapbox\":{\"style\":\"light\"}}},\"xaxis\":{\"anchor\":\"y\",\"domain\":[0.0,1.0],\"title\":{\"text\":\"Day of Week\"}},\"yaxis\":{\"anchor\":\"x\",\"domain\":[0.0,1.0],\"title\":{\"text\":\"Number of Tweets\"}},\"legend\":{\"tracegroupgap\":0},\"title\":{\"text\":\"Tweets by weekday\"},\"barmode\":\"relative\"},                        {\"responsive\": true}                    ).then(function(){\n",
              "                            \n",
              "var gd = document.getElementById('6bbc841a-850a-43d2-9417-cc90a6cf14c3');\n",
              "var x = new MutationObserver(function (mutations, observer) {{\n",
              "        var display = window.getComputedStyle(gd).display;\n",
              "        if (!display || display === 'none') {{\n",
              "            console.log([gd, 'removed!']);\n",
              "            Plotly.purge(gd);\n",
              "            observer.disconnect();\n",
              "        }}\n",
              "}});\n",
              "\n",
              "// Listen for the removal of the full notebook cells\n",
              "var notebookContainer = gd.closest('#notebook-container');\n",
              "if (notebookContainer) {{\n",
              "    x.observe(notebookContainer, {childList: true});\n",
              "}}\n",
              "\n",
              "// Listen for the clearing of the current output cell\n",
              "var outputEl = gd.closest('.output');\n",
              "if (outputEl) {{\n",
              "    x.observe(outputEl, {childList: true});\n",
              "}}\n",
              "\n",
              "                        })                };                            </script>        </div>\n",
              "</body>\n",
              "</html>"
            ]
          },
          "metadata": {}
        }
      ]
    },
    {
      "cell_type": "markdown",
      "source": [
        "#Putting It All Together"
      ],
      "metadata": {
        "id": "oP9TOlVke7yt"
      }
    },
    {
      "cell_type": "code",
      "source": [
        "query = \"SELECT favorites_count FROM twitter.statuses WHERE extract(isodow FROM created_date) = '5' AND extract(day FROM created_date) BETWEEN '22' and '32'\"\n",
        "cursor.execute(query) #Executing query\n",
        "res = cursor.fetchall()\n",
        "bestTweets = []\n",
        "for x in res:\n",
        "    bestTweets.append(x['favorites_count'])\n",
        "\n",
        "\n",
        "query = \"SELECT favorites_count FROM twitter.statuses WHERE extract(isodow FROM created_date) != '5' AND extract(day FROM created_date) NOT BETWEEN '22' and '32'\"\n",
        "cursor.execute(query) #Executing query\n",
        "res = cursor.fetchall()\n",
        "otherTweets = []\n",
        "for x in res:\n",
        "    otherTweets.append(x['favorites_count'])\n",
        "\n",
        "print(str(stats.ttest_ind(otherTweets, bestTweets)))"
      ],
      "metadata": {
        "colab": {
          "base_uri": "https://localhost:8080/"
        },
        "id": "ijfTpE4KfB2s",
        "outputId": "3a746705-ed2c-4194-e83b-f9da471896b6"
      },
      "execution_count": 165,
      "outputs": [
        {
          "output_type": "stream",
          "name": "stdout",
          "text": [
            "TtestResult(statistic=-4.398376407348794, pvalue=1.0947066550226364e-05, df=27659.0)\n"
          ]
        }
      ]
    },
    {
      "cell_type": "code",
      "source": [
        "query = \"SELECT retweet_count FROM twitter.statuses WHERE extract(isodow FROM created_date) = '6' AND extract(day FROM created_date) BETWEEN '1' and '7'\"\n",
        "cursor.execute(query) #Executing query\n",
        "res = cursor.fetchall()\n",
        "bestTweets = []\n",
        "for x in res:\n",
        "    bestTweets.append(x['retweet_count'])\n",
        "\n",
        "\n",
        "query = \"SELECT retweet_count FROM twitter.statuses WHERE extract(isodow FROM created_date) != '6' AND extract(day FROM created_date) NOT BETWEEN '1' and '7'\"\n",
        "cursor.execute(query) #Executing query\n",
        "res = cursor.fetchall()\n",
        "otherTweets = []\n",
        "for x in res:\n",
        "    otherTweets.append(x['retweet_count'])\n",
        "\n",
        "print(str(stats.ttest_ind(otherTweets, bestTweets)))"
      ],
      "metadata": {
        "colab": {
          "base_uri": "https://localhost:8080/"
        },
        "id": "-QA7hV8Wfd2e",
        "outputId": "a56fab7e-8918-43d7-f291-84d0acc706d0"
      },
      "execution_count": 163,
      "outputs": [
        {
          "output_type": "stream",
          "name": "stdout",
          "text": [
            "TtestResult(statistic=-5.168866635358705, pvalue=2.3703694891158435e-07, df=29787.0)\n"
          ]
        }
      ]
    },
    {
      "cell_type": "code",
      "source": [],
      "metadata": {
        "id": "qbr_ohwT5V2f"
      },
      "execution_count": null,
      "outputs": []
    }
  ]
}